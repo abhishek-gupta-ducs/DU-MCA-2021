{
  "nbformat": 4,
  "nbformat_minor": 0,
  "metadata": {
    "colab": {
      "provenance": []
    },
    "kernelspec": {
      "name": "python3",
      "display_name": "Python 3"
    },
    "language_info": {
      "name": "python"
    }
  },
  "cells": [
    {
      "cell_type": "code",
      "execution_count": null,
      "metadata": {
        "id": "vXt0NQZrdbZR"
      },
      "outputs": [],
      "source": [
        "import math\n",
        "import pandas as pd\n",
        "from operator import itemgetter"
      ]
    },
    {
      "cell_type": "markdown",
      "source": [
        "Simple Decision Tree Class"
      ],
      "metadata": {
        "id": "FxFiqIVld6uk"
      }
    },
    {
      "cell_type": "code",
      "source": [
        "class DecisionTree:\n",
        "    def __init__(self, df, target, positive, parent_val, parent):\n",
        "        self.data = df\n",
        "        self.target = target\n",
        "        self.positive = positive\n",
        "        self.parent_val = parent_val\n",
        "        self.parent = parent\n",
        "        self.childs = []\n",
        "        self.decision = ''\n",
        "\n",
        "    def _get_entropy(self, data):\n",
        "        p = sum(data[self.target]==self.positive)\n",
        "        n = data.shape[0] - p\n",
        "        p_ratio = p/(p+n)\n",
        "        n_ratio = 1 - p_ratio\n",
        "        entropy_p = -p_ratio*math.log2(p_ratio) if p_ratio != 0 else 0\n",
        "        entropy_n = - n_ratio*math.log2(n_ratio) if n_ratio !=0 else 0\n",
        "        return entropy_p + entropy_n\n",
        "    \n",
        "    def _get_gain(self, feat):\n",
        "        avg_info=0\n",
        "        for val in self.data[feat].unique():\n",
        "            avg_info+=self._get_entropy(self.data[self.data[feat] == val])*sum(self.data[feat]==val)/self.data.shape[0]\n",
        "        return self._get_entropy(df) - avg_info\n",
        "    \n",
        "    def _get_splitter(self):\n",
        "        self.splitter = max(self.gains, key = itemgetter(1))[0] \n",
        "    \n",
        "    def update_nodes(self):\n",
        "        self.features = [col for col in self.data.columns if col != self.target]\n",
        "        self.entropy = self._get_entropy(self.data)\n",
        "        if self.entropy != 0:\n",
        "            self.gains = [(feat, self._get_gain(feat)) for feat in self.features]\n",
        "            self._get_splitter()\n",
        "            residual_columns = [k for k in self.data.columns if k != self.splitter]\n",
        "            for val in self.data[self.splitter].unique():\n",
        "                df_tmp = self.data[self.data[self.splitter]==val][residual_columns]\n",
        "                tmp_node = DecisionTree(df_tmp, self.target, self.positive, val, self.splitter)\n",
        "                tmp_node.update_nodes()\n",
        "                self.childs.append(tmp_node)"
      ],
      "metadata": {
        "id": "kCSmhDEceKAj"
      },
      "execution_count": null,
      "outputs": []
    },
    {
      "cell_type": "markdown",
      "source": [
        "Printing the tree"
      ],
      "metadata": {
        "id": "THqlmJtAem9D"
      }
    },
    {
      "cell_type": "code",
      "source": [
        "def print_tree(n):\n",
        "    for child in n.childs:\n",
        "        if child:\n",
        "            print(child.__dict__.get('parent', ''))\n",
        "            print(child.__dict__.get('parent_val', ''), '\\n')\n",
        "            print_tree(child)"
      ],
      "metadata": {
        "id": "KQzWH2Idetmj"
      },
      "execution_count": null,
      "outputs": []
    },
    {
      "cell_type": "markdown",
      "source": [
        "Sample run"
      ],
      "metadata": {
        "id": "tKFVoTe6e1eq"
      }
    },
    {
      "cell_type": "markdown",
      "source": [
        "[Click here to download \"Weather.csv\"](https://drive.google.com/file/d/1EJCo2XUSQWqCN9UxU9TbYm5Dnq1N_Bv6/view?usp=share_link)"
      ],
      "metadata": {
        "id": "1nti3GXXG8is"
      }
    },
    {
      "cell_type": "code",
      "source": [
        "df = pd.read_csv('weather.csv')\n",
        "df.head()"
      ],
      "metadata": {
        "colab": {
          "base_uri": "https://localhost:8080/",
          "height": 206
        },
        "id": "AyUblXOpeyES",
        "outputId": "95b8ff8c-33e7-4c43-c18d-3d482b3d44d5"
      },
      "execution_count": null,
      "outputs": [
        {
          "output_type": "execute_result",
          "data": {
            "text/plain": [
              "    outlook temperature humidity  windy play\n",
              "0  overcast         hot     high  False  yes\n",
              "1  overcast        cool   normal   True  yes\n",
              "2  overcast        mild     high   True  yes\n",
              "3  overcast         hot   normal  False  yes\n",
              "4     rainy        mild     high  False  yes"
            ],
            "text/html": [
              "\n",
              "  <div id=\"df-9f317d09-afc8-4f4a-9ba0-6a97416034e8\">\n",
              "    <div class=\"colab-df-container\">\n",
              "      <div>\n",
              "<style scoped>\n",
              "    .dataframe tbody tr th:only-of-type {\n",
              "        vertical-align: middle;\n",
              "    }\n",
              "\n",
              "    .dataframe tbody tr th {\n",
              "        vertical-align: top;\n",
              "    }\n",
              "\n",
              "    .dataframe thead th {\n",
              "        text-align: right;\n",
              "    }\n",
              "</style>\n",
              "<table border=\"1\" class=\"dataframe\">\n",
              "  <thead>\n",
              "    <tr style=\"text-align: right;\">\n",
              "      <th></th>\n",
              "      <th>outlook</th>\n",
              "      <th>temperature</th>\n",
              "      <th>humidity</th>\n",
              "      <th>windy</th>\n",
              "      <th>play</th>\n",
              "    </tr>\n",
              "  </thead>\n",
              "  <tbody>\n",
              "    <tr>\n",
              "      <th>0</th>\n",
              "      <td>overcast</td>\n",
              "      <td>hot</td>\n",
              "      <td>high</td>\n",
              "      <td>False</td>\n",
              "      <td>yes</td>\n",
              "    </tr>\n",
              "    <tr>\n",
              "      <th>1</th>\n",
              "      <td>overcast</td>\n",
              "      <td>cool</td>\n",
              "      <td>normal</td>\n",
              "      <td>True</td>\n",
              "      <td>yes</td>\n",
              "    </tr>\n",
              "    <tr>\n",
              "      <th>2</th>\n",
              "      <td>overcast</td>\n",
              "      <td>mild</td>\n",
              "      <td>high</td>\n",
              "      <td>True</td>\n",
              "      <td>yes</td>\n",
              "    </tr>\n",
              "    <tr>\n",
              "      <th>3</th>\n",
              "      <td>overcast</td>\n",
              "      <td>hot</td>\n",
              "      <td>normal</td>\n",
              "      <td>False</td>\n",
              "      <td>yes</td>\n",
              "    </tr>\n",
              "    <tr>\n",
              "      <th>4</th>\n",
              "      <td>rainy</td>\n",
              "      <td>mild</td>\n",
              "      <td>high</td>\n",
              "      <td>False</td>\n",
              "      <td>yes</td>\n",
              "    </tr>\n",
              "  </tbody>\n",
              "</table>\n",
              "</div>\n",
              "      <button class=\"colab-df-convert\" onclick=\"convertToInteractive('df-9f317d09-afc8-4f4a-9ba0-6a97416034e8')\"\n",
              "              title=\"Convert this dataframe to an interactive table.\"\n",
              "              style=\"display:none;\">\n",
              "        \n",
              "  <svg xmlns=\"http://www.w3.org/2000/svg\" height=\"24px\"viewBox=\"0 0 24 24\"\n",
              "       width=\"24px\">\n",
              "    <path d=\"M0 0h24v24H0V0z\" fill=\"none\"/>\n",
              "    <path d=\"M18.56 5.44l.94 2.06.94-2.06 2.06-.94-2.06-.94-.94-2.06-.94 2.06-2.06.94zm-11 1L8.5 8.5l.94-2.06 2.06-.94-2.06-.94L8.5 2.5l-.94 2.06-2.06.94zm10 10l.94 2.06.94-2.06 2.06-.94-2.06-.94-.94-2.06-.94 2.06-2.06.94z\"/><path d=\"M17.41 7.96l-1.37-1.37c-.4-.4-.92-.59-1.43-.59-.52 0-1.04.2-1.43.59L10.3 9.45l-7.72 7.72c-.78.78-.78 2.05 0 2.83L4 21.41c.39.39.9.59 1.41.59.51 0 1.02-.2 1.41-.59l7.78-7.78 2.81-2.81c.8-.78.8-2.07 0-2.86zM5.41 20L4 18.59l7.72-7.72 1.47 1.35L5.41 20z\"/>\n",
              "  </svg>\n",
              "      </button>\n",
              "      \n",
              "  <style>\n",
              "    .colab-df-container {\n",
              "      display:flex;\n",
              "      flex-wrap:wrap;\n",
              "      gap: 12px;\n",
              "    }\n",
              "\n",
              "    .colab-df-convert {\n",
              "      background-color: #E8F0FE;\n",
              "      border: none;\n",
              "      border-radius: 50%;\n",
              "      cursor: pointer;\n",
              "      display: none;\n",
              "      fill: #1967D2;\n",
              "      height: 32px;\n",
              "      padding: 0 0 0 0;\n",
              "      width: 32px;\n",
              "    }\n",
              "\n",
              "    .colab-df-convert:hover {\n",
              "      background-color: #E2EBFA;\n",
              "      box-shadow: 0px 1px 2px rgba(60, 64, 67, 0.3), 0px 1px 3px 1px rgba(60, 64, 67, 0.15);\n",
              "      fill: #174EA6;\n",
              "    }\n",
              "\n",
              "    [theme=dark] .colab-df-convert {\n",
              "      background-color: #3B4455;\n",
              "      fill: #D2E3FC;\n",
              "    }\n",
              "\n",
              "    [theme=dark] .colab-df-convert:hover {\n",
              "      background-color: #434B5C;\n",
              "      box-shadow: 0px 1px 3px 1px rgba(0, 0, 0, 0.15);\n",
              "      filter: drop-shadow(0px 1px 2px rgba(0, 0, 0, 0.3));\n",
              "      fill: #FFFFFF;\n",
              "    }\n",
              "  </style>\n",
              "\n",
              "      <script>\n",
              "        const buttonEl =\n",
              "          document.querySelector('#df-9f317d09-afc8-4f4a-9ba0-6a97416034e8 button.colab-df-convert');\n",
              "        buttonEl.style.display =\n",
              "          google.colab.kernel.accessAllowed ? 'block' : 'none';\n",
              "\n",
              "        async function convertToInteractive(key) {\n",
              "          const element = document.querySelector('#df-9f317d09-afc8-4f4a-9ba0-6a97416034e8');\n",
              "          const dataTable =\n",
              "            await google.colab.kernel.invokeFunction('convertToInteractive',\n",
              "                                                     [key], {});\n",
              "          if (!dataTable) return;\n",
              "\n",
              "          const docLinkHtml = 'Like what you see? Visit the ' +\n",
              "            '<a target=\"_blank\" href=https://colab.research.google.com/notebooks/data_table.ipynb>data table notebook</a>'\n",
              "            + ' to learn more about interactive tables.';\n",
              "          element.innerHTML = '';\n",
              "          dataTable['output_type'] = 'display_data';\n",
              "          await google.colab.output.renderOutput(dataTable, element);\n",
              "          const docLink = document.createElement('div');\n",
              "          docLink.innerHTML = docLinkHtml;\n",
              "          element.appendChild(docLink);\n",
              "        }\n",
              "      </script>\n",
              "    </div>\n",
              "  </div>\n",
              "  "
            ]
          },
          "metadata": {},
          "execution_count": 7
        }
      ]
    },
    {
      "cell_type": "code",
      "source": [
        "dt = DecisionTree(df, 'play', 'yes', '', '')\n",
        "dt.update_nodes()\n",
        "print_tree(dt)"
      ],
      "metadata": {
        "colab": {
          "base_uri": "https://localhost:8080/"
        },
        "id": "Liw1VfAPgrzD",
        "outputId": "d5db8184-ded4-4d49-aea9-e024b12c366a"
      },
      "execution_count": null,
      "outputs": [
        {
          "output_type": "stream",
          "name": "stdout",
          "text": [
            "outlook\n",
            "overcast \n",
            "\n",
            "outlook\n",
            "rainy \n",
            "\n",
            "windy\n",
            "False \n",
            "\n",
            "windy\n",
            "True \n",
            "\n",
            "outlook\n",
            "sunny \n",
            "\n",
            "humidity\n",
            "high \n",
            "\n",
            "humidity\n",
            "normal \n",
            "\n"
          ]
        }
      ]
    }
  ]
}