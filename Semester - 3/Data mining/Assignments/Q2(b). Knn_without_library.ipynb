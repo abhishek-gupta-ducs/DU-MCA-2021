{
  "nbformat": 4,
  "nbformat_minor": 0,
  "metadata": {
    "colab": {
      "provenance": []
    },
    "kernelspec": {
      "name": "python3",
      "display_name": "Python 3"
    },
    "language_info": {
      "name": "python"
    }
  },
  "cells": [
    {
      "cell_type": "markdown",
      "source": [
        "#Importing libraries"
      ],
      "metadata": {
        "id": "CgKG3qi9iuXR"
      }
    },
    {
      "cell_type": "code",
      "execution_count": null,
      "metadata": {
        "id": "6PpeekCHhLT_"
      },
      "outputs": [],
      "source": [
        "from math import sqrt\n",
        "import numpy as np"
      ]
    },
    {
      "cell_type": "markdown",
      "source": [
        "#Step 1 : Finding Euclidean Distance"
      ],
      "metadata": {
        "id": "6pv4JQw9iysu"
      }
    },
    {
      "cell_type": "code",
      "source": [
        "def Euclidean_distance(row1, row2):\n",
        "    distance = 0\n",
        "    for i in range(len(row1)-1):\n",
        "        distance += (row1[i] - row2[i])**2            #(x1-x2)**2+(y1-y2)**2\n",
        "    return sqrt(distance)"
      ],
      "metadata": {
        "id": "-4v9xXr8i3u3"
      },
      "execution_count": null,
      "outputs": []
    },
    {
      "cell_type": "markdown",
      "source": [
        "#Step 2 : Finding the Nearest Neighbor"
      ],
      "metadata": {
        "id": "JI2gN3HIi-F0"
      }
    },
    {
      "cell_type": "code",
      "source": [
        "def Get_Neighbors(train, test_row, num_neighbors):\n",
        " distances = list()\n",
        " for train_row in train:\n",
        "  dist = Euclidean_distance(test_row, train_row)\n",
        "  distances.append((train_row, dist))\n",
        " distances.sort(key=lambda tup: tup[1])\n",
        " neighbors = list()\n",
        " for i in range(num_neighbors):\n",
        "  neighbors.append(distances[i][0])\n",
        " return neighbors"
      ],
      "metadata": {
        "id": "veHMnVlSna7S"
      },
      "execution_count": null,
      "outputs": []
    },
    {
      "cell_type": "markdown",
      "source": [
        "#Step 3: Predict Classification(class)"
      ],
      "metadata": {
        "id": "1SSM5yJ2kNfe"
      }
    },
    {
      "cell_type": "code",
      "source": [
        "def predict_classification(train, test_row, num):\n",
        "    Neighbors = Get_Neighbors(train, test_row, num)\n",
        "    Classes = []\n",
        "    for i in Neighbors:\n",
        "        Classes.append(i[-1])\n",
        "    prediction = max(Classes, key= Classes.count)\n",
        "    return prediction"
      ],
      "metadata": {
        "id": "jIZvUSTkkKCi"
      },
      "execution_count": null,
      "outputs": []
    },
    {
      "cell_type": "markdown",
      "source": [
        "#Step 04: FInding accuracy"
      ],
      "metadata": {
        "id": "CWsAtqHNlUB1"
      }
    },
    {
      "cell_type": "code",
      "source": [
        "def Evaluate(y_true, y_pred):\n",
        "    n_correct = 0\n",
        "    for i in range(len(y_true)):\n",
        "        if y_true[i] == y_pred[i]:\n",
        "            n_correct += 1\n",
        "    acc = n_correct/len(y_true)\n",
        "    return acc"
      ],
      "metadata": {
        "id": "NO0_0l1RlYgI"
      },
      "execution_count": null,
      "outputs": []
    },
    {
      "cell_type": "markdown",
      "source": [
        "#let's check it on our iris dataset that we used in knn with library implementation"
      ],
      "metadata": {
        "id": "OWlX6cqLkUMK"
      }
    },
    {
      "cell_type": "code",
      "source": [
        "from sklearn.datasets import load_iris\n",
        "from sklearn.model_selection import train_test_split\n",
        "import pandas as pd"
      ],
      "metadata": {
        "id": "TXY1cT0Nkb5M"
      },
      "execution_count": 55,
      "outputs": []
    },
    {
      "cell_type": "markdown",
      "source": [
        "loading dataset"
      ],
      "metadata": {
        "id": "248jVHTop73n"
      }
    },
    {
      "cell_type": "code",
      "source": [
        "iris = load_iris()"
      ],
      "metadata": {
        "id": "V0HhtUDokvdx"
      },
      "execution_count": 56,
      "outputs": []
    },
    {
      "cell_type": "markdown",
      "source": [
        "Finding the columns we have in our dataset"
      ],
      "metadata": {
        "id": "un-6bD3lp4YU"
      }
    },
    {
      "cell_type": "code",
      "source": [
        "iris.keys()"
      ],
      "metadata": {
        "colab": {
          "base_uri": "https://localhost:8080/"
        },
        "id": "QSbL_U_OkzlU",
        "outputId": "6ca8dba7-3c9f-4fd6-e302-82a1a57d1b92"
      },
      "execution_count": 57,
      "outputs": [
        {
          "output_type": "execute_result",
          "data": {
            "text/plain": [
              "dict_keys(['data', 'target', 'frame', 'target_names', 'DESCR', 'feature_names', 'filename', 'data_module'])"
            ]
          },
          "metadata": {},
          "execution_count": 57
        }
      ]
    },
    {
      "cell_type": "markdown",
      "source": [
        "Initializing the variables"
      ],
      "metadata": {
        "id": "hoSCPPmlp0-D"
      }
    },
    {
      "cell_type": "code",
      "source": [
        "y_iris = iris.target\n",
        "data = iris.data"
      ],
      "metadata": {
        "id": "ITPTsrukk1xU"
      },
      "execution_count": 58,
      "outputs": []
    },
    {
      "cell_type": "markdown",
      "source": [
        "Inserting data in the defined variables"
      ],
      "metadata": {
        "id": "ZoFBMszBpxB_"
      }
    },
    {
      "cell_type": "code",
      "source": [
        "data = np.insert(data, 4, y_iris, axis =1)\n",
        " \n",
        "data"
      ],
      "metadata": {
        "id": "K22POH5ik2gF",
        "colab": {
          "base_uri": "https://localhost:8080/"
        },
        "outputId": "4d81040f-973f-4b4d-9850-1b932ab5103e"
      },
      "execution_count": 59,
      "outputs": [
        {
          "output_type": "execute_result",
          "data": {
            "text/plain": [
              "array([[5.1, 3.5, 1.4, 0.2, 0. ],\n",
              "       [4.9, 3. , 1.4, 0.2, 0. ],\n",
              "       [4.7, 3.2, 1.3, 0.2, 0. ],\n",
              "       [4.6, 3.1, 1.5, 0.2, 0. ],\n",
              "       [5. , 3.6, 1.4, 0.2, 0. ],\n",
              "       [5.4, 3.9, 1.7, 0.4, 0. ],\n",
              "       [4.6, 3.4, 1.4, 0.3, 0. ],\n",
              "       [5. , 3.4, 1.5, 0.2, 0. ],\n",
              "       [4.4, 2.9, 1.4, 0.2, 0. ],\n",
              "       [4.9, 3.1, 1.5, 0.1, 0. ],\n",
              "       [5.4, 3.7, 1.5, 0.2, 0. ],\n",
              "       [4.8, 3.4, 1.6, 0.2, 0. ],\n",
              "       [4.8, 3. , 1.4, 0.1, 0. ],\n",
              "       [4.3, 3. , 1.1, 0.1, 0. ],\n",
              "       [5.8, 4. , 1.2, 0.2, 0. ],\n",
              "       [5.7, 4.4, 1.5, 0.4, 0. ],\n",
              "       [5.4, 3.9, 1.3, 0.4, 0. ],\n",
              "       [5.1, 3.5, 1.4, 0.3, 0. ],\n",
              "       [5.7, 3.8, 1.7, 0.3, 0. ],\n",
              "       [5.1, 3.8, 1.5, 0.3, 0. ],\n",
              "       [5.4, 3.4, 1.7, 0.2, 0. ],\n",
              "       [5.1, 3.7, 1.5, 0.4, 0. ],\n",
              "       [4.6, 3.6, 1. , 0.2, 0. ],\n",
              "       [5.1, 3.3, 1.7, 0.5, 0. ],\n",
              "       [4.8, 3.4, 1.9, 0.2, 0. ],\n",
              "       [5. , 3. , 1.6, 0.2, 0. ],\n",
              "       [5. , 3.4, 1.6, 0.4, 0. ],\n",
              "       [5.2, 3.5, 1.5, 0.2, 0. ],\n",
              "       [5.2, 3.4, 1.4, 0.2, 0. ],\n",
              "       [4.7, 3.2, 1.6, 0.2, 0. ],\n",
              "       [4.8, 3.1, 1.6, 0.2, 0. ],\n",
              "       [5.4, 3.4, 1.5, 0.4, 0. ],\n",
              "       [5.2, 4.1, 1.5, 0.1, 0. ],\n",
              "       [5.5, 4.2, 1.4, 0.2, 0. ],\n",
              "       [4.9, 3.1, 1.5, 0.2, 0. ],\n",
              "       [5. , 3.2, 1.2, 0.2, 0. ],\n",
              "       [5.5, 3.5, 1.3, 0.2, 0. ],\n",
              "       [4.9, 3.6, 1.4, 0.1, 0. ],\n",
              "       [4.4, 3. , 1.3, 0.2, 0. ],\n",
              "       [5.1, 3.4, 1.5, 0.2, 0. ],\n",
              "       [5. , 3.5, 1.3, 0.3, 0. ],\n",
              "       [4.5, 2.3, 1.3, 0.3, 0. ],\n",
              "       [4.4, 3.2, 1.3, 0.2, 0. ],\n",
              "       [5. , 3.5, 1.6, 0.6, 0. ],\n",
              "       [5.1, 3.8, 1.9, 0.4, 0. ],\n",
              "       [4.8, 3. , 1.4, 0.3, 0. ],\n",
              "       [5.1, 3.8, 1.6, 0.2, 0. ],\n",
              "       [4.6, 3.2, 1.4, 0.2, 0. ],\n",
              "       [5.3, 3.7, 1.5, 0.2, 0. ],\n",
              "       [5. , 3.3, 1.4, 0.2, 0. ],\n",
              "       [7. , 3.2, 4.7, 1.4, 1. ],\n",
              "       [6.4, 3.2, 4.5, 1.5, 1. ],\n",
              "       [6.9, 3.1, 4.9, 1.5, 1. ],\n",
              "       [5.5, 2.3, 4. , 1.3, 1. ],\n",
              "       [6.5, 2.8, 4.6, 1.5, 1. ],\n",
              "       [5.7, 2.8, 4.5, 1.3, 1. ],\n",
              "       [6.3, 3.3, 4.7, 1.6, 1. ],\n",
              "       [4.9, 2.4, 3.3, 1. , 1. ],\n",
              "       [6.6, 2.9, 4.6, 1.3, 1. ],\n",
              "       [5.2, 2.7, 3.9, 1.4, 1. ],\n",
              "       [5. , 2. , 3.5, 1. , 1. ],\n",
              "       [5.9, 3. , 4.2, 1.5, 1. ],\n",
              "       [6. , 2.2, 4. , 1. , 1. ],\n",
              "       [6.1, 2.9, 4.7, 1.4, 1. ],\n",
              "       [5.6, 2.9, 3.6, 1.3, 1. ],\n",
              "       [6.7, 3.1, 4.4, 1.4, 1. ],\n",
              "       [5.6, 3. , 4.5, 1.5, 1. ],\n",
              "       [5.8, 2.7, 4.1, 1. , 1. ],\n",
              "       [6.2, 2.2, 4.5, 1.5, 1. ],\n",
              "       [5.6, 2.5, 3.9, 1.1, 1. ],\n",
              "       [5.9, 3.2, 4.8, 1.8, 1. ],\n",
              "       [6.1, 2.8, 4. , 1.3, 1. ],\n",
              "       [6.3, 2.5, 4.9, 1.5, 1. ],\n",
              "       [6.1, 2.8, 4.7, 1.2, 1. ],\n",
              "       [6.4, 2.9, 4.3, 1.3, 1. ],\n",
              "       [6.6, 3. , 4.4, 1.4, 1. ],\n",
              "       [6.8, 2.8, 4.8, 1.4, 1. ],\n",
              "       [6.7, 3. , 5. , 1.7, 1. ],\n",
              "       [6. , 2.9, 4.5, 1.5, 1. ],\n",
              "       [5.7, 2.6, 3.5, 1. , 1. ],\n",
              "       [5.5, 2.4, 3.8, 1.1, 1. ],\n",
              "       [5.5, 2.4, 3.7, 1. , 1. ],\n",
              "       [5.8, 2.7, 3.9, 1.2, 1. ],\n",
              "       [6. , 2.7, 5.1, 1.6, 1. ],\n",
              "       [5.4, 3. , 4.5, 1.5, 1. ],\n",
              "       [6. , 3.4, 4.5, 1.6, 1. ],\n",
              "       [6.7, 3.1, 4.7, 1.5, 1. ],\n",
              "       [6.3, 2.3, 4.4, 1.3, 1. ],\n",
              "       [5.6, 3. , 4.1, 1.3, 1. ],\n",
              "       [5.5, 2.5, 4. , 1.3, 1. ],\n",
              "       [5.5, 2.6, 4.4, 1.2, 1. ],\n",
              "       [6.1, 3. , 4.6, 1.4, 1. ],\n",
              "       [5.8, 2.6, 4. , 1.2, 1. ],\n",
              "       [5. , 2.3, 3.3, 1. , 1. ],\n",
              "       [5.6, 2.7, 4.2, 1.3, 1. ],\n",
              "       [5.7, 3. , 4.2, 1.2, 1. ],\n",
              "       [5.7, 2.9, 4.2, 1.3, 1. ],\n",
              "       [6.2, 2.9, 4.3, 1.3, 1. ],\n",
              "       [5.1, 2.5, 3. , 1.1, 1. ],\n",
              "       [5.7, 2.8, 4.1, 1.3, 1. ],\n",
              "       [6.3, 3.3, 6. , 2.5, 2. ],\n",
              "       [5.8, 2.7, 5.1, 1.9, 2. ],\n",
              "       [7.1, 3. , 5.9, 2.1, 2. ],\n",
              "       [6.3, 2.9, 5.6, 1.8, 2. ],\n",
              "       [6.5, 3. , 5.8, 2.2, 2. ],\n",
              "       [7.6, 3. , 6.6, 2.1, 2. ],\n",
              "       [4.9, 2.5, 4.5, 1.7, 2. ],\n",
              "       [7.3, 2.9, 6.3, 1.8, 2. ],\n",
              "       [6.7, 2.5, 5.8, 1.8, 2. ],\n",
              "       [7.2, 3.6, 6.1, 2.5, 2. ],\n",
              "       [6.5, 3.2, 5.1, 2. , 2. ],\n",
              "       [6.4, 2.7, 5.3, 1.9, 2. ],\n",
              "       [6.8, 3. , 5.5, 2.1, 2. ],\n",
              "       [5.7, 2.5, 5. , 2. , 2. ],\n",
              "       [5.8, 2.8, 5.1, 2.4, 2. ],\n",
              "       [6.4, 3.2, 5.3, 2.3, 2. ],\n",
              "       [6.5, 3. , 5.5, 1.8, 2. ],\n",
              "       [7.7, 3.8, 6.7, 2.2, 2. ],\n",
              "       [7.7, 2.6, 6.9, 2.3, 2. ],\n",
              "       [6. , 2.2, 5. , 1.5, 2. ],\n",
              "       [6.9, 3.2, 5.7, 2.3, 2. ],\n",
              "       [5.6, 2.8, 4.9, 2. , 2. ],\n",
              "       [7.7, 2.8, 6.7, 2. , 2. ],\n",
              "       [6.3, 2.7, 4.9, 1.8, 2. ],\n",
              "       [6.7, 3.3, 5.7, 2.1, 2. ],\n",
              "       [7.2, 3.2, 6. , 1.8, 2. ],\n",
              "       [6.2, 2.8, 4.8, 1.8, 2. ],\n",
              "       [6.1, 3. , 4.9, 1.8, 2. ],\n",
              "       [6.4, 2.8, 5.6, 2.1, 2. ],\n",
              "       [7.2, 3. , 5.8, 1.6, 2. ],\n",
              "       [7.4, 2.8, 6.1, 1.9, 2. ],\n",
              "       [7.9, 3.8, 6.4, 2. , 2. ],\n",
              "       [6.4, 2.8, 5.6, 2.2, 2. ],\n",
              "       [6.3, 2.8, 5.1, 1.5, 2. ],\n",
              "       [6.1, 2.6, 5.6, 1.4, 2. ],\n",
              "       [7.7, 3. , 6.1, 2.3, 2. ],\n",
              "       [6.3, 3.4, 5.6, 2.4, 2. ],\n",
              "       [6.4, 3.1, 5.5, 1.8, 2. ],\n",
              "       [6. , 3. , 4.8, 1.8, 2. ],\n",
              "       [6.9, 3.1, 5.4, 2.1, 2. ],\n",
              "       [6.7, 3.1, 5.6, 2.4, 2. ],\n",
              "       [6.9, 3.1, 5.1, 2.3, 2. ],\n",
              "       [5.8, 2.7, 5.1, 1.9, 2. ],\n",
              "       [6.8, 3.2, 5.9, 2.3, 2. ],\n",
              "       [6.7, 3.3, 5.7, 2.5, 2. ],\n",
              "       [6.7, 3. , 5.2, 2.3, 2. ],\n",
              "       [6.3, 2.5, 5. , 1.9, 2. ],\n",
              "       [6.5, 3. , 5.2, 2. , 2. ],\n",
              "       [6.2, 3.4, 5.4, 2.3, 2. ],\n",
              "       [5.9, 3. , 5.1, 1.8, 2. ]])"
            ]
          },
          "metadata": {},
          "execution_count": 59
        }
      ]
    },
    {
      "cell_type": "markdown",
      "source": [
        "Splitting data into two parts training and testing data"
      ],
      "metadata": {
        "id": "VJjbKJbnptYD"
      }
    },
    {
      "cell_type": "code",
      "source": [
        "train, test = train_test_split(data, test_size = 0.25)"
      ],
      "metadata": {
        "id": "5C5Ioda5lBEV"
      },
      "execution_count": 60,
      "outputs": []
    },
    {
      "cell_type": "markdown",
      "source": [
        "Prediction for all the classes using our predict_classification function:"
      ],
      "metadata": {
        "id": "F_Feo5xxppHV"
      }
    },
    {
      "cell_type": "code",
      "source": [
        "y_pred = []\n",
        "y_true = test[:, -1]\n",
        "for i in test:\n",
        "    prediction = predict_classification(train, i, 10)\n",
        "   \n",
        "    y_pred.append(prediction)"
      ],
      "metadata": {
        "id": "PI1-arZalCg8"
      },
      "execution_count": 61,
      "outputs": []
    },
    {
      "cell_type": "markdown",
      "source": [
        "Accuracy Testing:"
      ],
      "metadata": {
        "id": "6-l7QXCzpefr"
      }
    },
    {
      "cell_type": "code",
      "source": [
        "Evaluate(y_true, y_pred)"
      ],
      "metadata": {
        "colab": {
          "base_uri": "https://localhost:8080/"
        },
        "id": "ie1qxsEalP6i",
        "outputId": "b5adb199-3938-4e2f-a247-8f67e52b9901"
      },
      "execution_count": 62,
      "outputs": [
        {
          "output_type": "execute_result",
          "data": {
            "text/plain": [
              "0.9736842105263158"
            ]
          },
          "metadata": {},
          "execution_count": 62
        }
      ]
    },
    {
      "cell_type": "markdown",
      "source": [
        "#Confusion Matrix"
      ],
      "metadata": {
        "id": "WY_DUOZYpbGb"
      }
    },
    {
      "cell_type": "code",
      "source": [
        "from sklearn.metrics import confusion_matrix\n",
        "cm = confusion_matrix(y_true,y_pred)\n",
        "cm"
      ],
      "metadata": {
        "colab": {
          "base_uri": "https://localhost:8080/"
        },
        "id": "HYaA7v7rpKLE",
        "outputId": "611372a9-813a-47ec-f493-b4ca308a4d31"
      },
      "execution_count": 63,
      "outputs": [
        {
          "output_type": "execute_result",
          "data": {
            "text/plain": [
              "array([[14,  0,  0],\n",
              "       [ 0,  8,  1],\n",
              "       [ 0,  0, 15]])"
            ]
          },
          "metadata": {},
          "execution_count": 63
        }
      ]
    },
    {
      "cell_type": "code",
      "source": [
        "%matplotlib inline\n",
        "import matplotlib.pyplot as plt\n",
        "import seaborn as sn\n",
        "plt.figure(figsize=(10,10))\n",
        "sn.heatmap(cm,annot=True)\n",
        "plt.xlabel(\"Predicted\")\n",
        "plt.ylabel(\"Truth\")"
      ],
      "metadata": {
        "colab": {
          "base_uri": "https://localhost:8080/",
          "height": 623
        },
        "id": "Fk6yRQWbpXR0",
        "outputId": "8427896f-04fc-4421-c56a-00fb4745d8d0"
      },
      "execution_count": 64,
      "outputs": [
        {
          "output_type": "execute_result",
          "data": {
            "text/plain": [
              "Text(69.0, 0.5, 'Truth')"
            ]
          },
          "metadata": {},
          "execution_count": 64
        },
        {
          "output_type": "display_data",
          "data": {
            "text/plain": [
              "<Figure size 720x720 with 2 Axes>"
            ],
            "image/png": "[encoded data removed]"
          },
          "metadata": {
            "needs_background": "light"
          }
        }
      ]
    }
  ]
}