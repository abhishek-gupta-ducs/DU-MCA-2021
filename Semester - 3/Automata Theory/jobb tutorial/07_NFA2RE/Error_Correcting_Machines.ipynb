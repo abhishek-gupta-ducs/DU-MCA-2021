{
 "cells": [
  {
   "cell_type": "code",
   "execution_count": null,
   "metadata": {
    "run_control": {
     "frozen": false,
     "read_only": false
    }
   },
   "outputs": [],
   "source": [
    "#~~~~~~~~~~~~~~~~~~~~~~~~~~~~~~~~~~~~~~~~~~~~~~~~~~~~~~~\n",
    "import sys\n",
    "\n",
    "# -- Detect if in Own Install or in Colab\n",
    "try:\n",
    "    import google.colab\n",
    "    OWN_INSTALL = False\n",
    "except:\n",
    "    OWN_INSTALL = True\n",
    "    \n",
    "if OWN_INSTALL:\n",
    "    \n",
    "  #---- Leave these definitions ON if running on laptop\n",
    "  #---- Else turn OFF by putting them between ''' ... '''\n",
    "\n",
    "  sys.path[0:0] = ['../../../../..',  '../../../../../3rdparty',  \n",
    "                   '../../../..',  '../../../../3rdparty',  \n",
    "                   '../../..',     '../../../3rdparty', \n",
    "                   '../..',        '../../3rdparty',\n",
    "                   '..',           '../3rdparty' ]\n",
    "\n",
    "else: # In colab\n",
    "  ! if [ ! -d Jove ]; then git clone https://github.com/ganeshutah/Jove Jove; fi\n",
    "  sys.path.append('./Jove')\n",
    "  sys.path.append('./Jove/jove')\n",
    "\n",
    "# -- common imports --\n",
    "from jove.DotBashers import *\n",
    "from jove.Def_DFA import *\n",
    "from jove.Def_NFA import *\n",
    "from jove.Def_RE2NFA import *\n",
    "from jove.Def_NFA2RE import *\n",
    "from jove.Def_md2mc import *\n",
    "#~~~~~~~~~~~~~~~~~~~~~~~~~~~~~~~~~~~~~~~~~~~~~~~~~~~~~~~"
   ]
  },
  {
   "cell_type": "markdown",
   "metadata": {
    "run_control": {
     "frozen": false,
     "read_only": false
    }
   },
   "source": [
    "# Designing DFA that accept within a Hamming Distance"
   ]
  },
  {
   "cell_type": "markdown",
   "metadata": {
    "run_control": {
     "frozen": false,
     "read_only": false
    }
   },
   "source": [
    "Given a regular language, say (0+1)* 0101 (0+1)* (i.e., all bit-strings with an occurrence of 0101 in it), let us come up with \n",
    "\n",
    "1. An RE that represents strings within a Hamming distance of 2 from strings in this language\n",
    "\n",
    "2. An NFA that represents strings within a Hamming distance of 2 from strings in this language\n",
    "\n",
    "## Design RE and NFA for error-correction and check that they are isomorphic\n"
   ]
  },
  {
   "cell_type": "code",
   "execution_count": null,
   "metadata": {
    "run_control": {
     "frozen": false,
     "read_only": false
    }
   },
   "outputs": [],
   "source": [
    "h2_0101_re = (\"(0+1)* ( (0+1)(0+1)01 +\" + \n",
    "                      \" (0+1)1(0+1)1 +\" + \n",
    "                      \" (0+1)10(0+1) +\" + \n",
    "                      \" 0(0+1)(0+1)1 +\" +\n",
    "                      \" 0(0+1)0(0+1) +\" +\n",
    "                      \" 01(0+1)(0+1) )\" +\n",
    "              \"(0+1)*\")"
   ]
  },
  {
   "cell_type": "code",
   "execution_count": null,
   "metadata": {
    "run_control": {
     "frozen": false,
     "read_only": false
    }
   },
   "outputs": [],
   "source": [
    "h2_0101_re"
   ]
  },
  {
   "cell_type": "code",
   "execution_count": null,
   "metadata": {
    "run_control": {
     "frozen": false,
     "read_only": false
    }
   },
   "outputs": [],
   "source": [
    "minD_h2_0101_re = min_dfa(nfa2dfa(re2nfa(h2_0101_re)))"
   ]
  },
  {
   "cell_type": "code",
   "execution_count": null,
   "metadata": {
    "run_control": {
     "frozen": false,
     "read_only": false
    }
   },
   "outputs": [],
   "source": [
    "DO_minD_h2_0101_re = dotObj_dfa(minD_h2_0101_re)"
   ]
  },
  {
   "cell_type": "code",
   "execution_count": null,
   "metadata": {
    "run_control": {
     "frozen": false,
     "read_only": false
    }
   },
   "outputs": [],
   "source": [
    "DO_minD_h2_0101_re"
   ]
  },
  {
   "cell_type": "code",
   "execution_count": null,
   "metadata": {
    "run_control": {
     "frozen": false,
     "read_only": false
    }
   },
   "outputs": [],
   "source": [
    "h2_0101_nfa_md = '''\n",
    "NFA\n",
    "!!--------------------------------------------\n",
    "!! We are supposed to process (0+1)*0101(0+1)*\n",
    "!! with up to two \"dings\" allowed\n",
    "!!\n",
    "!! Approach: Silently error-correct, but remember\n",
    "!! each \"ding\" in a new state name.\n",
    "!! After two dings, do not error-correct anymore\n",
    "!!--------------------------------------------\n",
    "\n",
    "!!-- pattern for (0+1)* is the usual\n",
    "!!-- no error-correction needed here :-)\n",
    "I : 0 | 1 -> I\n",
    "\n",
    "!!-- Now comes the opportunity to exit I via 0101\n",
    "!!-- The state names are A,B,C,D with ding-count\n",
    "!!-- Thus A0 is A with 0 dings\n",
    "!!-- C2 is C with 2 dings; etc\n",
    "\n",
    "!!-- Ding-less traversal -- how lucky!\n",
    "I  : 0 -> A0\n",
    "A0 : 1 -> B0\n",
    "B0 : 0 -> C0\n",
    "C0 : 1 -> F\n",
    "!!-- Phew, finally at F\n",
    "F  : 0 | 1 -> F\n",
    "\n",
    "!!-- First ding in any of these cases\n",
    "I  : 1 -> A1\n",
    "A0 : 0 -> B1\n",
    "B0 : 1 -> C1\n",
    "C0 : 0 -> F  !!-- ding-recording un-nec.; just goto F\n",
    "\n",
    "!!-- Second ding in any of these cases\n",
    "A1 : 0 -> B2\n",
    "B1 : 1 -> C2\n",
    "C1 : 0 -> F  !!-- ding-recording un-nec.; just goto F\n",
    "\n",
    "!!-- No more dings allowed!\n",
    "B2 : 0 -> C2\n",
    "C2 : 1 -> F\n",
    "\n",
    "!!-- Allow one-dingers to finish fine\n",
    "A1 : 1 -> B1\n",
    "B1 : 0 -> C1\n",
    "C1 : 1 -> F\n",
    "\n",
    "'''"
   ]
  },
  {
   "cell_type": "code",
   "execution_count": null,
   "metadata": {
    "run_control": {
     "frozen": false,
     "read_only": false
    }
   },
   "outputs": [],
   "source": [
    "h2_0101_nfa = md2mc(h2_0101_nfa_md)"
   ]
  },
  {
   "cell_type": "code",
   "execution_count": null,
   "metadata": {
    "run_control": {
     "frozen": false,
     "read_only": false
    }
   },
   "outputs": [],
   "source": [
    "DO_h2_0101_nfa = dotObj_nfa(h2_0101_nfa)\n",
    "DO_h2_0101_nfa"
   ]
  },
  {
   "cell_type": "code",
   "execution_count": null,
   "metadata": {
    "run_control": {
     "frozen": false,
     "read_only": false
    }
   },
   "outputs": [],
   "source": [
    "minD_h2_0101_nfa = min_dfa(nfa2dfa(h2_0101_nfa))\n",
    "DO_minD_h2_0101_nfa = dotObj_dfa(minD_h2_0101_nfa)\n",
    "DO_minD_h2_0101_nfa"
   ]
  },
  {
   "cell_type": "code",
   "execution_count": null,
   "metadata": {
    "run_control": {
     "frozen": false,
     "read_only": false
    }
   },
   "outputs": [],
   "source": [
    "iso_dfa(minD_h2_0101_re, minD_h2_0101_nfa)"
   ]
  },
  {
   "cell_type": "markdown",
   "metadata": {
    "run_control": {
     "frozen": false,
     "read_only": false
    }
   },
   "source": [
    "# Isomorphism is achieved"
   ]
  }
 ],
 "metadata": {
  "kernelspec": {
   "display_name": "Python 3",
   "language": "python",
   "name": "python3"
  },
  "language_info": {
   "codemirror_mode": {
    "name": "ipython",
    "version": 3
   },
   "file_extension": ".py",
   "mimetype": "text/x-python",
   "name": "python",
   "nbconvert_exporter": "python",
   "pygments_lexer": "ipython3",
   "version": "3.7.3"
  },
  "toc": {
   "colors": {
    "hover_highlight": "#DAA520",
    "running_highlight": "#FF0000",
    "selected_highlight": "#FFD700"
   },
   "moveMenuLeft": true,
   "nav_menu": {
    "height": "318px",
    "width": "252px"
   },
   "navigate_menu": true,
   "number_sections": true,
   "sideBar": true,
   "threshold": 4,
   "toc_cell": false,
   "toc_section_display": "block",
   "toc_window_display": false,
   "widenNotebook": false
  }
 },
 "nbformat": 4,
 "nbformat_minor": 2
}
