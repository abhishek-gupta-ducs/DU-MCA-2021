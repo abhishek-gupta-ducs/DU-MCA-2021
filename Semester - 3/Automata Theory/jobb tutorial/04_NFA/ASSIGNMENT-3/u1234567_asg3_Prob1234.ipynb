{
 "cells": [
  {
   "cell_type": "markdown",
   "metadata": {},
   "source": [
    "# A Video that's likely helpful\n",
    "\n"
   ]
  },
  {
   "cell_type": "code",
   "execution_count": null,
   "metadata": {
    "run_control": {
     "frozen": false,
     "read_only": false
    }
   },
   "outputs": [],
   "source": [
    "# This is a potentially helpful video from long ago... watch it if you've not, before.\n",
    "from IPython.display import YouTubeVideo\n",
    "YouTubeVideo('xjFtLF95uBc')"
   ]
  },
  {
   "cell_type": "markdown",
   "metadata": {},
   "source": [
    "# Another Video that's likely helpful but repeated below also!"
   ]
  },
  {
   "cell_type": "code",
   "execution_count": null,
   "metadata": {},
   "outputs": [],
   "source": [
    "# NFA Concatenation\n",
    "from IPython.display import YouTubeVideo\n",
    "YouTubeVideo('VWyOT1uYfIc')"
   ]
  },
  {
   "cell_type": "markdown",
   "metadata": {
    "run_control": {
     "frozen": false,
     "read_only": false
    }
   },
   "source": [
    "# Asg-3 imports \n"
   ]
  },
  {
   "cell_type": "code",
   "execution_count": null,
   "metadata": {
    "run_control": {
     "frozen": false,
     "read_only": false
    },
    "scrolled": true
   },
   "outputs": [],
   "source": [
    "#~~~~~~~~~~~~~~~~~~~~~~~~~~~~~~~~~~~~~~~~~~~~~~~~~~~~~~~\n",
    "import sys\n",
    "\n",
    "# -- Detect if in Own Install or in Colab\n",
    "try:\n",
    "    import google.colab\n",
    "    OWN_INSTALL = False\n",
    "except:\n",
    "    OWN_INSTALL = True\n",
    "    \n",
    "if OWN_INSTALL:\n",
    "    \n",
    "  #---- Leave these definitions ON if running on laptop\n",
    "  #---- Else turn OFF by putting them between ''' ... '''\n",
    "\n",
    "  sys.path[0:0] = ['../../../../..',  '../../../../../3rdparty',  \n",
    "                   '../../../..',  '../../../../3rdparty',  \n",
    "                   '../../..',     '../../../3rdparty', \n",
    "                   '../..',        '../../3rdparty',\n",
    "                   '..',           '../3rdparty' ]\n",
    "\n",
    "else: # In colab\n",
    "  ! if [ ! -d Jove ]; then git clone https://github.com/ganeshutah/Jove Jove; fi\n",
    "  sys.path.append('./Jove')\n",
    "  sys.path.append('./Jove/jove')\n",
    "\n",
    "# -- common imports --\n",
    "from jove.DotBashers import *\n",
    "from jove.Def_md2mc  import *\n",
    "from jove.Def_NFA    import *\n",
    "from jove.Def_DFA    import *\n",
    "from jove.AnimateNFA import *\n",
    "#~~~~~~~~~~~~~~~~~~~~~~~~~~~~~~~~~~~~~~~~~~~~~~~~~~~~~~~"
   ]
  },
  {
   "cell_type": "markdown",
   "metadata": {},
   "source": [
    "# Problem 1a (SV): Design an NFA for $\\{0,1\\}^* 1 0$ (\"Ends 10\")\n",
    "\n",
    "## It will be a 3-state NFA, and name the states as I, S0, and F\n",
    "\n",
    "### Document each line of your Jove code with a short comment\n"
   ]
  },
  {
   "cell_type": "code",
   "execution_count": null,
   "metadata": {},
   "outputs": [],
   "source": [
    "# SOLUTION\n",
    "\n",
    "nfaEnds10 = md2mc('''\n",
    "NFA \n",
    " \n",
    " \n",
    "''')"
   ]
  },
  {
   "cell_type": "markdown",
   "metadata": {},
   "source": [
    "# Problem 1b (SV): Determine States in Animation\n",
    "\n",
    "Put the above NFA in animation, and note down the set of states attained\n",
    "after the DFA has seen every character in 10010. More detailed instructions follow."
   ]
  },
  {
   "cell_type": "markdown",
   "metadata": {},
   "source": [
    "## 1b(i): Execute the cell below and follow the bulleted instructions\n",
    "\n",
    "* When the animation pane comes up, type in 10010 and click Animate\n",
    "\n",
    "* Then click the \">|\" button, which is for single-stepping\n",
    "\n",
    "* Note down the results as you single-step, and fill answers in 1b(ii) below\n"
   ]
  },
  {
   "cell_type": "code",
   "execution_count": null,
   "metadata": {
    "scrolled": false
   },
   "outputs": [],
   "source": [
    "AnimateNFA(nfaEnds10, FuseEdges=False)\n",
    "display(HTML('<link rel=\\\"stylesheet\\\" href=\\\"//stackpath.bootstrapcdn.com/font-awesome/4.7.0/css/font-awesome.min.css\\\"/>'))"
   ]
  },
  {
   "cell_type": "markdown",
   "metadata": {},
   "source": [
    "## 1b(ii) : Provide these answers based on single-stepping the animation (please provide it as a SET OF STATES - else we won't give you any points). \n",
    "\n",
    "## Also say whether a token dropped out of the diagram (with the move on a symbol being undefined) and whether the state reached is final. \n",
    "\n",
    "### SET of states before consuming any of 10010 = ..fill.. . \n",
    "#### A Token Dropped Out / The SET of states reached is FINAL / NONE OF THESE (retain what apply)\n",
    "\n",
    "### SET of states AFTER consuming \"1\" and before consuming \"0010\"  = ..fill..\n",
    "#### A Token Dropped Out / The SET of states reached is FINAL / NONE OF THESE (retain what apply)\n",
    "\n",
    "### SET of states AFTER consuming \"10\" and before consuming \"010\"  = ..fill..\n",
    "#### A Token Dropped Out / The SET of states reached is FINAL / NONE OF THESE (retain what apply)\n",
    "\n",
    "### SET of states AFTER consuming \"100\" and before consuming \"10\"  = ..fill..\n",
    "#### A Token Dropped Out / The SET of states reached is FINAL / NONE OF THESE (retain what apply)\n",
    "\n",
    "### SET of states AFTER consuming \"1001\" and before consuming \"0\"  = ..fill..\n",
    "#### A Token Dropped Out / The SET of states reached is FINAL / NONE OF THESE (retain what apply)\n",
    "\n",
    "### SET of states AFTER consuming \"10010\" entirely  = ..fill..\n",
    "#### A Token Dropped Out / The SET of states reached is FINAL / NONE OF THESE (retain what apply)"
   ]
  },
  {
   "cell_type": "markdown",
   "metadata": {},
   "source": [
    "# Problem 1c (SV): Convert the NFA to a DFA and answer\n",
    "\n",
    "Convert the NFA to a DFA by the command below, and answer 1c's question below"
   ]
  },
  {
   "cell_type": "code",
   "execution_count": null,
   "metadata": {},
   "outputs": [],
   "source": [
    "dotObj_dfa(nfa2dfa(nfaEnds10, STATENAME_MAXSIZE=50), STATENAME_MAXSIZE=50)"
   ]
  },
  {
   "cell_type": "markdown",
   "metadata": {},
   "source": [
    "#### 1c's question-1: State DFA is in after 10010 = ...DFA STATE...\n",
    "\n",
    "... one sentence ...\n",
    "\n",
    "#### 1c's question-2: Set of states NFA is in after 10010 (last ans of 1b(ii) ) = ...SET of NFA States...\n",
    "\n",
    "... one sentence ...\n",
    "\n",
    "#### Do the above match? Recall that for an NFA set of states (A,B), a DFA state may be named A_B or B_A. We use \"match\" in this sense.\n",
    "\n",
    "... one sentence ...\n",
    "\n",
    "#### Reason that the above should match? Please provide a sentence stating when a DFA accepts and when an NFA accepts in terms of its tokens being in many states that includes a final state.\n",
    "\n",
    "... one sentence ..."
   ]
  },
  {
   "cell_type": "markdown",
   "metadata": {},
   "source": [
    "# Problem 2 (XL): Design an NFA for $\\{\\varepsilon, 0\\}$ \n",
    "### It will be a 2-state NFA with an IF state and a final state (call that final state \"F2\" )"
   ]
  },
  {
   "cell_type": "code",
   "execution_count": null,
   "metadata": {},
   "outputs": [],
   "source": [
    "nfaEps0 = md2mc('''\n",
    "NFA \n",
    " \n",
    "''')"
   ]
  },
  {
   "cell_type": "code",
   "execution_count": null,
   "metadata": {},
   "outputs": [],
   "source": [
    "dotObj_nfa(nfaEps0)"
   ]
  },
  {
   "cell_type": "markdown",
   "metadata": {},
   "source": [
    "# A tutorial on Concatenating NFA\n",
    "\n",
    "Watch this video, then do Xinyi Li's question.\n",
    "\n",
    "To watch the video separately in Youtube in large size, \n",
    "visit https://youtu.be/VWyOT1uYfIc\n",
    "\n",
    "Otherwise just run the command below!"
   ]
  },
  {
   "cell_type": "code",
   "execution_count": null,
   "metadata": {},
   "outputs": [],
   "source": [
    "# NFA Concatenation\n",
    "from IPython.display import YouTubeVideo\n",
    "YouTubeVideo('VWyOT1uYfIc')"
   ]
  },
  {
   "cell_type": "markdown",
   "metadata": {},
   "source": [
    "# Problem 2a (XL): Develop a Concatenation NFA\n",
    "\n",
    "## Concatenate nfaEnds10 and nfaEps0 to obtain NFAEnds10Eps0\n",
    "\n",
    "### Follow the steps in the above video.\n",
    "\n",
    "### Describe the steps in a few bullets below, then finish the notebook code cell that defines NFAEnds10Eps0 below where space is provided for your work\n"
   ]
  },
  {
   "cell_type": "markdown",
   "metadata": {},
   "source": [
    "# Problem 2b (XL): Show the full Concatenation NFA below\n"
   ]
  },
  {
   "cell_type": "code",
   "execution_count": null,
   "metadata": {
    "run_control": {
     "frozen": false,
     "read_only": false
    }
   },
   "outputs": [],
   "source": [
    "# Here is the resulting NFA\n",
    "\n",
    "NFAEnds10Eps0 = md2mc('''\n",
    "NFA \n",
    "\n",
    "!!---- Put NFA 1's transitions below, \n",
    "!!----  after suitably renaming states to make final states non-final etc.\n",
    " \n",
    "\n",
    "\n",
    "!!--- put the \"bridge\" transition below\n",
    " \n",
    " \n",
    "\n",
    "!!--- put NFA 2's transitions below, again after suitable state renamings as above\n",
    "\n",
    " \n",
    "\n",
    "''')"
   ]
  },
  {
   "cell_type": "markdown",
   "metadata": {},
   "source": [
    "## Problem 2b (XL): Draw the concat NFA and convert to a DFA\n",
    "\n",
    "... Run the THREE commands below, and then move on to answer LT's question \n",
    "... based on the results you observe from these commands\n"
   ]
  },
  {
   "cell_type": "code",
   "execution_count": null,
   "metadata": {},
   "outputs": [],
   "source": [
    "# command-1\n",
    "dotObj_nfa(NFAEnds10Eps0)"
   ]
  },
  {
   "cell_type": "code",
   "execution_count": null,
   "metadata": {},
   "outputs": [],
   "source": [
    "# command-2\n",
    "\n",
    "dotObj_dfa(nfa2dfa(NFAEnds10Eps0, STATENAME_MAXSIZE=50), STATENAME_MAXSIZE=50)"
   ]
  },
  {
   "cell_type": "code",
   "execution_count": null,
   "metadata": {
    "run_control": {
     "frozen": false,
     "read_only": false
    }
   },
   "outputs": [],
   "source": [
    "# Let us see its internal representation -- this may give you hints for answering your question\n",
    "\n",
    "# command-3\n",
    "\n",
    "NFAEnds10Eps0"
   ]
  },
  {
   "cell_type": "markdown",
   "metadata": {},
   "source": [
    "# Problem 3 (LT): Explain the NFA2DFA algorithm\n",
    "\n",
    "Below, you must explain the states of the DFA that resulted from converting the\n",
    "NFA to DFA using subset construction. \n",
    "\n",
    "You must look at the results of running command-1 command-2 and command-3 in answering your question.\n",
    "\n",
    "For each question, your answer must be of\n",
    "the following form:\n",
    "\n",
    "* Currently the NFA is in a *set* of states, say S1. That is already an E-closed state. That is where the DFA begins its operation (in the corresponding DFA state).\n",
    "\n",
    "* Let S1 be {s11, s12} for example. (Notice my use of upper and lower cases.)\n",
    "\n",
    "* Consider a '0' transition\n",
    "\n",
    "* Upon a '0', s11 when to set of states S11, s12 went to set of states S12, and so on.\n",
    "\n",
    "* I performed E-Closure of the states in S11 and that resulted in S11c. (If E-closure did not generate any new states, say \"E-Closure did not generate any new state.\")\n",
    "\n",
    "* Similarly, I performed E-Closure of the states in S12 and that resulted in S12c\n",
    "\n",
    "* Then I unioned S11c and S12c and called it S2\n",
    "\n",
    "* S2 is now an E-closed set of states\n",
    "\n",
    "* Thus, I arrive at a single NFA state corresponding to \n",
    "  - S1 going upon '0' to S2 (and the DFA now has a state corresponding to S2).\n",
    "\n",
    " \n",
    "## QUESTIONS FOR YOU TO ANSWER IN THE ABOVE MANNER\n",
    "\n",
    "### Looking at the NFA NFAEnds10Eps0, why did state I arise in the DFA?\n",
    "\n",
    "...Your answer in the above-style bulletted steps describing E-closure and moves on symbols...\n",
    "\n",
    "### Why did state A1_I arise in the DFA?\n",
    "\n",
    "...Your answer in the above-style bulletted steps describing E-closure and moves on symbols...\n",
    "\n",
    "\n",
    "### Why did F3_I_T1 arise (mention E-closure steps)\n",
    "\n",
    "...Your answer in the above-style bulletted steps describing E-closure and moves on symbols...\n",
    "\n",
    "\n",
    "### Explain in detail why A1_I went upon a '0' to F3_I_T1 (include all the E-closure steps)\n",
    "\n",
    "...Your answer in the above-style bulletted steps describing E-closure and moves on symbols...\n",
    "\n",
    "\n",
    "### Why did F2_I arise?\n",
    "\n",
    "\n",
    "...Your answer in the above-style bulletted steps describing E-closure and moves on symbols...\n"
   ]
  },
  {
   "cell_type": "markdown",
   "metadata": {},
   "source": [
    "# Problem 4 (AR): Brzozowski's minimization\n",
    "\n",
    "This is to tell you a DFA minimization algorithm that shows you that a bloated DFA can be minimized simply by following these steps, as explained in Section 7.7. In this problem, you will practice these steps on an initial bloated DFA given to you.\n",
    "\n",
    "The steps are these:\n",
    "\n",
    "1. Reverse the given DFA, say DFA_bloated, to obtain an NFA called NFA1 (use the rev_dfa function)\n",
    "\n",
    "2. Determinize NFA1 to obtain a DFA called DFA2\n",
    "\n",
    "3. Reverse DFA2 to obtain another NFA, say NFA2\n",
    "\n",
    "4. Determinize NFA2 to obtain the final minimized DFA, say DFA_min\n",
    "\n",
    "The problem asks you to apply this procedure to minimize an initial DFA_bloated\n",
    "\n"
   ]
  },
  {
   "cell_type": "code",
   "execution_count": null,
   "metadata": {},
   "outputs": [],
   "source": [
    "# This is a slight variant of Figure 6.7's bloated DFA \n",
    "\n",
    "DFA_bloated = md2mc('''\n",
    "\n",
    "DFA\n",
    "\n",
    "IS1: a -> Temp\n",
    "IS1: b -> FS3\n",
    "\n",
    "Temp: a -> FS2\n",
    "Temp: b -> FS3\n",
    "\n",
    "FS2: a -> S4\n",
    "FS2: b -> S5\n",
    "\n",
    "FS3: a -> S5\n",
    "FS3: b -> S4\n",
    "\n",
    "S4: a|b -> FS6\n",
    "S5: a|b -> FS6\n",
    "\n",
    "FS6: a|b -> FS6\n",
    "\n",
    "''')"
   ]
  },
  {
   "cell_type": "code",
   "execution_count": null,
   "metadata": {},
   "outputs": [],
   "source": []
  },
  {
   "cell_type": "code",
   "execution_count": null,
   "metadata": {},
   "outputs": [],
   "source": [
    "dotObj_dfa(DFA_bloated)"
   ]
  },
  {
   "cell_type": "markdown",
   "metadata": {},
   "source": [
    "## Problem 4.1:  Show the result of reversing the above DFA"
   ]
  },
  {
   "cell_type": "code",
   "execution_count": null,
   "metadata": {},
   "outputs": [],
   "source": [
    "help(rev_dfa)"
   ]
  },
  {
   "cell_type": "markdown",
   "metadata": {},
   "source": [
    "### The reverse invocation"
   ]
  },
  {
   "cell_type": "code",
   "execution_count": null,
   "metadata": {},
   "outputs": [],
   "source": [
    "# Reverse DFA_bloated here\n",
    "\n",
    "NFA1 =  ... OBTAIN THE REVERSE OF DFA_bloated ..."
   ]
  },
  {
   "cell_type": "code",
   "execution_count": null,
   "metadata": {},
   "outputs": [],
   "source": [
    "dotObj_nfa(NFA1)"
   ]
  },
  {
   "cell_type": "markdown",
   "metadata": {},
   "source": [
    "## Problem 4.2: Check that NFA1 is indeed the reverse of DFA_bloated by checking one string\n",
    "\n",
    "Point out that \"aabba\" is in DFA_bloated's language but its reversal (i.e. \"abbaa\") is in NFA1's language\n",
    "\n",
    "### Which path does abbaa take in being accepted by NFA1 ?\n",
    "\n",
    ".... LIST THE PATH AS A SEQUENCE OF STATES, HERE ....\n",
    "\n",
    "* Starting from State ...\n",
    "\n",
    "* The next state after 'a' is ...\n",
    "\n",
    "* The next state after 'b' is ...\n",
    "\n",
    "* The next state after 'b' is ...\n",
    "\n",
    "* The next state after 'a' is ...\n",
    "\n",
    "* The next state after 'a' is ...  (This must be the final state!)\n"
   ]
  },
  {
   "cell_type": "markdown",
   "metadata": {},
   "source": [
    "## Problem 4.3: Determinize NFA1 to obtain DFA2"
   ]
  },
  {
   "cell_type": "code",
   "execution_count": null,
   "metadata": {},
   "outputs": [],
   "source": [
    "help(nfa2dfa)"
   ]
  },
  {
   "cell_type": "code",
   "execution_count": null,
   "metadata": {},
   "outputs": [],
   "source": [
    "DFA2 = ...DETERMINIZE NFA1 to obtain DFA2 ..."
   ]
  },
  {
   "cell_type": "code",
   "execution_count": null,
   "metadata": {},
   "outputs": [],
   "source": [
    "dotObj_dfa(DFA2)"
   ]
  },
  {
   "cell_type": "markdown",
   "metadata": {},
   "source": [
    "## Problem 4.4: Reverse DFA2 to obtain NFA3"
   ]
  },
  {
   "cell_type": "code",
   "execution_count": null,
   "metadata": {},
   "outputs": [],
   "source": [
    "NFA3 = ... REVERSE DFA2 to obtain NFA3 ..."
   ]
  },
  {
   "cell_type": "code",
   "execution_count": null,
   "metadata": {},
   "outputs": [],
   "source": [
    "dotObj_nfa(NFA3)"
   ]
  },
  {
   "cell_type": "markdown",
   "metadata": {},
   "source": [
    "## Problem 4.5:  One more determinization, and we are done minimizing\n"
   ]
  },
  {
   "cell_type": "code",
   "execution_count": null,
   "metadata": {},
   "outputs": [],
   "source": [
    "DFA_min = ... DETERMINIZE NFA3 and we now have DFA_min ..."
   ]
  },
  {
   "cell_type": "code",
   "execution_count": null,
   "metadata": {},
   "outputs": [],
   "source": [
    "dotObj_dfa(DFA_min)"
   ]
  },
  {
   "cell_type": "markdown",
   "metadata": {},
   "source": [
    "# Check that DFA_min and DFA_bloated have the same language but are not isomorphic"
   ]
  },
  {
   "cell_type": "code",
   "execution_count": null,
   "metadata": {},
   "outputs": [],
   "source": [
    "help(langeq_dfa)"
   ]
  },
  {
   "cell_type": "code",
   "execution_count": null,
   "metadata": {},
   "outputs": [],
   "source": [
    "help(iso_dfa)"
   ]
  },
  {
   "cell_type": "code",
   "execution_count": null,
   "metadata": {},
   "outputs": [],
   "source": [
    "...SHOW THAT DFA_bloated and DFA_min HAVE THE SAME LANGUAGE ..."
   ]
  },
  {
   "cell_type": "code",
   "execution_count": null,
   "metadata": {},
   "outputs": [],
   "source": [
    "...SHOW THAT DFA_bloated and DFA_min are NOT isomorphic ..."
   ]
  },
  {
   "cell_type": "markdown",
   "metadata": {},
   "source": [
    "##  But we indeed are minimal as shown by the number of states of the standard DFA min algorithm"
   ]
  },
  {
   "cell_type": "code",
   "execution_count": null,
   "metadata": {},
   "outputs": [],
   "source": [
    "DFA_min_alt = min_dfa(DFA_bloated)"
   ]
  },
  {
   "cell_type": "code",
   "execution_count": null,
   "metadata": {},
   "outputs": [],
   "source": [
    "dotObj_dfa(DFA_min)"
   ]
  },
  {
   "cell_type": "code",
   "execution_count": null,
   "metadata": {},
   "outputs": [],
   "source": [
    "dotObj_dfa(DFA_min_alt)"
   ]
  },
  {
   "cell_type": "code",
   "execution_count": null,
   "metadata": {},
   "outputs": [],
   "source": [
    "help(iso_dfa)"
   ]
  },
  {
   "cell_type": "code",
   "execution_count": 2,
   "metadata": {},
   "outputs": [],
   "source": [
    "...SHOW THAT DFA_min and DFA_min_alt are isomorphic...\n",
    "\n"
   ]
  },
  {
   "cell_type": "markdown",
   "metadata": {},
   "source": [
    "# END of demonstration that DFA minimization can be done in two different ways\n",
    "\n",
    "## Here are some notes to understand Brzozowski's method\n",
    "\n",
    "* If you are given a DFA \"D1\", a minimal DFA for \"reverse(D1)\" is obtained by \"reverse followed by determinize\"\n",
    "\n",
    "* But since we are interested in the minimal DFA for \"D1\" (and not reverse(D1)), we do these steps again!\n",
    "\n",
    "* Hence the algorithm becomes \"reverse THEN determinize THEN reverse THEN determinize\""
   ]
  }
 ],
 "metadata": {
  "kernelspec": {
   "display_name": "Python 3",
   "language": "python",
   "name": "python3"
  },
  "language_info": {
   "codemirror_mode": {
    "name": "ipython",
    "version": 3
   },
   "file_extension": ".py",
   "mimetype": "text/x-python",
   "name": "python",
   "nbconvert_exporter": "python",
   "pygments_lexer": "ipython3",
   "version": "3.7.3"
  },
  "toc": {
   "colors": {
    "hover_highlight": "#DAA520",
    "running_highlight": "#FF0000",
    "selected_highlight": "#FFD700"
   },
   "moveMenuLeft": true,
   "nav_menu": {
    "height": "121px",
    "width": "252px"
   },
   "navigate_menu": true,
   "number_sections": true,
   "sideBar": true,
   "threshold": 4,
   "toc_cell": false,
   "toc_section_display": "block",
   "toc_window_display": false,
   "widenNotebook": false
  },
  "widgets": {
   "state": {
    "430c92ee02b34ec1912bf03c8de1e6dc": {
     "views": [
      {
       "cell_index": 20
      }
     ]
    }
   },
   "version": "1.2.0"
  }
 },
 "nbformat": 4,
 "nbformat_minor": 2
}
