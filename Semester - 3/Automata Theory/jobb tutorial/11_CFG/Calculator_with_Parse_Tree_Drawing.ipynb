{
 "cells": [
  {
   "cell_type": "markdown",
   "metadata": {},
   "source": [
    "# Resources on PLY\n",
    " \n",
    "## Documentation of PLY is here: https://www.dabeaz.com/ply/ply.html\n",
    " "
   ]
  },
  {
   "cell_type": "markdown",
   "metadata": {},
   "source": [
    "## This Youtube video is a talk by David Beazley, the author of PLY"
   ]
  },
  {
   "cell_type": "code",
   "execution_count": null,
   "metadata": {},
   "outputs": [],
   "source": [
    "from IPython.display import YouTubeVideo\n",
    "# Direct path is https://youtu.be/zJ9z6Ge-vXs\n",
    "YouTubeVideo('zJ9z6Ge-vXs')"
   ]
  },
  {
   "cell_type": "markdown",
   "metadata": {},
   "source": [
    "## This Youtube video sequence (total 5 segments) talks about designing a calculator"
   ]
  },
  {
   "cell_type": "code",
   "execution_count": null,
   "metadata": {},
   "outputs": [],
   "source": [
    "from IPython.display import YouTubeVideo\n",
    "# Direct path is  https://youtu.be/Hh49BXmHxX8\n",
    "YouTubeVideo('Hh49BXmHxX8')"
   ]
  },
  {
   "cell_type": "markdown",
   "metadata": {},
   "source": [
    "#  THIS NOTEBOOK is referenced in ASG-6\n",
    "\n",
    "##  It Creates an Arithmetic Expression Parser, and Discover Differences with Real Parsers in the Field"
   ]
  },
  {
   "cell_type": "markdown",
   "metadata": {
    "run_control": {
     "frozen": false,
     "read_only": false
    }
   },
   "source": [
    "\n",
    "## You will be provided answer hints in the cells below\n",
    " "
   ]
  },
  {
   "cell_type": "markdown",
   "metadata": {
    "run_control": {
     "frozen": false,
     "read_only": false
    }
   },
   "source": [
    "## Background information for you\n",
    "\n",
    "\n",
    "Someone was asked to build a calculator following these CFG rules.\n",
    "\n",
    "\n",
    "```\n",
    "RULES\n",
    "\n",
    "Rule 0     S -> expression\n",
    "Rule 1     expression -> expression PLUS term\n",
    "Rule 2     expression -> expression MINUS term\n",
    "Rule 3     expression -> term\n",
    "Rule 4     term -> term TIMES factor\n",
    "Rule 5     term -> term DIVIDE factor\n",
    "Rule 6     term -> factor\n",
    "Rule 7     factor -> innerfactor EXP factor\n",
    "Rule 8     factor -> innerfactor\n",
    "Rule 9     innerfactor -> UMINUS innerfactor\n",
    "Rule 10    innerfactor -> LPAREN expression RPAREN\n",
    "Rule 11    innerfactor -> NUMBER\n",
    "```\n",
    "\n",
    "They implemented these CFGs in a parser that we shall present in Section 2 below."
   ]
  },
  {
   "cell_type": "markdown",
   "metadata": {
    "run_control": {
     "frozen": false,
     "read_only": false
    }
   },
   "source": [
    "## THINGS TO NOTE\n",
    "\n",
    "### We will use \"~\" (tilde) for unary minus, and \"-\" (regular minus) for binary infix minus\n",
    "\n",
    "### we will use \"^\" for exponentiation"
   ]
  },
  {
   "cell_type": "markdown",
   "metadata": {
    "run_control": {
     "frozen": false,
     "read_only": false
    }
   },
   "source": [
    "# The Parser\n",
    "\n",
    "You may be interested in roughly how abstract CFG rules such as listed above turn into CFG rules as supported by a tool such as PLY."
   ]
  },
  {
   "cell_type": "code",
   "execution_count": 1,
   "metadata": {
    "run_control": {
     "frozen": false,
     "read_only": false
    }
   },
   "outputs": [
    {
     "name": "stdout",
     "output_type": "stream",
     "text": [
      "You may use any of these help commands:\n",
      "help(ResetStNum)\n",
      "help(NxtStateStr)\n",
      "\n"
     ]
    }
   ],
   "source": [
    "#~~~~~~~~~~~~~~~~~~~~~~~~~~~~~~~~~~~~~~~~~~~~~~~~~~~~~~~\n",
    "import sys\n",
    "\n",
    "# -- Detect if in Own Install or in Colab\n",
    "try:\n",
    "    import google.colab\n",
    "    OWN_INSTALL = False\n",
    "except:\n",
    "    OWN_INSTALL = True\n",
    "    \n",
    "if OWN_INSTALL:\n",
    "    \n",
    "  #---- Leave these definitions ON if running on laptop\n",
    "  #---- Else turn OFF by putting them between ''' ... '''\n",
    "\n",
    "  sys.path[0:0] = ['../../../../..',  '../../../../../3rdparty',  \n",
    "                   '../../../..',  '../../../../3rdparty',  \n",
    "                   '../../..',     '../../../3rdparty', \n",
    "                   '../..',        '../../3rdparty',\n",
    "                   '..',           '../3rdparty' ]\n",
    "\n",
    "else: # In colab\n",
    "  ! if [ ! -d Jove ]; then git clone https://github.com/ganeshutah/Jove Jove; fi\n",
    "  sys.path.append('./Jove')\n",
    "  sys.path.append('./Jove/jove')\n",
    "\n",
    "# -- common imports --\n",
    "from jove.lex import lex\n",
    "from jove.yacc import yacc\n",
    "\n",
    "from jove.StateNameSanitizers import ResetStNum, NxtStateStr\n",
    "from jove.SystemImports       import *\n",
    "#~~~~~~~~~~~~~~~~~~~~~~~~~~~~~~~~~~~~~~~~~~~~~~~~~~~~~~~"
   ]
  },
  {
   "cell_type": "code",
   "execution_count": 2,
   "metadata": {
    "run_control": {
     "frozen": false,
     "read_only": false
    }
   },
   "outputs": [],
   "source": [
    "# Following ideas from http://www.dabeaz.com/ply/example.html heavily\n",
    "tokens = ('NUMBER','LPAREN','RPAREN','PLUS', 'MINUS', 'TIMES','DIVIDE', 'UMINUS', 'EXP') \n",
    "\n",
    "# Tokens\n",
    "t_PLUS    = r'\\+'\n",
    "t_MINUS   = r'\\-'\n",
    "t_TIMES   = r'\\*'\n",
    "t_DIVIDE  = r'\\/'\n",
    "t_LPAREN  = r'\\('\n",
    "t_RPAREN  = r'\\)' \n",
    "t_UMINUS  = r'\\~' \n",
    "t_EXP     = r'\\^'\n",
    "\n",
    "# parsing + semantic actions in one place!\n",
    "def t_NUMBER(t):\n",
    "    r'\\d+'\n",
    "    try:\n",
    "        t.value = int(t.value)\n",
    "    except ValueError:\n",
    "        print(\"Integer value too large %d\", t.value)\n",
    "        t.value = 0\n",
    "    return t\n",
    "\n",
    "# Ignored characters\n",
    "t_ignore = \" \\t\"\n",
    "\n",
    "def t_newline(t):\n",
    "    r'\\n+'\n",
    "    t.lexer.lineno += t.value.count(\"\\n\")\n",
    "    \n",
    "def t_error(t):\n",
    "    print(\"Illegal character '%s'\" % t.value[0])\n",
    "    t.lexer.skip(1)\n",
    "    "
   ]
  },
  {
   "cell_type": "code",
   "execution_count": 3,
   "metadata": {
    "run_control": {
     "frozen": false,
     "read_only": false
    }
   },
   "outputs": [],
   "source": [
    "\n",
    "def p_expression_1(t):\n",
    "    'expression : expression PLUS term'\n",
    "    #\n",
    "    t[0] = (t[1][0] + t[3][0],\n",
    "            attrDyadicInfix(\"+\", t[1][1], t[3][1]))   \n",
    "    \n",
    "def p_expression_2(t):\n",
    "    'expression : expression MINUS term'\n",
    "    #\n",
    "    t[0] = (t[1][0] - t[3][0],\n",
    "            attrDyadicInfix(\"-\", t[1][1], t[3][1]))   \n",
    "    \n",
    "def p_expression_3(t):\n",
    "    'expression : term'\n",
    "    #\n",
    "    t[0] = t[1]  \n",
    "    \n",
    "# Consult this excellent reference for info on precedences\n",
    "# https://www.cs.utah.edu/~zachary/isp/worksheets/operprec/operprec.html\n",
    "    \n",
    "    \n",
    "def p_term_1(t):\n",
    "    'term :  term TIMES factor'\n",
    "    #\n",
    "    t[0] = (t[1][0] * t[3][0],\n",
    "            attrDyadicInfix(\"*\", t[1][1], t[3][1])) \n",
    "\n",
    "    \n",
    "def p_term_2(t):\n",
    "    'term :  term DIVIDE factor'\n",
    "    #\n",
    "    if (t[3][0] == 0):\n",
    "        print(\"Error, divide by zero!\")\n",
    "        t[3][0] = 1 # fix it\n",
    "    t[0] = (t[1][0] / t[3][0],\n",
    "            attrDyadicInfix(\"/\", t[1][1], t[3][1]))\n",
    "\n",
    "\n",
    "def p_term_3(t):\n",
    "    'term :  factor'\n",
    "    #\n",
    "    t[0] = t[1]  \n",
    "\n",
    "def p_factor_1(t):\n",
    "    'factor : innerfactor EXP factor'\n",
    "    #\n",
    "    t[0] = (t[1][0] ** t[3][0],\n",
    "            attrDyadicInfix(\"^\", t[1][1], t[3][1])) \n",
    "\n",
    "def p_factor_2(t):\n",
    "    'factor : innerfactor'\n",
    "    #\n",
    "    t[0] = t[1]\n",
    "    \n",
    "def p_innerfactor_1(t):\n",
    "    'innerfactor : UMINUS innerfactor'\n",
    "    #\n",
    "    ast  = ('~', t[2][1]['ast'])\n",
    "    \n",
    "    nlin = t[2][1]['dig']['nl']\n",
    "    elin = t[2][1]['dig']['el']\n",
    "    \n",
    "    rootin = nlin[0]\n",
    "\n",
    "    root = NxtStateStr(\"~E_\") \n",
    "    left = NxtStateStr(\"~_\")\n",
    "\n",
    "    t[0] =(-t[2][0], \n",
    "           {'ast' : ast,\n",
    "            'dig' : {'nl' : [ root, left ] + nlin, # this order important for proper layout!\n",
    "                     'el' : elin + [ (root, left),\n",
    "                                     (root, rootin) ]\n",
    "                    }})\n",
    "\n",
    "    \n",
    "def p_innerfactor_2(t):\n",
    "    'innerfactor : LPAREN expression RPAREN'\n",
    "    #\n",
    "    ast  = t[2][1]['ast']\n",
    "    \n",
    "    nlin = t[2][1]['dig']['nl']\n",
    "    elin = t[2][1]['dig']['el']\n",
    "    \n",
    "    rootin = nlin[0]\n",
    "    \n",
    "    root = NxtStateStr(\"(E)_\")\n",
    "    left = NxtStateStr(\"(_\")\n",
    "    right= NxtStateStr(\")_\")\n",
    "    \n",
    "    t[0] =(t[2][0],\n",
    "           {'ast' : ast,\n",
    "            'dig' : {'nl' : [root, left] + nlin + [right], #order important f. proper layout!\n",
    "                     'el' : elin + [ (root, left),\n",
    "                                     (root, rootin),\n",
    "                                     (root, right) ]\n",
    "                    }})\n",
    "\n",
    "def p_innerfactor_3(t):\n",
    "    'innerfactor : NUMBER'\n",
    "    #\n",
    "    strn = str(t[1])\n",
    "    ast  = ('NUMBER', strn)           \n",
    "    t[0] =(t[1],\n",
    "           { 'ast' : ast,\n",
    "             'dig' : {'nl' : [ strn + NxtStateStr(\"_\") ],\n",
    "                      'el' : []\n",
    "                     }})\n",
    "\n",
    "\n",
    "def p_error(t):\n",
    "    print(\"Syntax error at '%s'\" % t.value)\n",
    "\n",
    "#--\n",
    "    \n",
    "def attrDyadicInfix(op, attr1, attr3):\n",
    "    ast  = (op, (attr1['ast'], attr3['ast']))\n",
    "    \n",
    "    nlin1 = attr1['dig']['nl']\n",
    "    nlin3 = attr3['dig']['nl']\n",
    "    nlin  = nlin1 + nlin3\n",
    "    \n",
    "    elin1 = attr1['dig']['el']\n",
    "    elin3 = attr3['dig']['el']\n",
    "    elin  = elin1 + elin3\n",
    "    \n",
    "    rootin1 = nlin1[0]\n",
    "    rootin3 = nlin3[0]    \n",
    "    \n",
    "    root   = NxtStateStr(\"E1\"+op+\"E2\"+\"_\") # NxtStateStr(\"$_\")\n",
    "    left   = rootin1\n",
    "    middle = NxtStateStr(op+\"_\")\n",
    "    right  = rootin3\n",
    "    \n",
    "    return {'ast' : ast,\n",
    "            'dig' : {'nl' : [ root, left, middle, right ] + nlin,\n",
    "                     'el' : elin + [ (root, left),\n",
    "                                     (root, middle),\n",
    "                                     (root, right) ]\n",
    "                     }}\n",
    "\n",
    "#===\n",
    "# This is the main function in this Jove file.  \n",
    "#===\n",
    "\n",
    "def parseExp(s):\n",
    "    \"\"\"In: a string s containing a regular expression.\n",
    "       Out: An attribute triple consisting of\n",
    "            1) An abstract syntax tree suitable for processing in the derivative-based scanner\n",
    "            2) A node-list for the parse-tree digraph generated. Good for drawing a parse tree \n",
    "               using the drawPT function below\n",
    "            3) An edge list for the parse-tree generated (again good for drawing using the\n",
    "               drawPT function below)\n",
    "    \"\"\"\n",
    "    mylexer  = lex()\n",
    "    myparser = yacc()\n",
    "    pt = myparser.parse(s, lexer = mylexer)\n",
    "    \n",
    "    # print('parsed result  is ', pt)\n",
    "    # (result, ast, nodes, edges)\n",
    "    return (pt[0], pt[1]['ast'], pt[1]['dig']['nl'], pt[1]['dig']['el'])\n",
    "\n",
    "def drawPT(ast_rslt_nl_el, comment=\"PT\"):\n",
    "    \"\"\"Given an (ast, nl, el) triple where nl is the node and el the edge-list,\n",
    "       draw the Parse Tree by returning a dot object.\n",
    "    \"\"\"\n",
    "    (rslt, ast, nl, el) = ast_rslt_nl_el\n",
    "    \n",
    "    print(\"Result calculated = \", rslt)\n",
    "    print(\"Drawing AST for \", ast)\n",
    "    \n",
    "    dotObj_pt = Digraph(comment)\n",
    "    dotObj_pt.graph_attr['rankdir'] = 'TB'\n",
    "    for n in nl:\n",
    "        prNam = n.split('_')[0]\n",
    "        dotObj_pt.node(n, prNam, shape=\"oval\", peripheries=\"1\")\n",
    "    for e in el:\n",
    "        dotObj_pt.edge(e[0], e[1])\n",
    "    return dotObj_pt"
   ]
  },
  {
   "cell_type": "markdown",
   "metadata": {
    "run_control": {
     "frozen": false,
     "read_only": false
    }
   },
   "source": [
    "# Now answer these questions"
   ]
  },
  {
   "cell_type": "markdown",
   "metadata": {
    "run_control": {
     "frozen": false,
     "read_only": false
    }
   },
   "source": [
    "## How does the calculator above parse \"~2^2\" ?"
   ]
  },
  {
   "cell_type": "code",
   "execution_count": 5,
   "metadata": {
    "run_control": {
     "frozen": false,
     "read_only": false
    }
   },
   "outputs": [
    {
     "name": "stdout",
     "output_type": "stream",
     "text": [
      "Result calculated =  4\n",
      "Drawing AST for  ('^', (('~', ('NUMBER', '2')), ('NUMBER', '2')))\n"
     ]
    },
    {
     "data": {
      "image/svg+xml": [
       "<?xml version=\"1.0\" encoding=\"UTF-8\" standalone=\"no\"?>\n",
       "<!DOCTYPE svg PUBLIC \"-//W3C//DTD SVG 1.1//EN\"\n",
       " \"http://www.w3.org/Graphics/SVG/1.1/DTD/svg11.dtd\">\n",
       "<!-- Generated by graphviz version 2.40.1 (20161225.0304)\n",
       " -->\n",
       "<!-- Title: PT Pages: 1 -->\n",
       "<svg width=\"242pt\" height=\"188pt\"\n",
       " viewBox=\"0.00 0.00 242.00 188.00\" xmlns=\"http://www.w3.org/2000/svg\" xmlns:xlink=\"http://www.w3.org/1999/xlink\">\n",
       "<g id=\"graph0\" class=\"graph\" transform=\"scale(1 1) rotate(0) translate(4 184)\">\n",
       "<title>PT</title>\n",
       "<polygon fill=\"#ffffff\" stroke=\"transparent\" points=\"-4,4 -4,-184 238,-184 238,4 -4,4\"/>\n",
       "<!-- E1^E2_11 -->\n",
       "<g id=\"node1\" class=\"node\">\n",
       "<title>E1^E2_11</title>\n",
       "<ellipse fill=\"none\" stroke=\"#000000\" cx=\"135\" cy=\"-162\" rx=\"35.194\" ry=\"18\"/>\n",
       "<text text-anchor=\"middle\" x=\"135\" y=\"-158.3\" font-family=\"Times,serif\" font-size=\"14.00\" fill=\"#000000\">E1^E2</text>\n",
       "</g>\n",
       "<!-- ~E_8 -->\n",
       "<g id=\"node2\" class=\"node\">\n",
       "<title>~E_8</title>\n",
       "<ellipse fill=\"none\" stroke=\"#000000\" cx=\"63\" cy=\"-90\" rx=\"27\" ry=\"18\"/>\n",
       "<text text-anchor=\"middle\" x=\"63\" y=\"-86.3\" font-family=\"Times,serif\" font-size=\"14.00\" fill=\"#000000\">~E</text>\n",
       "</g>\n",
       "<!-- E1^E2_11&#45;&gt;~E_8 -->\n",
       "<g id=\"edge3\" class=\"edge\">\n",
       "<title>E1^E2_11&#45;&gt;~E_8</title>\n",
       "<path fill=\"none\" stroke=\"#000000\" d=\"M118.6621,-145.6621C108.8185,-135.8185 96.1458,-123.1458 85.3795,-112.3795\"/>\n",
       "<polygon fill=\"#000000\" stroke=\"#000000\" points=\"87.8346,-109.8848 78.2886,-105.2886 82.8848,-114.8346 87.8346,-109.8848\"/>\n",
       "</g>\n",
       "<!-- ^_12 -->\n",
       "<g id=\"node3\" class=\"node\">\n",
       "<title>^_12</title>\n",
       "<ellipse fill=\"none\" stroke=\"#000000\" cx=\"135\" cy=\"-90\" rx=\"27\" ry=\"18\"/>\n",
       "<text text-anchor=\"middle\" x=\"135\" y=\"-86.3\" font-family=\"Times,serif\" font-size=\"14.00\" fill=\"#000000\">^</text>\n",
       "</g>\n",
       "<!-- E1^E2_11&#45;&gt;^_12 -->\n",
       "<g id=\"edge4\" class=\"edge\">\n",
       "<title>E1^E2_11&#45;&gt;^_12</title>\n",
       "<path fill=\"none\" stroke=\"#000000\" d=\"M135,-143.8314C135,-136.131 135,-126.9743 135,-118.4166\"/>\n",
       "<polygon fill=\"#000000\" stroke=\"#000000\" points=\"138.5001,-118.4132 135,-108.4133 131.5001,-118.4133 138.5001,-118.4132\"/>\n",
       "</g>\n",
       "<!-- 2_10 -->\n",
       "<g id=\"node4\" class=\"node\">\n",
       "<title>2_10</title>\n",
       "<ellipse fill=\"none\" stroke=\"#000000\" cx=\"207\" cy=\"-90\" rx=\"27\" ry=\"18\"/>\n",
       "<text text-anchor=\"middle\" x=\"207\" y=\"-86.3\" font-family=\"Times,serif\" font-size=\"14.00\" fill=\"#000000\">2</text>\n",
       "</g>\n",
       "<!-- E1^E2_11&#45;&gt;2_10 -->\n",
       "<g id=\"edge5\" class=\"edge\">\n",
       "<title>E1^E2_11&#45;&gt;2_10</title>\n",
       "<path fill=\"none\" stroke=\"#000000\" d=\"M151.3379,-145.6621C161.1815,-135.8185 173.8542,-123.1458 184.6205,-112.3795\"/>\n",
       "<polygon fill=\"#000000\" stroke=\"#000000\" points=\"187.1152,-114.8346 191.7114,-105.2886 182.1654,-109.8848 187.1152,-114.8346\"/>\n",
       "</g>\n",
       "<!-- ~_9 -->\n",
       "<g id=\"node5\" class=\"node\">\n",
       "<title>~_9</title>\n",
       "<ellipse fill=\"none\" stroke=\"#000000\" cx=\"27\" cy=\"-18\" rx=\"27\" ry=\"18\"/>\n",
       "<text text-anchor=\"middle\" x=\"27\" y=\"-14.3\" font-family=\"Times,serif\" font-size=\"14.00\" fill=\"#000000\">~</text>\n",
       "</g>\n",
       "<!-- ~E_8&#45;&gt;~_9 -->\n",
       "<g id=\"edge1\" class=\"edge\">\n",
       "<title>~E_8&#45;&gt;~_9</title>\n",
       "<path fill=\"none\" stroke=\"#000000\" d=\"M54.2854,-72.5708C50.0403,-64.0807 44.8464,-53.6929 40.1337,-44.2674\"/>\n",
       "<polygon fill=\"#000000\" stroke=\"#000000\" points=\"43.237,-42.6477 35.6343,-35.2687 36.976,-45.7782 43.237,-42.6477\"/>\n",
       "</g>\n",
       "<!-- 2_7 -->\n",
       "<g id=\"node6\" class=\"node\">\n",
       "<title>2_7</title>\n",
       "<ellipse fill=\"none\" stroke=\"#000000\" cx=\"99\" cy=\"-18\" rx=\"27\" ry=\"18\"/>\n",
       "<text text-anchor=\"middle\" x=\"99\" y=\"-14.3\" font-family=\"Times,serif\" font-size=\"14.00\" fill=\"#000000\">2</text>\n",
       "</g>\n",
       "<!-- ~E_8&#45;&gt;2_7 -->\n",
       "<g id=\"edge2\" class=\"edge\">\n",
       "<title>~E_8&#45;&gt;2_7</title>\n",
       "<path fill=\"none\" stroke=\"#000000\" d=\"M71.7146,-72.5708C75.9597,-64.0807 81.1536,-53.6929 85.8663,-44.2674\"/>\n",
       "<polygon fill=\"#000000\" stroke=\"#000000\" points=\"89.024,-45.7782 90.3657,-35.2687 82.763,-42.6477 89.024,-45.7782\"/>\n",
       "</g>\n",
       "</g>\n",
       "</svg>\n"
      ],
      "text/plain": [
       "<graphviz.dot.Digraph at 0x1058fdac8>"
      ]
     },
     "execution_count": 5,
     "metadata": {},
     "output_type": "execute_result"
    }
   ],
   "source": [
    "drawPT(parseExp(\"~2^2\"))"
   ]
  },
  {
   "cell_type": "markdown",
   "metadata": {
    "run_control": {
     "frozen": false,
     "read_only": false
    }
   },
   "source": [
    "## Check answer produced by Python for the same expression"
   ]
  },
  {
   "cell_type": "code",
   "execution_count": 6,
   "metadata": {
    "run_control": {
     "frozen": false,
     "read_only": false
    }
   },
   "outputs": [
    {
     "data": {
      "text/plain": [
       "-4"
      ]
     },
     "execution_count": 6,
     "metadata": {},
     "output_type": "execute_result"
    }
   ],
   "source": [
    "# Python evaluation\n",
    "-2 ** 2"
   ]
  },
  {
   "cell_type": "markdown",
   "metadata": {
    "run_control": {
     "frozen": false,
     "read_only": false
    }
   },
   "source": [
    "# Q1: Are the answers the same? If not, what is the most likely reason? \n",
    "## Discover how Python handled this expression by fully parenthesizing how Python parses ```-2**2.``` Express your answer by putting back-quotes (else, Markdown's parser takes over \"**\" :-)"
   ]
  },
  {
   "cell_type": "markdown",
   "metadata": {},
   "source": [
    "# A1: ``` ...fill answer...  ==> Always include a sentence of English with your answer so that the TAs know how you interpreted the question <== ```"
   ]
  },
  {
   "cell_type": "markdown",
   "metadata": {
    "run_control": {
     "frozen": false,
     "read_only": false
    }
   },
   "source": [
    "## In parsing ```2^~3^~4```, the following parse tree was produced.\n"
   ]
  },
  {
   "cell_type": "code",
   "execution_count": 7,
   "metadata": {
    "run_control": {
     "frozen": false,
     "read_only": false
    }
   },
   "outputs": [
    {
     "name": "stdout",
     "output_type": "stream",
     "text": [
      "Result calculated =  1.008594091576999\n",
      "Drawing AST for  ('^', (('NUMBER', '2'), ('^', (('~', ('NUMBER', '3')), ('~', ('NUMBER', '4'))))))\n"
     ]
    },
    {
     "data": {
      "image/svg+xml": [
       "<?xml version=\"1.0\" encoding=\"UTF-8\" standalone=\"no\"?>\n",
       "<!DOCTYPE svg PUBLIC \"-//W3C//DTD SVG 1.1//EN\"\n",
       " \"http://www.w3.org/Graphics/SVG/1.1/DTD/svg11.dtd\">\n",
       "<!-- Generated by graphviz version 2.40.1 (20161225.0304)\n",
       " -->\n",
       "<!-- Title: PT Pages: 1 -->\n",
       "<svg width=\"340pt\" height=\"260pt\"\n",
       " viewBox=\"0.00 0.00 340.00 260.00\" xmlns=\"http://www.w3.org/2000/svg\" xmlns:xlink=\"http://www.w3.org/1999/xlink\">\n",
       "<g id=\"graph0\" class=\"graph\" transform=\"scale(1 1) rotate(0) translate(4 256)\">\n",
       "<title>PT</title>\n",
       "<polygon fill=\"#ffffff\" stroke=\"transparent\" points=\"-4,4 -4,-256 336,-256 336,4 -4,4\"/>\n",
       "<!-- E1^E2_22 -->\n",
       "<g id=\"node1\" class=\"node\">\n",
       "<title>E1^E2_22</title>\n",
       "<ellipse fill=\"none\" stroke=\"#000000\" cx=\"99\" cy=\"-234\" rx=\"35.194\" ry=\"18\"/>\n",
       "<text text-anchor=\"middle\" x=\"99\" y=\"-230.3\" font-family=\"Times,serif\" font-size=\"14.00\" fill=\"#000000\">E1^E2</text>\n",
       "</g>\n",
       "<!-- 2_13 -->\n",
       "<g id=\"node2\" class=\"node\">\n",
       "<title>2_13</title>\n",
       "<ellipse fill=\"none\" stroke=\"#000000\" cx=\"27\" cy=\"-162\" rx=\"27\" ry=\"18\"/>\n",
       "<text text-anchor=\"middle\" x=\"27\" y=\"-158.3\" font-family=\"Times,serif\" font-size=\"14.00\" fill=\"#000000\">2</text>\n",
       "</g>\n",
       "<!-- E1^E2_22&#45;&gt;2_13 -->\n",
       "<g id=\"edge8\" class=\"edge\">\n",
       "<title>E1^E2_22&#45;&gt;2_13</title>\n",
       "<path fill=\"none\" stroke=\"#000000\" d=\"M82.6621,-217.6621C72.8185,-207.8185 60.1458,-195.1458 49.3795,-184.3795\"/>\n",
       "<polygon fill=\"#000000\" stroke=\"#000000\" points=\"51.8346,-181.8848 42.2886,-177.2886 46.8848,-186.8346 51.8346,-181.8848\"/>\n",
       "</g>\n",
       "<!-- ^_23 -->\n",
       "<g id=\"node3\" class=\"node\">\n",
       "<title>^_23</title>\n",
       "<ellipse fill=\"none\" stroke=\"#000000\" cx=\"99\" cy=\"-162\" rx=\"27\" ry=\"18\"/>\n",
       "<text text-anchor=\"middle\" x=\"99\" y=\"-158.3\" font-family=\"Times,serif\" font-size=\"14.00\" fill=\"#000000\">^</text>\n",
       "</g>\n",
       "<!-- E1^E2_22&#45;&gt;^_23 -->\n",
       "<g id=\"edge9\" class=\"edge\">\n",
       "<title>E1^E2_22&#45;&gt;^_23</title>\n",
       "<path fill=\"none\" stroke=\"#000000\" d=\"M99,-215.8314C99,-208.131 99,-198.9743 99,-190.4166\"/>\n",
       "<polygon fill=\"#000000\" stroke=\"#000000\" points=\"102.5001,-190.4132 99,-180.4133 95.5001,-190.4133 102.5001,-190.4132\"/>\n",
       "</g>\n",
       "<!-- E1^E2_20 -->\n",
       "<g id=\"node4\" class=\"node\">\n",
       "<title>E1^E2_20</title>\n",
       "<ellipse fill=\"none\" stroke=\"#000000\" cx=\"179\" cy=\"-162\" rx=\"35.194\" ry=\"18\"/>\n",
       "<text text-anchor=\"middle\" x=\"179\" y=\"-158.3\" font-family=\"Times,serif\" font-size=\"14.00\" fill=\"#000000\">E1^E2</text>\n",
       "</g>\n",
       "<!-- E1^E2_22&#45;&gt;E1^E2_20 -->\n",
       "<g id=\"edge10\" class=\"edge\">\n",
       "<title>E1^E2_22&#45;&gt;E1^E2_20</title>\n",
       "<path fill=\"none\" stroke=\"#000000\" d=\"M116.7546,-218.0209C127.7053,-208.1652 141.9176,-195.3742 153.9965,-184.5032\"/>\n",
       "<polygon fill=\"#000000\" stroke=\"#000000\" points=\"156.4787,-186.978 161.5703,-177.6867 151.7959,-181.7749 156.4787,-186.978\"/>\n",
       "</g>\n",
       "<!-- ~E_15 -->\n",
       "<g id=\"node5\" class=\"node\">\n",
       "<title>~E_15</title>\n",
       "<ellipse fill=\"none\" stroke=\"#000000\" cx=\"107\" cy=\"-90\" rx=\"27\" ry=\"18\"/>\n",
       "<text text-anchor=\"middle\" x=\"107\" y=\"-86.3\" font-family=\"Times,serif\" font-size=\"14.00\" fill=\"#000000\">~E</text>\n",
       "</g>\n",
       "<!-- E1^E2_20&#45;&gt;~E_15 -->\n",
       "<g id=\"edge5\" class=\"edge\">\n",
       "<title>E1^E2_20&#45;&gt;~E_15</title>\n",
       "<path fill=\"none\" stroke=\"#000000\" d=\"M162.6621,-145.6621C152.8185,-135.8185 140.1458,-123.1458 129.3795,-112.3795\"/>\n",
       "<polygon fill=\"#000000\" stroke=\"#000000\" points=\"131.8346,-109.8848 122.2886,-105.2886 126.8848,-114.8346 131.8346,-109.8848\"/>\n",
       "</g>\n",
       "<!-- ^_21 -->\n",
       "<g id=\"node6\" class=\"node\">\n",
       "<title>^_21</title>\n",
       "<ellipse fill=\"none\" stroke=\"#000000\" cx=\"179\" cy=\"-90\" rx=\"27\" ry=\"18\"/>\n",
       "<text text-anchor=\"middle\" x=\"179\" y=\"-86.3\" font-family=\"Times,serif\" font-size=\"14.00\" fill=\"#000000\">^</text>\n",
       "</g>\n",
       "<!-- E1^E2_20&#45;&gt;^_21 -->\n",
       "<g id=\"edge6\" class=\"edge\">\n",
       "<title>E1^E2_20&#45;&gt;^_21</title>\n",
       "<path fill=\"none\" stroke=\"#000000\" d=\"M179,-143.8314C179,-136.131 179,-126.9743 179,-118.4166\"/>\n",
       "<polygon fill=\"#000000\" stroke=\"#000000\" points=\"182.5001,-118.4132 179,-108.4133 175.5001,-118.4133 182.5001,-118.4132\"/>\n",
       "</g>\n",
       "<!-- ~E_18 -->\n",
       "<g id=\"node7\" class=\"node\">\n",
       "<title>~E_18</title>\n",
       "<ellipse fill=\"none\" stroke=\"#000000\" cx=\"251\" cy=\"-90\" rx=\"27\" ry=\"18\"/>\n",
       "<text text-anchor=\"middle\" x=\"251\" y=\"-86.3\" font-family=\"Times,serif\" font-size=\"14.00\" fill=\"#000000\">~E</text>\n",
       "</g>\n",
       "<!-- E1^E2_20&#45;&gt;~E_18 -->\n",
       "<g id=\"edge7\" class=\"edge\">\n",
       "<title>E1^E2_20&#45;&gt;~E_18</title>\n",
       "<path fill=\"none\" stroke=\"#000000\" d=\"M195.3379,-145.6621C205.1815,-135.8185 217.8542,-123.1458 228.6205,-112.3795\"/>\n",
       "<polygon fill=\"#000000\" stroke=\"#000000\" points=\"231.1152,-114.8346 235.7114,-105.2886 226.1654,-109.8848 231.1152,-114.8346\"/>\n",
       "</g>\n",
       "<!-- ~_16 -->\n",
       "<g id=\"node8\" class=\"node\">\n",
       "<title>~_16</title>\n",
       "<ellipse fill=\"none\" stroke=\"#000000\" cx=\"71\" cy=\"-18\" rx=\"27\" ry=\"18\"/>\n",
       "<text text-anchor=\"middle\" x=\"71\" y=\"-14.3\" font-family=\"Times,serif\" font-size=\"14.00\" fill=\"#000000\">~</text>\n",
       "</g>\n",
       "<!-- ~E_15&#45;&gt;~_16 -->\n",
       "<g id=\"edge1\" class=\"edge\">\n",
       "<title>~E_15&#45;&gt;~_16</title>\n",
       "<path fill=\"none\" stroke=\"#000000\" d=\"M98.2854,-72.5708C94.0403,-64.0807 88.8464,-53.6929 84.1337,-44.2674\"/>\n",
       "<polygon fill=\"#000000\" stroke=\"#000000\" points=\"87.237,-42.6477 79.6343,-35.2687 80.976,-45.7782 87.237,-42.6477\"/>\n",
       "</g>\n",
       "<!-- 3_14 -->\n",
       "<g id=\"node9\" class=\"node\">\n",
       "<title>3_14</title>\n",
       "<ellipse fill=\"none\" stroke=\"#000000\" cx=\"143\" cy=\"-18\" rx=\"27\" ry=\"18\"/>\n",
       "<text text-anchor=\"middle\" x=\"143\" y=\"-14.3\" font-family=\"Times,serif\" font-size=\"14.00\" fill=\"#000000\">3</text>\n",
       "</g>\n",
       "<!-- ~E_15&#45;&gt;3_14 -->\n",
       "<g id=\"edge2\" class=\"edge\">\n",
       "<title>~E_15&#45;&gt;3_14</title>\n",
       "<path fill=\"none\" stroke=\"#000000\" d=\"M115.7146,-72.5708C119.9597,-64.0807 125.1536,-53.6929 129.8663,-44.2674\"/>\n",
       "<polygon fill=\"#000000\" stroke=\"#000000\" points=\"133.024,-45.7782 134.3657,-35.2687 126.763,-42.6477 133.024,-45.7782\"/>\n",
       "</g>\n",
       "<!-- ~_19 -->\n",
       "<g id=\"node10\" class=\"node\">\n",
       "<title>~_19</title>\n",
       "<ellipse fill=\"none\" stroke=\"#000000\" cx=\"233\" cy=\"-18\" rx=\"27\" ry=\"18\"/>\n",
       "<text text-anchor=\"middle\" x=\"233\" y=\"-14.3\" font-family=\"Times,serif\" font-size=\"14.00\" fill=\"#000000\">~</text>\n",
       "</g>\n",
       "<!-- ~E_18&#45;&gt;~_19 -->\n",
       "<g id=\"edge3\" class=\"edge\">\n",
       "<title>~E_18&#45;&gt;~_19</title>\n",
       "<path fill=\"none\" stroke=\"#000000\" d=\"M246.5506,-72.2022C244.5602,-64.2406 242.1668,-54.6671 239.9489,-45.7957\"/>\n",
       "<polygon fill=\"#000000\" stroke=\"#000000\" points=\"243.2816,-44.6951 237.4606,-35.8425 236.4906,-46.3929 243.2816,-44.6951\"/>\n",
       "</g>\n",
       "<!-- 4_17 -->\n",
       "<g id=\"node11\" class=\"node\">\n",
       "<title>4_17</title>\n",
       "<ellipse fill=\"none\" stroke=\"#000000\" cx=\"305\" cy=\"-18\" rx=\"27\" ry=\"18\"/>\n",
       "<text text-anchor=\"middle\" x=\"305\" y=\"-14.3\" font-family=\"Times,serif\" font-size=\"14.00\" fill=\"#000000\">4</text>\n",
       "</g>\n",
       "<!-- ~E_18&#45;&gt;4_17 -->\n",
       "<g id=\"edge4\" class=\"edge\">\n",
       "<title>~E_18&#45;&gt;4_17</title>\n",
       "<path fill=\"none\" stroke=\"#000000\" d=\"M263.2534,-73.6621C270.1577,-64.4564 278.9177,-52.7764 286.6285,-42.4953\"/>\n",
       "<polygon fill=\"#000000\" stroke=\"#000000\" points=\"289.595,-44.3733 292.7951,-34.2733 283.995,-40.1733 289.595,-44.3733\"/>\n",
       "</g>\n",
       "</g>\n",
       "</svg>\n"
      ],
      "text/plain": [
       "<graphviz.dot.Digraph at 0x105931908>"
      ]
     },
     "execution_count": 7,
     "metadata": {},
     "output_type": "execute_result"
    }
   ],
   "source": [
    "drawPT(parseExp(\"2^~3^~4\"))"
   ]
  },
  {
   "cell_type": "markdown",
   "metadata": {
    "run_control": {
     "frozen": false,
     "read_only": false
    }
   },
   "source": [
    "## What does ```2**-3**-4``` produce in Python? Is it the same answer?"
   ]
  },
  {
   "cell_type": "code",
   "execution_count": 11,
   "metadata": {
    "run_control": {
     "frozen": false,
     "read_only": false
    }
   },
   "outputs": [
    {
     "data": {
      "text/plain": [
       "0.9914791374956781"
      ]
     },
     "execution_count": 11,
     "metadata": {},
     "output_type": "execute_result"
    }
   ],
   "source": [
    "# The above expression typed into Python in Python's syntax is below, and see what it produces!\n",
    "\n",
    "2**-3**-4"
   ]
  },
  {
   "cell_type": "code",
   "execution_count": 13,
   "metadata": {},
   "outputs": [
    {
     "data": {
      "text/plain": [
       "0.9914791374956781"
      ]
     },
     "execution_count": 13,
     "metadata": {},
     "output_type": "execute_result"
    }
   ],
   "source": [
    "2**(-(3**-4))"
   ]
  },
  {
   "cell_type": "code",
   "execution_count": 14,
   "metadata": {},
   "outputs": [
    {
     "data": {
      "text/plain": [
       "1.008594091576999"
      ]
     },
     "execution_count": 14,
     "metadata": {},
     "output_type": "execute_result"
    }
   ],
   "source": [
    "2**((-3)**(-4))"
   ]
  },
  {
   "cell_type": "markdown",
   "metadata": {
    "run_control": {
     "frozen": false,
     "read_only": false
    }
   },
   "source": [
    "# Q2: Are the answers the same? Discover how Python handled this expression by fully parenthesizing how Python parses ```2**-3**-4```\n",
    "\n",
    "## I.e. your answer is a fully parenthesized version of ```2**-3**-4```\n",
    "\n",
    "### Also check that the fully parenthesized version matches the ==> PYTHON answer (was a typo - said \"Jove answer\" before) <=="
   ]
  },
  {
   "cell_type": "markdown",
   "metadata": {
    "run_control": {
     "frozen": false,
     "read_only": false
    }
   },
   "source": [
    "# A2: ```...fill answer... ```\n",
    "## Additional explanation (2-3 lines) : ==> Here, focus on how associativity and precedence are handled. <== "
   ]
  },
  {
   "cell_type": "code",
   "execution_count": null,
   "metadata": {},
   "outputs": [],
   "source": [
    "*** YOUR CHECK THAT THE FULLY PARENTHESIZED EXPRESSION MATCHES ANSWERS ***"
   ]
  },
  {
   "cell_type": "markdown",
   "metadata": {
    "run_control": {
     "frozen": false,
     "read_only": false
    }
   },
   "source": [
    "# Q3: Does ```6*3/4*~5/(2+3-4-5-6/7*~8)-~9``` produce the same answer as a similarly parenthesized expression in Python?\n",
    "## Does it tend to confirm that for cases without unary minus and exp, the parsers are in agreement? Is this a full proof of this fact?\n",
    "\n"
   ]
  },
  {
   "cell_type": "code",
   "execution_count": 15,
   "metadata": {
    "run_control": {
     "frozen": false,
     "read_only": false
    }
   },
   "outputs": [
    {
     "name": "stdout",
     "output_type": "stream",
     "text": [
      "Result calculated =  1.1249999999999991\n",
      "Drawing AST for  ('-', (('/', (('*', (('/', (('*', (('NUMBER', '6'), ('NUMBER', '3'))), ('NUMBER', '4'))), ('~', ('NUMBER', '5')))), ('-', (('-', (('-', (('+', (('NUMBER', '2'), ('NUMBER', '3'))), ('NUMBER', '4'))), ('NUMBER', '5'))), ('*', (('/', (('NUMBER', '6'), ('NUMBER', '7'))), ('~', ('NUMBER', '8')))))))), ('~', ('NUMBER', '9'))))\n"
     ]
    },
    {
     "data": {
      "image/svg+xml": [
       "<?xml version=\"1.0\" encoding=\"UTF-8\" standalone=\"no\"?>\n",
       "<!DOCTYPE svg PUBLIC \"-//W3C//DTD SVG 1.1//EN\"\n",
       " \"http://www.w3.org/Graphics/SVG/1.1/DTD/svg11.dtd\">\n",
       "<!-- Generated by graphviz version 2.40.1 (20161225.0304)\n",
       " -->\n",
       "<!-- Title: PT Pages: 1 -->\n",
       "<svg width=\"862pt\" height=\"548pt\"\n",
       " viewBox=\"0.00 0.00 862.00 548.00\" xmlns=\"http://www.w3.org/2000/svg\" xmlns:xlink=\"http://www.w3.org/1999/xlink\">\n",
       "<g id=\"graph0\" class=\"graph\" transform=\"scale(1 1) rotate(0) translate(4 544)\">\n",
       "<title>PT</title>\n",
       "<polygon fill=\"#ffffff\" stroke=\"transparent\" points=\"-4,4 -4,-544 858,-544 858,4 -4,4\"/>\n",
       "<!-- E1&#45;E2_65 -->\n",
       "<g id=\"node1\" class=\"node\">\n",
       "<title>E1&#45;E2_65</title>\n",
       "<ellipse fill=\"none\" stroke=\"#000000\" cx=\"514\" cy=\"-522\" rx=\"33.5952\" ry=\"18\"/>\n",
       "<text text-anchor=\"middle\" x=\"514\" y=\"-518.3\" font-family=\"Times,serif\" font-size=\"14.00\" fill=\"#000000\">E1&#45;E2</text>\n",
       "</g>\n",
       "<!-- E1/E2_60 -->\n",
       "<g id=\"node2\" class=\"node\">\n",
       "<title>E1/E2_60</title>\n",
       "<ellipse fill=\"none\" stroke=\"#000000\" cx=\"436\" cy=\"-450\" rx=\"33.2948\" ry=\"18\"/>\n",
       "<text text-anchor=\"middle\" x=\"436\" y=\"-446.3\" font-family=\"Times,serif\" font-size=\"14.00\" fill=\"#000000\">E1/E2</text>\n",
       "</g>\n",
       "<!-- E1&#45;E2_65&#45;&gt;E1/E2_60 -->\n",
       "<g id=\"edge40\" class=\"edge\">\n",
       "<title>E1&#45;E2_65&#45;&gt;E1/E2_60</title>\n",
       "<path fill=\"none\" stroke=\"#000000\" d=\"M497.0752,-506.3771C486.3428,-496.4703 472.285,-483.4938 460.3621,-472.4881\"/>\n",
       "<polygon fill=\"#000000\" stroke=\"#000000\" points=\"462.6139,-469.8034 452.8918,-465.5924 457.8659,-474.9471 462.6139,-469.8034\"/>\n",
       "</g>\n",
       "<!-- &#45;_66 -->\n",
       "<g id=\"node3\" class=\"node\">\n",
       "<title>&#45;_66</title>\n",
       "<ellipse fill=\"none\" stroke=\"#000000\" cx=\"514\" cy=\"-450\" rx=\"27\" ry=\"18\"/>\n",
       "<text text-anchor=\"middle\" x=\"514\" y=\"-446.3\" font-family=\"Times,serif\" font-size=\"14.00\" fill=\"#000000\">&#45;</text>\n",
       "</g>\n",
       "<!-- E1&#45;E2_65&#45;&gt;&#45;_66 -->\n",
       "<g id=\"edge41\" class=\"edge\">\n",
       "<title>E1&#45;E2_65&#45;&gt;&#45;_66</title>\n",
       "<path fill=\"none\" stroke=\"#000000\" d=\"M514,-503.8314C514,-496.131 514,-486.9743 514,-478.4166\"/>\n",
       "<polygon fill=\"#000000\" stroke=\"#000000\" points=\"517.5001,-478.4132 514,-468.4133 510.5001,-478.4133 517.5001,-478.4132\"/>\n",
       "</g>\n",
       "<!-- ~E_63 -->\n",
       "<g id=\"node4\" class=\"node\">\n",
       "<title>~E_63</title>\n",
       "<ellipse fill=\"none\" stroke=\"#000000\" cx=\"586\" cy=\"-450\" rx=\"27\" ry=\"18\"/>\n",
       "<text text-anchor=\"middle\" x=\"586\" y=\"-446.3\" font-family=\"Times,serif\" font-size=\"14.00\" fill=\"#000000\">~E</text>\n",
       "</g>\n",
       "<!-- E1&#45;E2_65&#45;&gt;~E_63 -->\n",
       "<g id=\"edge42\" class=\"edge\">\n",
       "<title>E1&#45;E2_65&#45;&gt;~E_63</title>\n",
       "<path fill=\"none\" stroke=\"#000000\" d=\"M529.9791,-506.0209C539.8082,-496.1918 552.5569,-483.4431 563.409,-472.591\"/>\n",
       "<polygon fill=\"#000000\" stroke=\"#000000\" points=\"565.9635,-474.9863 570.5597,-465.4403 561.0137,-470.0365 565.9635,-474.9863\"/>\n",
       "</g>\n",
       "<!-- E1*E2_34 -->\n",
       "<g id=\"node5\" class=\"node\">\n",
       "<title>E1*E2_34</title>\n",
       "<ellipse fill=\"none\" stroke=\"#000000\" cx=\"339\" cy=\"-378\" rx=\"35.9954\" ry=\"18\"/>\n",
       "<text text-anchor=\"middle\" x=\"339\" y=\"-374.3\" font-family=\"Times,serif\" font-size=\"14.00\" fill=\"#000000\">E1*E2</text>\n",
       "</g>\n",
       "<!-- E1/E2_60&#45;&gt;E1*E2_34 -->\n",
       "<g id=\"edge35\" class=\"edge\">\n",
       "<title>E1/E2_60&#45;&gt;E1*E2_34</title>\n",
       "<path fill=\"none\" stroke=\"#000000\" d=\"M416.3706,-435.4297C402.3579,-425.0286 383.2899,-410.875 367.5901,-399.2215\"/>\n",
       "<polygon fill=\"#000000\" stroke=\"#000000\" points=\"369.3837,-396.1941 359.2679,-393.0442 365.2116,-401.8149 369.3837,-396.1941\"/>\n",
       "</g>\n",
       "<!-- /_61 -->\n",
       "<g id=\"node6\" class=\"node\">\n",
       "<title>/_61</title>\n",
       "<ellipse fill=\"none\" stroke=\"#000000\" cx=\"436\" cy=\"-378\" rx=\"27\" ry=\"18\"/>\n",
       "<text text-anchor=\"middle\" x=\"436\" y=\"-374.3\" font-family=\"Times,serif\" font-size=\"14.00\" fill=\"#000000\">/</text>\n",
       "</g>\n",
       "<!-- E1/E2_60&#45;&gt;/_61 -->\n",
       "<g id=\"edge36\" class=\"edge\">\n",
       "<title>E1/E2_60&#45;&gt;/_61</title>\n",
       "<path fill=\"none\" stroke=\"#000000\" d=\"M436,-431.8314C436,-424.131 436,-414.9743 436,-406.4166\"/>\n",
       "<polygon fill=\"#000000\" stroke=\"#000000\" points=\"439.5001,-406.4132 436,-396.4133 432.5001,-406.4133 439.5001,-406.4132\"/>\n",
       "</g>\n",
       "<!-- (E)_57 -->\n",
       "<g id=\"node7\" class=\"node\">\n",
       "<title>(E)_57</title>\n",
       "<ellipse fill=\"none\" stroke=\"#000000\" cx=\"510\" cy=\"-378\" rx=\"27\" ry=\"18\"/>\n",
       "<text text-anchor=\"middle\" x=\"510\" y=\"-374.3\" font-family=\"Times,serif\" font-size=\"14.00\" fill=\"#000000\">(E)</text>\n",
       "</g>\n",
       "<!-- E1/E2_60&#45;&gt;(E)_57 -->\n",
       "<g id=\"edge37\" class=\"edge\">\n",
       "<title>E1/E2_60&#45;&gt;(E)_57</title>\n",
       "<path fill=\"none\" stroke=\"#000000\" d=\"M452.423,-434.0209C462.6635,-424.0571 475.9875,-411.0932 487.2387,-400.1461\"/>\n",
       "<polygon fill=\"#000000\" stroke=\"#000000\" points=\"489.9069,-402.4334 494.6335,-392.9512 485.0254,-397.4163 489.9069,-402.4334\"/>\n",
       "</g>\n",
       "<!-- ~_64 -->\n",
       "<g id=\"node42\" class=\"node\">\n",
       "<title>~_64</title>\n",
       "<ellipse fill=\"none\" stroke=\"#000000\" cx=\"585\" cy=\"-378\" rx=\"27\" ry=\"18\"/>\n",
       "<text text-anchor=\"middle\" x=\"585\" y=\"-374.3\" font-family=\"Times,serif\" font-size=\"14.00\" fill=\"#000000\">~</text>\n",
       "</g>\n",
       "<!-- ~E_63&#45;&gt;~_64 -->\n",
       "<g id=\"edge38\" class=\"edge\">\n",
       "<title>~E_63&#45;&gt;~_64</title>\n",
       "<path fill=\"none\" stroke=\"#000000\" d=\"M585.7477,-431.8314C585.6407,-424.131 585.5135,-414.9743 585.3947,-406.4166\"/>\n",
       "<polygon fill=\"#000000\" stroke=\"#000000\" points=\"588.8944,-406.3637 585.2557,-396.4133 581.8951,-406.4609 588.8944,-406.3637\"/>\n",
       "</g>\n",
       "<!-- 9_62 -->\n",
       "<g id=\"node43\" class=\"node\">\n",
       "<title>9_62</title>\n",
       "<ellipse fill=\"none\" stroke=\"#000000\" cx=\"657\" cy=\"-378\" rx=\"27\" ry=\"18\"/>\n",
       "<text text-anchor=\"middle\" x=\"657\" y=\"-374.3\" font-family=\"Times,serif\" font-size=\"14.00\" fill=\"#000000\">9</text>\n",
       "</g>\n",
       "<!-- ~E_63&#45;&gt;9_62 -->\n",
       "<g id=\"edge39\" class=\"edge\">\n",
       "<title>~E_63&#45;&gt;9_62</title>\n",
       "<path fill=\"none\" stroke=\"#000000\" d=\"M601.0573,-434.7307C610.847,-424.803 623.7831,-411.6847 634.7497,-400.5637\"/>\n",
       "<polygon fill=\"#000000\" stroke=\"#000000\" points=\"637.4351,-402.8252 641.9644,-393.2473 632.4508,-397.9102 637.4351,-402.8252\"/>\n",
       "</g>\n",
       "<!-- E1/E2_29 -->\n",
       "<g id=\"node8\" class=\"node\">\n",
       "<title>E1/E2_29</title>\n",
       "<ellipse fill=\"none\" stroke=\"#000000\" cx=\"213\" cy=\"-306\" rx=\"33.2948\" ry=\"18\"/>\n",
       "<text text-anchor=\"middle\" x=\"213\" y=\"-302.3\" font-family=\"Times,serif\" font-size=\"14.00\" fill=\"#000000\">E1/E2</text>\n",
       "</g>\n",
       "<!-- E1*E2_34&#45;&gt;E1/E2_29 -->\n",
       "<g id=\"edge9\" class=\"edge\">\n",
       "<title>E1*E2_34&#45;&gt;E1/E2_29</title>\n",
       "<path fill=\"none\" stroke=\"#000000\" d=\"M315.3004,-364.4574C295.4647,-353.1227 266.9747,-336.8427 245.0953,-324.3402\"/>\n",
       "<polygon fill=\"#000000\" stroke=\"#000000\" points=\"246.5866,-321.1612 236.1677,-319.2387 243.1136,-327.239 246.5866,-321.1612\"/>\n",
       "</g>\n",
       "<!-- *_35 -->\n",
       "<g id=\"node9\" class=\"node\">\n",
       "<title>*_35</title>\n",
       "<ellipse fill=\"none\" stroke=\"#000000\" cx=\"307\" cy=\"-306\" rx=\"27\" ry=\"18\"/>\n",
       "<text text-anchor=\"middle\" x=\"307\" y=\"-302.3\" font-family=\"Times,serif\" font-size=\"14.00\" fill=\"#000000\">*</text>\n",
       "</g>\n",
       "<!-- E1*E2_34&#45;&gt;*_35 -->\n",
       "<g id=\"edge10\" class=\"edge\">\n",
       "<title>E1*E2_34&#45;&gt;*_35</title>\n",
       "<path fill=\"none\" stroke=\"#000000\" d=\"M331.0899,-360.2022C327.381,-351.8574 322.8852,-341.7417 318.7865,-332.5197\"/>\n",
       "<polygon fill=\"#000000\" stroke=\"#000000\" points=\"321.9685,-331.0612 314.7087,-323.3446 315.5718,-333.9042 321.9685,-331.0612\"/>\n",
       "</g>\n",
       "<!-- ~E_32 -->\n",
       "<g id=\"node10\" class=\"node\">\n",
       "<title>~E_32</title>\n",
       "<ellipse fill=\"none\" stroke=\"#000000\" cx=\"379\" cy=\"-306\" rx=\"27\" ry=\"18\"/>\n",
       "<text text-anchor=\"middle\" x=\"379\" y=\"-302.3\" font-family=\"Times,serif\" font-size=\"14.00\" fill=\"#000000\">~E</text>\n",
       "</g>\n",
       "<!-- E1*E2_34&#45;&gt;~E_32 -->\n",
       "<g id=\"edge11\" class=\"edge\">\n",
       "<title>E1*E2_34&#45;&gt;~E_32</title>\n",
       "<path fill=\"none\" stroke=\"#000000\" d=\"M348.6829,-360.5708C353.3996,-352.0807 359.1706,-341.6929 364.407,-332.2674\"/>\n",
       "<polygon fill=\"#000000\" stroke=\"#000000\" points=\"367.6094,-333.71 369.4063,-323.2687 361.4903,-330.3105 367.6094,-333.71\"/>\n",
       "</g>\n",
       "<!-- (_58 -->\n",
       "<g id=\"node19\" class=\"node\">\n",
       "<title>(_58</title>\n",
       "<ellipse fill=\"none\" stroke=\"#000000\" cx=\"463\" cy=\"-306\" rx=\"27\" ry=\"18\"/>\n",
       "<text text-anchor=\"middle\" x=\"463\" y=\"-302.3\" font-family=\"Times,serif\" font-size=\"14.00\" fill=\"#000000\">(</text>\n",
       "</g>\n",
       "<!-- (E)_57&#45;&gt;(_58 -->\n",
       "<g id=\"edge32\" class=\"edge\">\n",
       "<title>(E)_57&#45;&gt;(_58</title>\n",
       "<path fill=\"none\" stroke=\"#000000\" d=\"M499.0991,-361.3008C493.2264,-352.3043 485.8634,-341.0247 479.3213,-331.0029\"/>\n",
       "<polygon fill=\"#000000\" stroke=\"#000000\" points=\"482.2389,-329.0693 473.8418,-322.6087 476.3772,-332.8957 482.2389,-329.0693\"/>\n",
       "</g>\n",
       "<!-- E1&#45;E2_55 -->\n",
       "<g id=\"node20\" class=\"node\">\n",
       "<title>E1&#45;E2_55</title>\n",
       "<ellipse fill=\"none\" stroke=\"#000000\" cx=\"542\" cy=\"-306\" rx=\"33.5952\" ry=\"18\"/>\n",
       "<text text-anchor=\"middle\" x=\"542\" y=\"-302.3\" font-family=\"Times,serif\" font-size=\"14.00\" fill=\"#000000\">E1&#45;E2</text>\n",
       "</g>\n",
       "<!-- (E)_57&#45;&gt;E1&#45;E2_55 -->\n",
       "<g id=\"edge33\" class=\"edge\">\n",
       "<title>(E)_57&#45;&gt;E1&#45;E2_55</title>\n",
       "<path fill=\"none\" stroke=\"#000000\" d=\"M517.7463,-360.5708C521.4529,-352.2309 525.9734,-342.0598 530.1028,-332.7686\"/>\n",
       "<polygon fill=\"#000000\" stroke=\"#000000\" points=\"533.351,-334.0779 534.2141,-323.5182 526.9543,-331.2349 533.351,-334.0779\"/>\n",
       "</g>\n",
       "<!-- )_59 -->\n",
       "<g id=\"node41\" class=\"node\">\n",
       "<title>)_59</title>\n",
       "<ellipse fill=\"none\" stroke=\"#000000\" cx=\"621\" cy=\"-306\" rx=\"27\" ry=\"18\"/>\n",
       "<text text-anchor=\"middle\" x=\"621\" y=\"-302.3\" font-family=\"Times,serif\" font-size=\"14.00\" fill=\"#000000\">)</text>\n",
       "</g>\n",
       "<!-- (E)_57&#45;&gt;)_59 -->\n",
       "<g id=\"edge34\" class=\"edge\">\n",
       "<title>(E)_57&#45;&gt;)_59</title>\n",
       "<path fill=\"none\" stroke=\"#000000\" d=\"M529.5891,-365.2936C547.184,-353.8807 573.2175,-336.994 593.0066,-324.1579\"/>\n",
       "<polygon fill=\"#000000\" stroke=\"#000000\" points=\"595.1218,-326.9577 601.6068,-318.5794 591.3125,-321.085 595.1218,-326.9577\"/>\n",
       "</g>\n",
       "<!-- E1*E2_26 -->\n",
       "<g id=\"node11\" class=\"node\">\n",
       "<title>E1*E2_26</title>\n",
       "<ellipse fill=\"none\" stroke=\"#000000\" cx=\"99\" cy=\"-234\" rx=\"35.9954\" ry=\"18\"/>\n",
       "<text text-anchor=\"middle\" x=\"99\" y=\"-230.3\" font-family=\"Times,serif\" font-size=\"14.00\" fill=\"#000000\">E1*E2</text>\n",
       "</g>\n",
       "<!-- E1/E2_29&#45;&gt;E1*E2_26 -->\n",
       "<g id=\"edge4\" class=\"edge\">\n",
       "<title>E1/E2_29&#45;&gt;E1*E2_26</title>\n",
       "<path fill=\"none\" stroke=\"#000000\" d=\"M191.2891,-292.2879C173.9224,-281.3194 149.3501,-265.8001 129.9266,-253.5326\"/>\n",
       "<polygon fill=\"#000000\" stroke=\"#000000\" points=\"131.7329,-250.5338 121.409,-248.1531 127.9949,-256.4523 131.7329,-250.5338\"/>\n",
       "</g>\n",
       "<!-- /_30 -->\n",
       "<g id=\"node12\" class=\"node\">\n",
       "<title>/_30</title>\n",
       "<ellipse fill=\"none\" stroke=\"#000000\" cx=\"180\" cy=\"-234\" rx=\"27\" ry=\"18\"/>\n",
       "<text text-anchor=\"middle\" x=\"180\" y=\"-230.3\" font-family=\"Times,serif\" font-size=\"14.00\" fill=\"#000000\">/</text>\n",
       "</g>\n",
       "<!-- E1/E2_29&#45;&gt;/_30 -->\n",
       "<g id=\"edge5\" class=\"edge\">\n",
       "<title>E1/E2_29&#45;&gt;/_30</title>\n",
       "<path fill=\"none\" stroke=\"#000000\" d=\"M204.8427,-288.2022C201.018,-279.8574 196.3816,-269.7417 192.1549,-260.5197\"/>\n",
       "<polygon fill=\"#000000\" stroke=\"#000000\" points=\"195.2979,-258.9769 187.9496,-251.3446 188.9345,-261.8936 195.2979,-258.9769\"/>\n",
       "</g>\n",
       "<!-- 4_28 -->\n",
       "<g id=\"node13\" class=\"node\">\n",
       "<title>4_28</title>\n",
       "<ellipse fill=\"none\" stroke=\"#000000\" cx=\"252\" cy=\"-234\" rx=\"27\" ry=\"18\"/>\n",
       "<text text-anchor=\"middle\" x=\"252\" y=\"-230.3\" font-family=\"Times,serif\" font-size=\"14.00\" fill=\"#000000\">4</text>\n",
       "</g>\n",
       "<!-- E1/E2_29&#45;&gt;4_28 -->\n",
       "<g id=\"edge6\" class=\"edge\">\n",
       "<title>E1/E2_29&#45;&gt;4_28</title>\n",
       "<path fill=\"none\" stroke=\"#000000\" d=\"M222.4408,-288.5708C227.0396,-280.0807 232.6664,-269.6929 237.7718,-260.2674\"/>\n",
       "<polygon fill=\"#000000\" stroke=\"#000000\" points=\"240.9608,-261.7286 242.6461,-251.2687 234.8057,-258.3946 240.9608,-261.7286\"/>\n",
       "</g>\n",
       "<!-- ~_33 -->\n",
       "<g id=\"node17\" class=\"node\">\n",
       "<title>~_33</title>\n",
       "<ellipse fill=\"none\" stroke=\"#000000\" cx=\"324\" cy=\"-234\" rx=\"27\" ry=\"18\"/>\n",
       "<text text-anchor=\"middle\" x=\"324\" y=\"-230.3\" font-family=\"Times,serif\" font-size=\"14.00\" fill=\"#000000\">~</text>\n",
       "</g>\n",
       "<!-- ~E_32&#45;&gt;~_33 -->\n",
       "<g id=\"edge7\" class=\"edge\">\n",
       "<title>~E_32&#45;&gt;~_33</title>\n",
       "<path fill=\"none\" stroke=\"#000000\" d=\"M366.5196,-289.6621C359.4876,-280.4564 350.5653,-268.7764 342.7117,-258.4953\"/>\n",
       "<polygon fill=\"#000000\" stroke=\"#000000\" points=\"345.2828,-256.0953 336.431,-250.2733 339.72,-260.3446 345.2828,-256.0953\"/>\n",
       "</g>\n",
       "<!-- 5_31 -->\n",
       "<g id=\"node18\" class=\"node\">\n",
       "<title>5_31</title>\n",
       "<ellipse fill=\"none\" stroke=\"#000000\" cx=\"396\" cy=\"-234\" rx=\"27\" ry=\"18\"/>\n",
       "<text text-anchor=\"middle\" x=\"396\" y=\"-230.3\" font-family=\"Times,serif\" font-size=\"14.00\" fill=\"#000000\">5</text>\n",
       "</g>\n",
       "<!-- ~E_32&#45;&gt;5_31 -->\n",
       "<g id=\"edge8\" class=\"edge\">\n",
       "<title>~E_32&#45;&gt;5_31</title>\n",
       "<path fill=\"none\" stroke=\"#000000\" d=\"M383.2022,-288.2022C385.0821,-280.2406 387.3425,-270.6671 389.4371,-261.7957\"/>\n",
       "<polygon fill=\"#000000\" stroke=\"#000000\" points=\"392.8955,-262.3792 391.7872,-251.8425 386.0828,-260.7706 392.8955,-262.3792\"/>\n",
       "</g>\n",
       "<!-- 6_24 -->\n",
       "<g id=\"node14\" class=\"node\">\n",
       "<title>6_24</title>\n",
       "<ellipse fill=\"none\" stroke=\"#000000\" cx=\"27\" cy=\"-162\" rx=\"27\" ry=\"18\"/>\n",
       "<text text-anchor=\"middle\" x=\"27\" y=\"-158.3\" font-family=\"Times,serif\" font-size=\"14.00\" fill=\"#000000\">6</text>\n",
       "</g>\n",
       "<!-- E1*E2_26&#45;&gt;6_24 -->\n",
       "<g id=\"edge1\" class=\"edge\">\n",
       "<title>E1*E2_26&#45;&gt;6_24</title>\n",
       "<path fill=\"none\" stroke=\"#000000\" d=\"M82.6621,-217.6621C72.8185,-207.8185 60.1458,-195.1458 49.3795,-184.3795\"/>\n",
       "<polygon fill=\"#000000\" stroke=\"#000000\" points=\"51.8346,-181.8848 42.2886,-177.2886 46.8848,-186.8346 51.8346,-181.8848\"/>\n",
       "</g>\n",
       "<!-- *_27 -->\n",
       "<g id=\"node15\" class=\"node\">\n",
       "<title>*_27</title>\n",
       "<ellipse fill=\"none\" stroke=\"#000000\" cx=\"99\" cy=\"-162\" rx=\"27\" ry=\"18\"/>\n",
       "<text text-anchor=\"middle\" x=\"99\" y=\"-158.3\" font-family=\"Times,serif\" font-size=\"14.00\" fill=\"#000000\">*</text>\n",
       "</g>\n",
       "<!-- E1*E2_26&#45;&gt;*_27 -->\n",
       "<g id=\"edge2\" class=\"edge\">\n",
       "<title>E1*E2_26&#45;&gt;*_27</title>\n",
       "<path fill=\"none\" stroke=\"#000000\" d=\"M99,-215.8314C99,-208.131 99,-198.9743 99,-190.4166\"/>\n",
       "<polygon fill=\"#000000\" stroke=\"#000000\" points=\"102.5001,-190.4132 99,-180.4133 95.5001,-190.4133 102.5001,-190.4132\"/>\n",
       "</g>\n",
       "<!-- 3_25 -->\n",
       "<g id=\"node16\" class=\"node\">\n",
       "<title>3_25</title>\n",
       "<ellipse fill=\"none\" stroke=\"#000000\" cx=\"171\" cy=\"-162\" rx=\"27\" ry=\"18\"/>\n",
       "<text text-anchor=\"middle\" x=\"171\" y=\"-158.3\" font-family=\"Times,serif\" font-size=\"14.00\" fill=\"#000000\">3</text>\n",
       "</g>\n",
       "<!-- E1*E2_26&#45;&gt;3_25 -->\n",
       "<g id=\"edge3\" class=\"edge\">\n",
       "<title>E1*E2_26&#45;&gt;3_25</title>\n",
       "<path fill=\"none\" stroke=\"#000000\" d=\"M115.3379,-217.6621C125.1815,-207.8185 137.8542,-195.1458 148.6205,-184.3795\"/>\n",
       "<polygon fill=\"#000000\" stroke=\"#000000\" points=\"151.1152,-186.8346 155.7114,-177.2886 146.1654,-181.8848 151.1152,-186.8346\"/>\n",
       "</g>\n",
       "<!-- E1&#45;E2_44 -->\n",
       "<g id=\"node21\" class=\"node\">\n",
       "<title>E1&#45;E2_44</title>\n",
       "<ellipse fill=\"none\" stroke=\"#000000\" cx=\"475\" cy=\"-234\" rx=\"33.5952\" ry=\"18\"/>\n",
       "<text text-anchor=\"middle\" x=\"475\" y=\"-230.3\" font-family=\"Times,serif\" font-size=\"14.00\" fill=\"#000000\">E1&#45;E2</text>\n",
       "</g>\n",
       "<!-- E1&#45;E2_55&#45;&gt;E1&#45;E2_44 -->\n",
       "<g id=\"edge29\" class=\"edge\">\n",
       "<title>E1&#45;E2_55&#45;&gt;E1&#45;E2_44</title>\n",
       "<path fill=\"none\" stroke=\"#000000\" d=\"M526.7967,-289.6621C518.059,-280.2723 506.9257,-268.3082 497.2218,-257.8802\"/>\n",
       "<polygon fill=\"#000000\" stroke=\"#000000\" points=\"499.5178,-255.2097 490.1432,-250.2733 494.3933,-259.9783 499.5178,-255.2097\"/>\n",
       "</g>\n",
       "<!-- &#45;_56 -->\n",
       "<g id=\"node22\" class=\"node\">\n",
       "<title>&#45;_56</title>\n",
       "<ellipse fill=\"none\" stroke=\"#000000\" cx=\"554\" cy=\"-234\" rx=\"27\" ry=\"18\"/>\n",
       "<text text-anchor=\"middle\" x=\"554\" y=\"-230.3\" font-family=\"Times,serif\" font-size=\"14.00\" fill=\"#000000\">&#45;</text>\n",
       "</g>\n",
       "<!-- E1&#45;E2_55&#45;&gt;&#45;_56 -->\n",
       "<g id=\"edge30\" class=\"edge\">\n",
       "<title>E1&#45;E2_55&#45;&gt;&#45;_56</title>\n",
       "<path fill=\"none\" stroke=\"#000000\" d=\"M545.0281,-287.8314C546.3313,-280.0125 547.8846,-270.6923 549.3297,-262.0221\"/>\n",
       "<polygon fill=\"#000000\" stroke=\"#000000\" points=\"552.8227,-262.3528 551.0144,-251.9134 545.918,-261.2019 552.8227,-262.3528\"/>\n",
       "</g>\n",
       "<!-- E1*E2_53 -->\n",
       "<g id=\"node23\" class=\"node\">\n",
       "<title>E1*E2_53</title>\n",
       "<ellipse fill=\"none\" stroke=\"#000000\" cx=\"669\" cy=\"-234\" rx=\"35.9954\" ry=\"18\"/>\n",
       "<text text-anchor=\"middle\" x=\"669\" y=\"-230.3\" font-family=\"Times,serif\" font-size=\"14.00\" fill=\"#000000\">E1*E2</text>\n",
       "</g>\n",
       "<!-- E1&#45;E2_55&#45;&gt;E1*E2_53 -->\n",
       "<g id=\"edge31\" class=\"edge\">\n",
       "<title>E1&#45;E2_55&#45;&gt;E1*E2_53</title>\n",
       "<path fill=\"none\" stroke=\"#000000\" d=\"M565.2938,-292.7941C585.182,-281.5188 614.0093,-265.1758 636.2255,-252.5808\"/>\n",
       "<polygon fill=\"#000000\" stroke=\"#000000\" points=\"638.0179,-255.5881 644.991,-247.6114 634.5656,-249.4986 638.0179,-255.5881\"/>\n",
       "</g>\n",
       "<!-- E1&#45;E2_41 -->\n",
       "<g id=\"node24\" class=\"node\">\n",
       "<title>E1&#45;E2_41</title>\n",
       "<ellipse fill=\"none\" stroke=\"#000000\" cx=\"379\" cy=\"-162\" rx=\"33.5952\" ry=\"18\"/>\n",
       "<text text-anchor=\"middle\" x=\"379\" y=\"-158.3\" font-family=\"Times,serif\" font-size=\"14.00\" fill=\"#000000\">E1&#45;E2</text>\n",
       "</g>\n",
       "<!-- E1&#45;E2_44&#45;&gt;E1&#45;E2_41 -->\n",
       "<g id=\"edge18\" class=\"edge\">\n",
       "<title>E1&#45;E2_44&#45;&gt;E1&#45;E2_41</title>\n",
       "<path fill=\"none\" stroke=\"#000000\" d=\"M455.1087,-219.0816C441.2071,-208.6554 422.4488,-194.5866 407.0337,-183.0253\"/>\n",
       "<polygon fill=\"#000000\" stroke=\"#000000\" points=\"408.9658,-180.0994 398.8658,-176.8993 404.7658,-185.6994 408.9658,-180.0994\"/>\n",
       "</g>\n",
       "<!-- &#45;_45 -->\n",
       "<g id=\"node25\" class=\"node\">\n",
       "<title>&#45;_45</title>\n",
       "<ellipse fill=\"none\" stroke=\"#000000\" cx=\"458\" cy=\"-162\" rx=\"27\" ry=\"18\"/>\n",
       "<text text-anchor=\"middle\" x=\"458\" y=\"-158.3\" font-family=\"Times,serif\" font-size=\"14.00\" fill=\"#000000\">&#45;</text>\n",
       "</g>\n",
       "<!-- E1&#45;E2_44&#45;&gt;&#45;_45 -->\n",
       "<g id=\"edge19\" class=\"edge\">\n",
       "<title>E1&#45;E2_44&#45;&gt;&#45;_45</title>\n",
       "<path fill=\"none\" stroke=\"#000000\" d=\"M470.7102,-215.8314C468.8438,-207.9266 466.615,-198.4872 464.5489,-189.7365\"/>\n",
       "<polygon fill=\"#000000\" stroke=\"#000000\" points=\"467.9339,-188.8415 462.2296,-179.9134 461.1212,-190.4501 467.9339,-188.8415\"/>\n",
       "</g>\n",
       "<!-- 5_43 -->\n",
       "<g id=\"node26\" class=\"node\">\n",
       "<title>5_43</title>\n",
       "<ellipse fill=\"none\" stroke=\"#000000\" cx=\"530\" cy=\"-162\" rx=\"27\" ry=\"18\"/>\n",
       "<text text-anchor=\"middle\" x=\"530\" y=\"-158.3\" font-family=\"Times,serif\" font-size=\"14.00\" fill=\"#000000\">5</text>\n",
       "</g>\n",
       "<!-- E1&#45;E2_44&#45;&gt;5_43 -->\n",
       "<g id=\"edge20\" class=\"edge\">\n",
       "<title>E1&#45;E2_44&#45;&gt;5_43</title>\n",
       "<path fill=\"none\" stroke=\"#000000\" d=\"M487.7563,-217.3008C494.7972,-208.0836 503.6688,-196.4699 511.4622,-186.2677\"/>\n",
       "<polygon fill=\"#000000\" stroke=\"#000000\" points=\"514.4021,-188.1848 517.6912,-178.1134 508.8394,-183.9355 514.4021,-188.1848\"/>\n",
       "</g>\n",
       "<!-- E1/E2_48 -->\n",
       "<g id=\"node33\" class=\"node\">\n",
       "<title>E1/E2_48</title>\n",
       "<ellipse fill=\"none\" stroke=\"#000000\" cx=\"608\" cy=\"-162\" rx=\"33.2948\" ry=\"18\"/>\n",
       "<text text-anchor=\"middle\" x=\"608\" y=\"-158.3\" font-family=\"Times,serif\" font-size=\"14.00\" fill=\"#000000\">E1/E2</text>\n",
       "</g>\n",
       "<!-- E1*E2_53&#45;&gt;E1/E2_48 -->\n",
       "<g id=\"edge26\" class=\"edge\">\n",
       "<title>E1*E2_53&#45;&gt;E1/E2_48</title>\n",
       "<path fill=\"none\" stroke=\"#000000\" d=\"M654.8521,-217.3008C647.0761,-208.1226 637.2868,-196.568 628.6698,-186.3971\"/>\n",
       "<polygon fill=\"#000000\" stroke=\"#000000\" points=\"631.2059,-183.9761 622.0712,-178.6087 625.865,-188.501 631.2059,-183.9761\"/>\n",
       "</g>\n",
       "<!-- *_54 -->\n",
       "<g id=\"node34\" class=\"node\">\n",
       "<title>*_54</title>\n",
       "<ellipse fill=\"none\" stroke=\"#000000\" cx=\"686\" cy=\"-162\" rx=\"27\" ry=\"18\"/>\n",
       "<text text-anchor=\"middle\" x=\"686\" y=\"-158.3\" font-family=\"Times,serif\" font-size=\"14.00\" fill=\"#000000\">*</text>\n",
       "</g>\n",
       "<!-- E1*E2_53&#45;&gt;*_54 -->\n",
       "<g id=\"edge27\" class=\"edge\">\n",
       "<title>E1*E2_53&#45;&gt;*_54</title>\n",
       "<path fill=\"none\" stroke=\"#000000\" d=\"M673.2898,-215.8314C675.1562,-207.9266 677.385,-198.4872 679.4511,-189.7365\"/>\n",
       "<polygon fill=\"#000000\" stroke=\"#000000\" points=\"682.8788,-190.4501 681.7704,-179.9134 676.0661,-188.8415 682.8788,-190.4501\"/>\n",
       "</g>\n",
       "<!-- ~E_51 -->\n",
       "<g id=\"node35\" class=\"node\">\n",
       "<title>~E_51</title>\n",
       "<ellipse fill=\"none\" stroke=\"#000000\" cx=\"758\" cy=\"-162\" rx=\"27\" ry=\"18\"/>\n",
       "<text text-anchor=\"middle\" x=\"758\" y=\"-158.3\" font-family=\"Times,serif\" font-size=\"14.00\" fill=\"#000000\">~E</text>\n",
       "</g>\n",
       "<!-- E1*E2_53&#45;&gt;~E_51 -->\n",
       "<g id=\"edge28\" class=\"edge\">\n",
       "<title>E1*E2_53&#45;&gt;~E_51</title>\n",
       "<path fill=\"none\" stroke=\"#000000\" d=\"M688.3117,-218.3771C701.3036,-207.8667 718.5666,-193.9012 732.6603,-182.4996\"/>\n",
       "<polygon fill=\"#000000\" stroke=\"#000000\" points=\"734.9627,-185.1388 740.5359,-176.1282 730.5601,-179.6967 734.9627,-185.1388\"/>\n",
       "</g>\n",
       "<!-- E1+E2_38 -->\n",
       "<g id=\"node27\" class=\"node\">\n",
       "<title>E1+E2_38</title>\n",
       "<ellipse fill=\"none\" stroke=\"#000000\" cx=\"298\" cy=\"-90\" rx=\"36.2938\" ry=\"18\"/>\n",
       "<text text-anchor=\"middle\" x=\"298\" y=\"-86.3\" font-family=\"Times,serif\" font-size=\"14.00\" fill=\"#000000\">E1+E2</text>\n",
       "</g>\n",
       "<!-- E1&#45;E2_41&#45;&gt;E1+E2_38 -->\n",
       "<g id=\"edge15\" class=\"edge\">\n",
       "<title>E1&#45;E2_41&#45;&gt;E1+E2_38</title>\n",
       "<path fill=\"none\" stroke=\"#000000\" d=\"M361.4242,-146.3771C350.3554,-136.5382 335.8803,-123.6714 323.5538,-112.7145\"/>\n",
       "<polygon fill=\"#000000\" stroke=\"#000000\" points=\"325.6206,-109.8688 315.8212,-105.8411 320.97,-115.1007 325.6206,-109.8688\"/>\n",
       "</g>\n",
       "<!-- &#45;_42 -->\n",
       "<g id=\"node28\" class=\"node\">\n",
       "<title>&#45;_42</title>\n",
       "<ellipse fill=\"none\" stroke=\"#000000\" cx=\"379\" cy=\"-90\" rx=\"27\" ry=\"18\"/>\n",
       "<text text-anchor=\"middle\" x=\"379\" y=\"-86.3\" font-family=\"Times,serif\" font-size=\"14.00\" fill=\"#000000\">&#45;</text>\n",
       "</g>\n",
       "<!-- E1&#45;E2_41&#45;&gt;&#45;_42 -->\n",
       "<g id=\"edge16\" class=\"edge\">\n",
       "<title>E1&#45;E2_41&#45;&gt;&#45;_42</title>\n",
       "<path fill=\"none\" stroke=\"#000000\" d=\"M379,-143.8314C379,-136.131 379,-126.9743 379,-118.4166\"/>\n",
       "<polygon fill=\"#000000\" stroke=\"#000000\" points=\"382.5001,-118.4132 379,-108.4133 375.5001,-118.4133 382.5001,-118.4132\"/>\n",
       "</g>\n",
       "<!-- 4_40 -->\n",
       "<g id=\"node29\" class=\"node\">\n",
       "<title>4_40</title>\n",
       "<ellipse fill=\"none\" stroke=\"#000000\" cx=\"451\" cy=\"-90\" rx=\"27\" ry=\"18\"/>\n",
       "<text text-anchor=\"middle\" x=\"451\" y=\"-86.3\" font-family=\"Times,serif\" font-size=\"14.00\" fill=\"#000000\">4</text>\n",
       "</g>\n",
       "<!-- E1&#45;E2_41&#45;&gt;4_40 -->\n",
       "<g id=\"edge17\" class=\"edge\">\n",
       "<title>E1&#45;E2_41&#45;&gt;4_40</title>\n",
       "<path fill=\"none\" stroke=\"#000000\" d=\"M394.9791,-146.0209C404.8082,-136.1918 417.5569,-123.4431 428.409,-112.591\"/>\n",
       "<polygon fill=\"#000000\" stroke=\"#000000\" points=\"430.9635,-114.9863 435.5597,-105.4403 426.0137,-110.0365 430.9635,-114.9863\"/>\n",
       "</g>\n",
       "<!-- 2_36 -->\n",
       "<g id=\"node30\" class=\"node\">\n",
       "<title>2_36</title>\n",
       "<ellipse fill=\"none\" stroke=\"#000000\" cx=\"226\" cy=\"-18\" rx=\"27\" ry=\"18\"/>\n",
       "<text text-anchor=\"middle\" x=\"226\" y=\"-14.3\" font-family=\"Times,serif\" font-size=\"14.00\" fill=\"#000000\">2</text>\n",
       "</g>\n",
       "<!-- E1+E2_38&#45;&gt;2_36 -->\n",
       "<g id=\"edge12\" class=\"edge\">\n",
       "<title>E1+E2_38&#45;&gt;2_36</title>\n",
       "<path fill=\"none\" stroke=\"#000000\" d=\"M281.6621,-73.6621C271.8185,-63.8185 259.1458,-51.1458 248.3795,-40.3795\"/>\n",
       "<polygon fill=\"#000000\" stroke=\"#000000\" points=\"250.8346,-37.8848 241.2886,-33.2886 245.8848,-42.8346 250.8346,-37.8848\"/>\n",
       "</g>\n",
       "<!-- +_39 -->\n",
       "<g id=\"node31\" class=\"node\">\n",
       "<title>+_39</title>\n",
       "<ellipse fill=\"none\" stroke=\"#000000\" cx=\"298\" cy=\"-18\" rx=\"27\" ry=\"18\"/>\n",
       "<text text-anchor=\"middle\" x=\"298\" y=\"-14.3\" font-family=\"Times,serif\" font-size=\"14.00\" fill=\"#000000\">+</text>\n",
       "</g>\n",
       "<!-- E1+E2_38&#45;&gt;+_39 -->\n",
       "<g id=\"edge13\" class=\"edge\">\n",
       "<title>E1+E2_38&#45;&gt;+_39</title>\n",
       "<path fill=\"none\" stroke=\"#000000\" d=\"M298,-71.8314C298,-64.131 298,-54.9743 298,-46.4166\"/>\n",
       "<polygon fill=\"#000000\" stroke=\"#000000\" points=\"301.5001,-46.4132 298,-36.4133 294.5001,-46.4133 301.5001,-46.4132\"/>\n",
       "</g>\n",
       "<!-- 3_37 -->\n",
       "<g id=\"node32\" class=\"node\">\n",
       "<title>3_37</title>\n",
       "<ellipse fill=\"none\" stroke=\"#000000\" cx=\"370\" cy=\"-18\" rx=\"27\" ry=\"18\"/>\n",
       "<text text-anchor=\"middle\" x=\"370\" y=\"-14.3\" font-family=\"Times,serif\" font-size=\"14.00\" fill=\"#000000\">3</text>\n",
       "</g>\n",
       "<!-- E1+E2_38&#45;&gt;3_37 -->\n",
       "<g id=\"edge14\" class=\"edge\">\n",
       "<title>E1+E2_38&#45;&gt;3_37</title>\n",
       "<path fill=\"none\" stroke=\"#000000\" d=\"M314.3379,-73.6621C324.1815,-63.8185 336.8542,-51.1458 347.6205,-40.3795\"/>\n",
       "<polygon fill=\"#000000\" stroke=\"#000000\" points=\"350.1152,-42.8346 354.7114,-33.2886 345.1654,-37.8848 350.1152,-42.8346\"/>\n",
       "</g>\n",
       "<!-- 6_46 -->\n",
       "<g id=\"node36\" class=\"node\">\n",
       "<title>6_46</title>\n",
       "<ellipse fill=\"none\" stroke=\"#000000\" cx=\"536\" cy=\"-90\" rx=\"27\" ry=\"18\"/>\n",
       "<text text-anchor=\"middle\" x=\"536\" y=\"-86.3\" font-family=\"Times,serif\" font-size=\"14.00\" fill=\"#000000\">6</text>\n",
       "</g>\n",
       "<!-- E1/E2_48&#45;&gt;6_46 -->\n",
       "<g id=\"edge21\" class=\"edge\">\n",
       "<title>E1/E2_48&#45;&gt;6_46</title>\n",
       "<path fill=\"none\" stroke=\"#000000\" d=\"M592.0209,-146.0209C582.1918,-136.1918 569.4431,-123.4431 558.591,-112.591\"/>\n",
       "<polygon fill=\"#000000\" stroke=\"#000000\" points=\"560.9863,-110.0365 551.4403,-105.4403 556.0365,-114.9863 560.9863,-110.0365\"/>\n",
       "</g>\n",
       "<!-- /_49 -->\n",
       "<g id=\"node37\" class=\"node\">\n",
       "<title>/_49</title>\n",
       "<ellipse fill=\"none\" stroke=\"#000000\" cx=\"608\" cy=\"-90\" rx=\"27\" ry=\"18\"/>\n",
       "<text text-anchor=\"middle\" x=\"608\" y=\"-86.3\" font-family=\"Times,serif\" font-size=\"14.00\" fill=\"#000000\">/</text>\n",
       "</g>\n",
       "<!-- E1/E2_48&#45;&gt;/_49 -->\n",
       "<g id=\"edge22\" class=\"edge\">\n",
       "<title>E1/E2_48&#45;&gt;/_49</title>\n",
       "<path fill=\"none\" stroke=\"#000000\" d=\"M608,-143.8314C608,-136.131 608,-126.9743 608,-118.4166\"/>\n",
       "<polygon fill=\"#000000\" stroke=\"#000000\" points=\"611.5001,-118.4132 608,-108.4133 604.5001,-118.4133 611.5001,-118.4132\"/>\n",
       "</g>\n",
       "<!-- 7_47 -->\n",
       "<g id=\"node38\" class=\"node\">\n",
       "<title>7_47</title>\n",
       "<ellipse fill=\"none\" stroke=\"#000000\" cx=\"680\" cy=\"-90\" rx=\"27\" ry=\"18\"/>\n",
       "<text text-anchor=\"middle\" x=\"680\" y=\"-86.3\" font-family=\"Times,serif\" font-size=\"14.00\" fill=\"#000000\">7</text>\n",
       "</g>\n",
       "<!-- E1/E2_48&#45;&gt;7_47 -->\n",
       "<g id=\"edge23\" class=\"edge\">\n",
       "<title>E1/E2_48&#45;&gt;7_47</title>\n",
       "<path fill=\"none\" stroke=\"#000000\" d=\"M623.9791,-146.0209C633.8082,-136.1918 646.5569,-123.4431 657.409,-112.591\"/>\n",
       "<polygon fill=\"#000000\" stroke=\"#000000\" points=\"659.9635,-114.9863 664.5597,-105.4403 655.0137,-110.0365 659.9635,-114.9863\"/>\n",
       "</g>\n",
       "<!-- ~_52 -->\n",
       "<g id=\"node39\" class=\"node\">\n",
       "<title>~_52</title>\n",
       "<ellipse fill=\"none\" stroke=\"#000000\" cx=\"755\" cy=\"-90\" rx=\"27\" ry=\"18\"/>\n",
       "<text text-anchor=\"middle\" x=\"755\" y=\"-86.3\" font-family=\"Times,serif\" font-size=\"14.00\" fill=\"#000000\">~</text>\n",
       "</g>\n",
       "<!-- ~E_51&#45;&gt;~_52 -->\n",
       "<g id=\"edge24\" class=\"edge\">\n",
       "<title>~E_51&#45;&gt;~_52</title>\n",
       "<path fill=\"none\" stroke=\"#000000\" d=\"M757.243,-143.8314C756.9221,-136.131 756.5406,-126.9743 756.184,-118.4166\"/>\n",
       "<polygon fill=\"#000000\" stroke=\"#000000\" points=\"759.6806,-118.2589 755.7672,-108.4133 752.6867,-118.5503 759.6806,-118.2589\"/>\n",
       "</g>\n",
       "<!-- 8_50 -->\n",
       "<g id=\"node40\" class=\"node\">\n",
       "<title>8_50</title>\n",
       "<ellipse fill=\"none\" stroke=\"#000000\" cx=\"827\" cy=\"-90\" rx=\"27\" ry=\"18\"/>\n",
       "<text text-anchor=\"middle\" x=\"827\" y=\"-86.3\" font-family=\"Times,serif\" font-size=\"14.00\" fill=\"#000000\">8</text>\n",
       "</g>\n",
       "<!-- ~E_51&#45;&gt;8_50 -->\n",
       "<g id=\"edge25\" class=\"edge\">\n",
       "<title>~E_51&#45;&gt;8_50</title>\n",
       "<path fill=\"none\" stroke=\"#000000\" d=\"M772.6331,-146.7307C782.1471,-136.803 794.7188,-123.6847 805.3765,-112.5637\"/>\n",
       "<polygon fill=\"#000000\" stroke=\"#000000\" points=\"807.9959,-114.8889 812.388,-105.2473 802.9419,-110.0456 807.9959,-114.8889\"/>\n",
       "</g>\n",
       "</g>\n",
       "</svg>\n"
      ],
      "text/plain": [
       "<graphviz.dot.Digraph at 0x105935f60>"
      ]
     },
     "execution_count": 15,
     "metadata": {},
     "output_type": "execute_result"
    }
   ],
   "source": [
    "drawPT(parseExp(\"6*3/4*~5/(2+3-4-5-6/7*~8)-~9\"))"
   ]
  },
  {
   "cell_type": "code",
   "execution_count": 16,
   "metadata": {
    "run_control": {
     "frozen": false,
     "read_only": false
    }
   },
   "outputs": [
    {
     "data": {
      "text/plain": [
       "1.1249999999999991"
      ]
     },
     "execution_count": 16,
     "metadata": {},
     "output_type": "execute_result"
    }
   ],
   "source": [
    "# Check against Python!\n",
    "6*3/4*-5/(2+3-4-5-6/7*-8)--9"
   ]
  },
  {
   "cell_type": "markdown",
   "metadata": {
    "run_control": {
     "frozen": false,
     "read_only": false
    }
   },
   "source": [
    "# A3: Yes/No plus 1-2 lines of your thoughts\n"
   ]
  },
  {
   "cell_type": "markdown",
   "metadata": {
    "run_control": {
     "frozen": false,
     "read_only": false
    }
   },
   "source": [
    "# Q4: How does Python differ from Google Sheets?"
   ]
  },
  {
   "cell_type": "markdown",
   "metadata": {
    "run_control": {
     "frozen": false,
     "read_only": false
    }
   },
   "source": [
    "With respect to Ref-2,\n",
    "Point out the similarities and differences between  Python and \n",
    "Google Sheets when it comes to handling. Just a few sentences talking about similarities and a few sentences about the differences.\n",
    "    \n",
    "- Associativity of exponentiation\n",
    "- Whether negation or exponentiation is handled first"
   ]
  },
  {
   "cell_type": "markdown",
   "metadata": {
    "run_control": {
     "frozen": false,
     "read_only": false
    }
   },
   "source": [
    "# A4:  Finding this out from Google Search, we have this:\n",
    " \n",
    "## In `python` and `google-sheets`, the associativity of exponentiation is **left/right-associative**  (choose one)\n",
    " \n",
    "\n",
    "##  **negation/exponentiation** is handled first by `google-sheets` and **negation/exponentiation** is handled first in `python`. (choose one)\n",
    "\n",
    "### Search ```exponentiation and unary minus  ...``` etc.\n",
    "\n",
    "# Given that one's search results are bound to vary a lot, we will grade this part lightly\n",
    " "
   ]
  }
 ],
 "metadata": {
  "kernelspec": {
   "display_name": "Python 3",
   "language": "python",
   "name": "python3"
  },
  "language_info": {
   "codemirror_mode": {
    "name": "ipython",
    "version": 3
   },
   "file_extension": ".py",
   "mimetype": "text/x-python",
   "name": "python",
   "nbconvert_exporter": "python",
   "pygments_lexer": "ipython3",
   "version": "3.7.3"
  },
  "toc": {
   "colors": {
    "hover_highlight": "#DAA520",
    "running_highlight": "#FF0000",
    "selected_highlight": "#FFD700"
   },
   "moveMenuLeft": true,
   "nav_menu": {
    "height": "12px",
    "width": "252px"
   },
   "navigate_menu": true,
   "number_sections": true,
   "sideBar": true,
   "threshold": 4,
   "toc_cell": false,
   "toc_section_display": "block",
   "toc_window_display": false,
   "widenNotebook": false
  }
 },
 "nbformat": 4,
 "nbformat_minor": 2
}
