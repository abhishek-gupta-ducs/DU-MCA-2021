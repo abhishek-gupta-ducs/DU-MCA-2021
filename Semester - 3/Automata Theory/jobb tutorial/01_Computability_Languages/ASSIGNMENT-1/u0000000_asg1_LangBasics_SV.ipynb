{
 "cells": [
  {
   "cell_type": "markdown",
   "metadata": {},
   "source": [
    "# First let's import, then look for the assignment below"
   ]
  },
  {
   "cell_type": "code",
   "execution_count": null,
   "metadata": {},
   "outputs": [],
   "source": [
    "#~~~~~~~~~~~~~~~~~~~~~~~~~~~~~~~~~~~~~~~~~~~~~~~~~~~~~~~\n",
    "import sys\n",
    "\n",
    "# -- Detect if in Own Install or in Colab\n",
    "try:\n",
    "    import google.colab\n",
    "    OWN_INSTALL = False\n",
    "except:\n",
    "    OWN_INSTALL = True\n",
    "    \n",
    "if OWN_INSTALL:\n",
    "    \n",
    "  #---- Leave these definitions ON if running on laptop\n",
    "  #---- Else turn OFF by putting them between ''' ... '''\n",
    "\n",
    "  sys.path[0:0] = ['../../../../..',  '../../../../../3rdparty',  \n",
    "                   '../../../..',  '../../../../3rdparty',  \n",
    "                   '../../..',     '../../../3rdparty', \n",
    "                   '../..',        '../../3rdparty',\n",
    "                   '..',           '../3rdparty' ]\n",
    "\n",
    "else: # In colab\n",
    "  ! if [ ! -d Jove ]; then git clone https://github.com/ganeshutah/Jove Jove; fi\n",
    "  sys.path.append('./Jove')\n",
    "  sys.path.append('./Jove/jove')\n",
    "\n",
    "# -- common imports --\n",
    "from jove.LangDef   import *\n",
    "#~~~~~~~~~~~~~~~~~~~~~~~~~~~~~~~~~~~~~~~~~~~~~~~~~~~~~~~"
   ]
  },
  {
   "cell_type": "markdown",
   "metadata": {},
   "source": [
    "# Assignment-1 Problem-2 on Language Basics\n",
    "\n",
    "## Graded by Shashank Vadlamani (SV)\n",
    "\n",
    "### BEFORE YOU SUBMIT THIS FILE, PLEASE RENAME THIS FILE BY REPLACING THE 0000000 IN THE FILE NAME WITH YOUR CORRECT UNID. KEEP THE \"u\" AT THE BEGINNING.\n",
    "\n",
    "\n",
    " <font size=\"4\"> \n",
    "\n",
    "This problem helps you review the basics of languages, symbols, strings, concatenation, etc. It presents the material in the form of puzzles.  \n",
    "    \n",
    "Tasks for you:\n",
    " \n",
    "</font>"
   ]
  },
  {
   "cell_type": "markdown",
   "metadata": {},
   "source": [
    "<font size=\"4\"> \n",
    "\n",
    " \n",
    "1. If there are two languages $L_1$ and $L_2$, their concatenation has smaller size than their cartesian product if the following condition is met:\n",
    "    \n",
    "    **Their intersection is at least of size 2 and contains $\\varepsilon$**\n",
    "    \n",
    "    (The other aspects of the languages may be different.)\n",
    "    \n",
    "Your two tasks are described below.\n",
    "    \n",
    "</font>"
   ]
  },
  {
   "cell_type": "markdown",
   "metadata": {},
   "source": [
    "# Space below for your arguments\n",
    "<font size=\"4\">\n",
    "\n",
    "\n",
    "</font>"
   ]
  },
  {
   "cell_type": "markdown",
   "metadata": {},
   "source": [
    "## Now present code that supports or refutes the claim."
   ]
  },
  {
   "cell_type": "markdown",
   "metadata": {},
   "source": [
    "# Task-1: Define two languages to print \"cat and product have the same size\" below. L1 and L2 must both contain $\\varepsilon$."
   ]
  },
  {
   "cell_type": "code",
   "execution_count": null,
   "metadata": {},
   "outputs": [],
   "source": [
    "L1 = ...a small finite language that contains epsilon...\n",
    "L2 = ...another small finite language that contains epsilon..."
   ]
  },
  {
   "cell_type": "code",
   "execution_count": null,
   "metadata": {},
   "outputs": [],
   "source": [
    "print(\"L1 and L2 are\", L1, L2)\n",
    "\n",
    "# Perform their contatenation \n",
    "\n",
    "catL1L2 = lcat(L1,L2)\n",
    "lencatL1L2 = len(catL1L2)\n",
    "\n",
    "print(\"Cat of L1 and L2 is\", catL1L2, \" of size \", lencatL1L2)\n",
    "\n",
    "# Perform their intersection\n",
    "\n",
    "intL1L2 = lint(L1,L2)\n",
    "lenintL1L2 = len(intL1L2)\n",
    "\n",
    "print(\"Intersection of L1 and L2 is\", intL1L2, \" of size \", lenintL1L2)\n",
    "\n",
    "# Make a statement of what you observe\n",
    "\n",
    "prodL1L2 = { (x,y) for x in L1 for y in L2 }\n",
    "lenprodL1L2 = len(prodL1L2)\n",
    "\n",
    "print(\"Product of L1 and L2 is\", prodL1L2, \" of size \", lenprodL1L2)\n",
    "\n",
    "if (lenprodL1L2 != lencatL1L2):\n",
    "    print(\" cat and product differ in size \")\n",
    "else:\n",
    "    print(\" cat and product have the same size \")\n",
    "    \n",
    " "
   ]
  },
  {
   "cell_type": "markdown",
   "metadata": {},
   "source": [
    "#### The statements you are requested to make corresponding to the prints can be added below\n",
    "#### Did you choose the languages such that cat and intersection resulted in the same size?\n",
    "\n",
    "...\n",
    "...\n"
   ]
  },
  {
   "cell_type": "markdown",
   "metadata": {},
   "source": [
    "# Task-2: Define two languages to print \"cat and product differ in size\" below. L1 and L2 must both contain $\\varepsilon$."
   ]
  },
  {
   "cell_type": "code",
   "execution_count": null,
   "metadata": {},
   "outputs": [],
   "source": [
    "L1 = ...a small finite language that contains epsilon...\n",
    "L2 = ...another small finite language that contains epsilon..."
   ]
  },
  {
   "cell_type": "code",
   "execution_count": null,
   "metadata": {},
   "outputs": [],
   "source": [
    "print(\"L1 and L2 are\", L1, L2)\n",
    "\n",
    "# Perform their contatenation \n",
    "\n",
    "catL1L2 = lcat(L1,L2)\n",
    "lencatL1L2 = len(catL1L2)\n",
    "\n",
    "print(\"Cat of L1 and L2 is\", catL1L2, \" of size \", lencatL1L2)\n",
    "\n",
    "# Perform their intersection\n",
    "\n",
    "intL1L2 = lint(L1,L2)\n",
    "lenintL1L2 = len(intL1L2)\n",
    "\n",
    "print(\"Intersection of L1 and L2 is\", intL1L2, \" of size \", lenintL1L2)\n",
    "\n",
    "# Make a statement of what you observe\n",
    "\n",
    "prodL1L2 = { (x,y) for x in L1 for y in L2 }\n",
    "lenprodL1L2 = len(prodL1L2)\n",
    "\n",
    "print(\"Product of L1 and L2 is\", prodL1L2, \" of size \", lenprodL1L2)\n",
    "\n",
    "if (lenprodL1L2 != lencatL1L2):\n",
    "    print(\" cat and product differ in size \")\n",
    "else:\n",
    "    print(\" cat and product have the same size \")\n",
    "    \n",
    " "
   ]
  },
  {
   "cell_type": "markdown",
   "metadata": {},
   "source": [
    "#### The statements you are requested to make corresponding to the prints can be added below\n",
    "#### Did you choose the languages such that cat and intersection resulted in different sizes?\n",
    "\n",
    "...\n",
    "...\n"
   ]
  }
 ],
 "metadata": {
  "kernelspec": {
   "display_name": "Python 3",
   "language": "python",
   "name": "python3"
  },
  "language_info": {
   "codemirror_mode": {
    "name": "ipython",
    "version": 3
   },
   "file_extension": ".py",
   "mimetype": "text/x-python",
   "name": "python",
   "nbconvert_exporter": "python",
   "pygments_lexer": "ipython3",
   "version": "3.7.3"
  }
 },
 "nbformat": 4,
 "nbformat_minor": 2
}
