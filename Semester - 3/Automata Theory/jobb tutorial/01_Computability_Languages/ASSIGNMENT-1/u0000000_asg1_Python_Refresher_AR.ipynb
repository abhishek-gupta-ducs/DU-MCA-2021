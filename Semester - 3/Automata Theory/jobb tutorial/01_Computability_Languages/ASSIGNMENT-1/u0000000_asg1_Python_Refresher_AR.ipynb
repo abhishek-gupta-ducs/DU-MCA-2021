{
 "cells": [
  {
   "cell_type": "markdown",
   "metadata": {},
   "source": [
    "# First let's import, then look for the assignment below"
   ]
  },
  {
   "cell_type": "code",
   "execution_count": null,
   "metadata": {},
   "outputs": [],
   "source": [
    "#~~~~~~~~~~~~~~~~~~~~~~~~~~~~~~~~~~~~~~~~~~~~~~~~~~~~~~~\n",
    "import sys\n",
    "\n",
    "# -- Detect if in Own Install or in Colab\n",
    "try:\n",
    "    import google.colab\n",
    "    OWN_INSTALL = False\n",
    "except:\n",
    "    OWN_INSTALL = True\n",
    "    \n",
    "if OWN_INSTALL:\n",
    "    \n",
    "  #---- Leave these definitions ON if running on laptop\n",
    "  #---- Else turn OFF by putting them between ''' ... '''\n",
    "\n",
    "  sys.path[0:0] = ['../../../../..',  '../../../../../3rdparty',  \n",
    "                   '../../../..',  '../../../../3rdparty',  \n",
    "                   '../../..',     '../../../3rdparty', \n",
    "                   '../..',        '../../3rdparty',\n",
    "                   '..',           '../3rdparty' ]\n",
    "\n",
    "else: # In colab\n",
    "  ! if [ ! -d Jove ]; then git clone https://github.com/ganeshutah/Jove Jove; fi\n",
    "  sys.path.append('./Jove')\n",
    "  sys.path.append('./Jove/jove')\n",
    "\n",
    "# -- common imports --\n",
    "from jove.LangDef   import *\n",
    "#~~~~~~~~~~~~~~~~~~~~~~~~~~~~~~~~~~~~~~~~~~~~~~~~~~~~~~~"
   ]
  },
  {
   "cell_type": "markdown",
   "metadata": {},
   "source": [
    "# Assignment-1 Problem-1 on Python Basics  \n",
    "\n",
    "## Graded by Archit Rathore (AR)\n",
    "\n",
    "### BEFORE YOU SUBMIT THIS FILE, PLEASE RENAME THIS FILE BY REPLACING THE 0000000 IN THE FILE NAME WITH YOUR CORRECT UNID. KEEP THE \"u\" AT THE BEGINNING."
   ]
  },
  {
   "cell_type": "markdown",
   "metadata": {},
   "source": [
    "## Define a regular language via Python's set builder (set comprehension) syntax\n",
    "\n",
    "<font size=\"4\"> \n",
    "    \n",
    "Recall from Chapter-1 that sets of strings of the form \"any number of $a$'s followed by any number of $b$'s followed by any number of $c$'s are regular languages.\n",
    "\n",
    "* Here, for instance, is a regular language\n",
    "    \n",
    "    $$ \\{ a^i b^j c^k \\;:\\; i,j,k \\ge 0 \\}$$\n",
    "  \n",
    "\n",
    "**Task for you**:\n",
    "\n",
    "* Define the above set in Python, limiting $i,j,k$ to be in $\\{0, \\ldots, 4\\}$.\n",
    "\n",
    "**IMPORTANT NOTE**: ALL finite sets are regular. Thus by truncating the set to a finite size, we always get a regular language. The purpose of truncation is ONLY to make sure that the printing stops. What we are really referring to as a regular language of interest is the mathematical language\n",
    "\n",
    "   $$ \\{ a^i b^j c^k \\;:\\; i,j,k \\ge 0 \\}$$\n",
    "    \n",
    "    \n",
    "</font>  "
   ]
  },
  {
   "cell_type": "code",
   "execution_count": null,
   "metadata": {},
   "outputs": [],
   "source": [
    "# The above regular language truncated to a small size, below\n",
    "A_reg_Language = { ... set comprehension here ... }\n",
    "\n",
    "# Print its contents\n",
    "A_reg_language"
   ]
  },
  {
   "cell_type": "markdown",
   "metadata": {},
   "source": [
    "## Define a context-free language via Python's set builder (set comprehension) syntax\n",
    "\n",
    "<font size=\"4\"> \n",
    "    \n",
    "Recall from Chapter-1 that sets of strings of the form \"any number of $a$'s followed by the same number of $b$'s and $c$'s is context-free.\n",
    "    \n",
    "* Here, for instance, is a context-free language\n",
    "    \n",
    "    $$ \\{ a^i b^j c^j \\;:\\; i,j \\ge 0 \\}$$\n",
    "     \n",
    "\n",
    "**Task for you**:\n",
    "\n",
    "* Define the above set in Python, again limiting $i,j,k$ to be in $\\{0, \\ldots, 4\\}$.\n",
    "\n",
    "**IMPORTANT NOTE**: ALL finite sets are regular. Thus by truncating the set to a finite size, we always get a regular language. The purpose of truncation is ONLY to make sure that the printing stops. What we are really referring to as a **context-free language** of interest is the mathematical language\n",
    "\n",
    "   $$ \\{ a^i b^j c^j \\;:\\; i,j \\ge 0 \\}$$\n",
    "    \n",
    "    \n",
    "</font>  "
   ]
  },
  {
   "cell_type": "code",
   "execution_count": null,
   "metadata": {},
   "outputs": [],
   "source": [
    "# Your Python definition of a context-free language, below\n",
    "A_context_free_language = { ... set comprehension ... }\n",
    "\n",
    "# Print its contents\n",
    "A_context_free_language "
   ]
  },
  {
   "cell_type": "markdown",
   "metadata": {},
   "source": [
    "## Define another context-free language  \n",
    "\n",
    "<font size=\"4\"> \n",
    "    \n",
    "In Chapter 4, we will study the Pumping Lemma to argue that this language is not context-free:\n",
    "    $$L_{if} = \\{ a^i b^j c^k \\;:\\; {\\rm if}\\; (i=2)\\; {\\rm then}\\; (j=k) \\}$$\n",
    "    \n",
    "\n",
    "\n",
    "**Task for you**:\n",
    "\n",
    "* Define $L_{if}$ in Python, again limiting $i,j,k$ to be in $\\{0, \\ldots, 4\\}$.\n",
    "* List all the strings where the condition $(i=2)$ is met. How many such strings are there?\n",
    "    \n",
    "**IMPORTANT NOTE**: ALL finite sets are regular. Thus by truncating the set to a finite size, we always get a regular language. The purpose of truncation is ONLY to make sure that the printing stops. What we are really referring to as a **context-free language** of interest is the mathematical language\n",
    "\n",
    "   \n",
    "  $$L_{if} = \\{ a^i b^j c^k \\;:\\; {\\rm if}\\; (i=2)\\; {\\rm then}\\; (j=k) \\}$$\n",
    "    \n",
    "    \n",
    "</font>  "
   ]
  },
  {
   "cell_type": "code",
   "execution_count": null,
   "metadata": {},
   "outputs": [],
   "source": [
    " \n",
    "# Your Python definition of the language Lif below\n",
    "Lif =  { .....python set-builder ..... }\n",
    "\n",
    "# print Lif\n",
    "\n",
    "Lif\n"
   ]
  },
  {
   "cell_type": "markdown",
   "metadata": {},
   "source": [
    "# Number of strings where (i=2) is met, and which are they?\n",
    "\n",
    "There are THIS MANY strings where (i=2) is met (EDIT \"THIS MANY\")\n",
    "\n",
    "# The strings where i = 2 is met are these:\n",
    "\n",
    "string1\n",
    "string2\n",
    "... (EDIT real strings here)\n",
    " "
   ]
  },
  {
   "cell_type": "markdown",
   "metadata": {},
   "source": [
    "# END"
   ]
  }
 ],
 "metadata": {
  "kernelspec": {
   "display_name": "Python 3",
   "language": "python",
   "name": "python3"
  },
  "language_info": {
   "codemirror_mode": {
    "name": "ipython",
    "version": 3
   },
   "file_extension": ".py",
   "mimetype": "text/x-python",
   "name": "python",
   "nbconvert_exporter": "python",
   "pygments_lexer": "ipython3",
   "version": "3.7.3"
  }
 },
 "nbformat": 4,
 "nbformat_minor": 2
}
