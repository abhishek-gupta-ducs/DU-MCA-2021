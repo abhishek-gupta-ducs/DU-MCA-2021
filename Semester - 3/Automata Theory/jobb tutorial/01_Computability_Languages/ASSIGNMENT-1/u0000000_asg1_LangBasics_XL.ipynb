{
 "cells": [
  {
   "cell_type": "markdown",
   "metadata": {},
   "source": [
    "# First let's import, then look for the assignment below"
   ]
  },
  {
   "cell_type": "code",
   "execution_count": null,
   "metadata": {},
   "outputs": [],
   "source": [
    "#~~~~~~~~~~~~~~~~~~~~~~~~~~~~~~~~~~~~~~~~~~~~~~~~~~~~~~~\n",
    "import sys\n",
    "\n",
    "# -- Detect if in Own Install or in Colab\n",
    "try:\n",
    "    import google.colab\n",
    "    OWN_INSTALL = False\n",
    "except:\n",
    "    OWN_INSTALL = True\n",
    "    \n",
    "if OWN_INSTALL:\n",
    "    \n",
    "  #---- Leave these definitions ON if running on laptop\n",
    "  #---- Else turn OFF by putting them between ''' ... '''\n",
    "\n",
    "  sys.path[0:0] = ['../../../../..',  '../../../../../3rdparty',  \n",
    "                   '../../../..',  '../../../../3rdparty',  \n",
    "                   '../../..',     '../../../3rdparty', \n",
    "                   '../..',        '../../3rdparty',\n",
    "                   '..',           '../3rdparty' ]\n",
    "\n",
    "else: # In colab\n",
    "  ! if [ ! -d Jove ]; then git clone https://github.com/ganeshutah/Jove Jove; fi\n",
    "  sys.path.append('./Jove')\n",
    "  sys.path.append('./Jove/jove')\n",
    "\n",
    "# -- common imports --\n",
    "from jove.LangDef   import *\n",
    "#~~~~~~~~~~~~~~~~~~~~~~~~~~~~~~~~~~~~~~~~~~~~~~~~~~~~~~~"
   ]
  },
  {
   "cell_type": "markdown",
   "metadata": {},
   "source": [
    "# Assignment-1 Problem-3 on Language Basics\n",
    "\n",
    "## Graded by Xinyi (Nicole) Li (XL)\n",
    "\n",
    "### BEFORE YOU SUBMIT THIS FILE, PLEASE RENAME THIS FILE BY REPLACING THE 0000000 IN THE FILE NAME WITH YOUR CORRECT UNID. KEEP THE \"u\" AT THE BEGINNING.\n",
    "\n",
    "\n",
    " <font size=\"4\"> \n",
    "\n",
    "This problem helps you review the basics of languages, symbols, strings, concatenation, etc. It presents the material in the form of puzzles. You are to take each challenge and either argue it is true or false, providing evidence via Jove sessions. Specifics will be further described below.\n",
    "    \n",
    "Tasks for you:\n",
    " \n",
    "</font>"
   ]
  },
  {
   "cell_type": "markdown",
   "metadata": {},
   "source": [
    "# Here is a claim relating intersection to concatenation\n",
    "\n",
    "\n",
    "<font size=\"4\"> \n",
    "\n",
    " If there are two languages $L_1$ and $L_2$, their intersection can never be the same as their concatenation if the languages are finite.\n",
    "    \n",
    " \n",
    "</font>"
   ]
  },
  {
   "cell_type": "markdown",
   "metadata": {},
   "source": [
    "## Define L1 and L2 (both finite) to make intersection = concatenation"
   ]
  },
  {
   "cell_type": "code",
   "execution_count": null,
   "metadata": {},
   "outputs": [],
   "source": [
    "# Define two FINITE languages\n",
    "L1 = ...\n",
    "L2 = ...\n",
    "\n",
    "# Perform their intersection\n",
    "\n",
    "intL1L2 = lint(L1,L2)\n",
    "\n",
    "# Perform their concatenation\n",
    "\n",
    "catL1L2 = lcat(L1,L2)\n",
    "\n",
    "# Make a statement of what you observe\n",
    "\n",
    "print(\"intersection = \", intL1L2)\n",
    "print(\"concatenation = \", catL1L2)\n",
    "\n",
    "# THEY MUST BE THE SAME"
   ]
  },
  {
   "cell_type": "markdown",
   "metadata": {},
   "source": [
    "## Define L1 and L2 (both finite) to make intersection != concatenation"
   ]
  },
  {
   "cell_type": "code",
   "execution_count": null,
   "metadata": {},
   "outputs": [],
   "source": [
    "# Define two FINITE languages\n",
    "L1 = ...\n",
    "L2 = ...\n",
    "\n",
    "# Perform their intersection\n",
    "\n",
    "intL1L2 = lint(L1,L2)\n",
    "\n",
    "# Perform their concatenation\n",
    "\n",
    "catL1L2 = lcat(L1,L2)\n",
    "\n",
    "# Make a statement of what you observe\n",
    "\n",
    "print(\"intersection = \", intL1L2)\n",
    "print(\"concatenation = \", catL1L2)\n",
    "\n",
    "# THEY MUST BE THE DIFFERENT"
   ]
  },
  {
   "cell_type": "markdown",
   "metadata": {},
   "source": [
    "# END"
   ]
  }
 ],
 "metadata": {
  "kernelspec": {
   "display_name": "Python 3",
   "language": "python",
   "name": "python3"
  },
  "language_info": {
   "codemirror_mode": {
    "name": "ipython",
    "version": 3
   },
   "file_extension": ".py",
   "mimetype": "text/x-python",
   "name": "python",
   "nbconvert_exporter": "python",
   "pygments_lexer": "ipython3",
   "version": "3.7.3"
  }
 },
 "nbformat": 4,
 "nbformat_minor": 2
}
