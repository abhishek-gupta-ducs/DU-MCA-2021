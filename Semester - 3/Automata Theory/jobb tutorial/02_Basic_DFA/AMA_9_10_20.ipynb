{
 "cells": [
  {
   "cell_type": "markdown",
   "metadata": {},
   "source": [
    "# First let's import, then look for the assignment below"
   ]
  },
  {
   "cell_type": "code",
   "execution_count": null,
   "metadata": {},
   "outputs": [],
   "source": [
    "#~~~~~~~~~~~~~~~~~~~~~~~~~~~~~~~~~~~~~~~~~~~~~~~~~~~~~~~\n",
    "import sys\n",
    "\n",
    "# -- Detect if in Own Install or in Colab\n",
    "try:\n",
    "    import google.colab\n",
    "    OWN_INSTALL = False\n",
    "except:\n",
    "    OWN_INSTALL = True\n",
    "    \n",
    "if OWN_INSTALL:\n",
    "    \n",
    "  #---- Leave these definitions ON if running on laptop\n",
    "  #---- Else turn OFF by putting them between ''' ... '''\n",
    "\n",
    "  sys.path[0:0] = ['../../../../..',  '../../../../../3rdparty',  \n",
    "                   '../../../..',  '../../../../3rdparty',  \n",
    "                   '../../..',     '../../../3rdparty', \n",
    "                   '../..',        '../../3rdparty',\n",
    "                   '..',           '../3rdparty' ]\n",
    "\n",
    "else: # In colab\n",
    "  ! if [ ! -d Jove ]; then git clone https://github.com/ganeshutah/Jove Jove; fi\n",
    "  sys.path.append('./Jove')\n",
    "  sys.path.append('./Jove/jove')\n",
    "\n",
    "# -- common imports --\n",
    "from jove.LangDef   import *  #-- mainly for nthnumeric\n",
    "from jove.Def_md2mc import *  #-- for md2mc\n",
    "from jove.Def_DFA   import *  #-- for all DFA functions\n",
    "from jove.DotBashers import * #-- for dotObj_dfa\n",
    "#~~~~~~~~~~~~~~~~~~~~~~~~~~~~~~~~~~~~~~~~~~~~~~~~~~~~~~~"
   ]
  },
  {
   "cell_type": "code",
   "execution_count": null,
   "metadata": {},
   "outputs": [],
   "source": [
    "odd0Even1 = md2mc('''\n",
    "DFA\n",
    "\n",
    "!! DFA that accepts so long as the string seen so far \n",
    "!! has odd0s and even1s (in any order)\n",
    "\n",
    "''')"
   ]
  },
  {
   "cell_type": "code",
   "execution_count": null,
   "metadata": {},
   "outputs": [],
   "source": [
    "# Now arrive at this via DFA intersection\n",
    "\n",
    "Odd0 = md2mc('''\n",
    "\n",
    "''')\n",
    "\n",
    "Even1 = md2mc('''\n",
    "\n",
    "''')"
   ]
  },
  {
   "cell_type": "code",
   "execution_count": null,
   "metadata": {},
   "outputs": [],
   "source": [
    "Odd0_and_Even1 = intersect_dfa(Odd0, Even1)"
   ]
  },
  {
   "cell_type": "code",
   "execution_count": null,
   "metadata": {},
   "outputs": [],
   "source": [
    "# Now do the union of Odd0 and Even1\n",
    "## Then try DeMorgan's law"
   ]
  },
  {
   "cell_type": "code",
   "execution_count": null,
   "metadata": {},
   "outputs": [],
   "source": [
    "Odd0FbyEven1 = md2mc('''\n",
    "DFA\n",
    "\n",
    "!! DFA that accepts so long as the string seen so far \n",
    "!! has odd0s and even1s (in THAT order)\n",
    "\n",
    "''')"
   ]
  },
  {
   "cell_type": "code",
   "execution_count": null,
   "metadata": {},
   "outputs": [],
   "source": []
  },
  {
   "cell_type": "code",
   "execution_count": null,
   "metadata": {},
   "outputs": [],
   "source": [
    "# Can express the language of this DFA as\n",
    "\n",
    "$\\{ 0^n \\;:\\; odd(n)\\} \\; \\{ 1^n \\;:\\; even(n)\\}$ "
   ]
  },
  {
   "cell_type": "markdown",
   "metadata": {},
   "source": [
    "# SOLUTIONS prepared beforehand"
   ]
  },
  {
   "cell_type": "code",
   "execution_count": null,
   "metadata": {},
   "outputs": [],
   "source": [
    "odd0Even1 = md2mc('''\n",
    "DFA\n",
    "\n",
    "!! DFA that accepts so long as the string seen so far \n",
    "!! has odd0s and even1s (in any order)\n",
    "\n",
    "!! State design: I'll tag along letters \"EO, OE, etc.\"\n",
    "!! to indicate parity of 0's and 1's\n",
    "\n",
    "I_EE : 0 -> F_OE\n",
    "I_EE : 1 -> S_EO\n",
    "\n",
    "S_EO : 0 -> S_OO\n",
    "S_EO : 1 -> I_EE\n",
    "\n",
    "F_OE : 0 -> I_EE\n",
    "F_OE : 1 -> S_OO\n",
    "\n",
    "S_OO : 0 -> S_EO\n",
    "S_OO : 1 -> F_OE\n",
    "\n",
    "''')"
   ]
  },
  {
   "cell_type": "code",
   "execution_count": null,
   "metadata": {},
   "outputs": [],
   "source": [
    "dotObj_dfa(odd0Even1)"
   ]
  },
  {
   "cell_type": "code",
   "execution_count": null,
   "metadata": {},
   "outputs": [],
   "source": [
    "# Now arrive at this via DFA intersection\n",
    "\n",
    "Odd0 = md2mc('''\n",
    "DFA\n",
    "I : 1 -> I\n",
    "I : 0 -> F\n",
    "\n",
    "F : 1 -> F\n",
    "F : 0 -> I\n",
    "''')\n",
    "\n",
    "Even1 = md2mc('''\n",
    "DFA\n",
    "IF : 0 -> IF\n",
    "IF : 1 -> S\n",
    "\n",
    "S : 0 -> S\n",
    "S : 1 -> IF\n",
    "''')\n",
    "\n",
    "Odd0_and_Even1 = intersect_dfa(Odd0, Even1)"
   ]
  },
  {
   "cell_type": "code",
   "execution_count": null,
   "metadata": {},
   "outputs": [],
   "source": [
    "dotObj_dfa(Odd0)"
   ]
  },
  {
   "cell_type": "code",
   "execution_count": null,
   "metadata": {},
   "outputs": [],
   "source": [
    "dotObj_dfa(Even1)"
   ]
  },
  {
   "cell_type": "code",
   "execution_count": null,
   "metadata": {},
   "outputs": [],
   "source": [
    "dotObj_dfa(Odd0_and_Even1)"
   ]
  },
  {
   "cell_type": "markdown",
   "metadata": {},
   "source": [
    "# Now do the union of Odd0 and Even1\n",
    "## Then try DeMorgan's law"
   ]
  },
  {
   "cell_type": "code",
   "execution_count": null,
   "metadata": {},
   "outputs": [],
   "source": [
    "# Union algo\n",
    "# DeMorgan's law"
   ]
  },
  {
   "cell_type": "markdown",
   "metadata": {},
   "source": [
    "# DFA for the unit language\n",
    "## how many states?"
   ]
  },
  {
   "cell_type": "code",
   "execution_count": null,
   "metadata": {},
   "outputs": [],
   "source": []
  },
  {
   "cell_type": "code",
   "execution_count": null,
   "metadata": {},
   "outputs": [],
   "source": [
    "Odd0FbyEven1 = md2mc('''\n",
    "DFA\n",
    "\n",
    "!! DFA that accepts so long as the string seen so far \n",
    "!! has odd0s and even1s (in THAT order)\n",
    "\n",
    "!! State design: Must close-off 0's after seeing a 1\n",
    "!! I'll denote this by adding a 'd' for the 0 position\n",
    "!! So S_EE, Sd_EE, Fd_EE etc, where the 'd' says 0's are unwelcome\n",
    "\n",
    "I_EE : 0 -> F_OE\n",
    "I_EE : 1 -> Sd_EO\n",
    "\n",
    "Sd_EO : 0 -> BH\n",
    "Sd_EO : 1 -> Sd_EE\n",
    "\n",
    "F_OE : 0 -> I_EE\n",
    "F_OE : 1 -> Sd_OO\n",
    "\n",
    "Sd_OO : 0 -> BH\n",
    "Sd_OO : 1 -> Fd_OE\n",
    "\n",
    "Sd_EE : 0 -> BH\n",
    "Sd_EE : 1 -> Sd_EO\n",
    "\n",
    "Fd_OE : 0 -> BH\n",
    "Fd_OE : 1 -> Sd_OO\n",
    "\n",
    "BH  : 0|1 -> BH\n",
    "''')"
   ]
  },
  {
   "cell_type": "code",
   "execution_count": null,
   "metadata": {},
   "outputs": [],
   "source": [
    "dotObj_dfa_w_bh(Odd0FbyEven1)"
   ]
  },
  {
   "cell_type": "markdown",
   "metadata": {},
   "source": [
    "# Can express the language of this DFA as\n",
    "\n",
    "$\\{ 0^n \\;:\\; odd(n)\\} \\; \\{ 1^n \\;:\\; even(n)\\}$ "
   ]
  },
  {
   "cell_type": "markdown",
   "metadata": {},
   "source": [
    "# END"
   ]
  }
 ],
 "metadata": {
  "kernelspec": {
   "display_name": "Python 3",
   "language": "python",
   "name": "python3"
  },
  "language_info": {
   "codemirror_mode": {
    "name": "ipython",
    "version": 3
   },
   "file_extension": ".py",
   "mimetype": "text/x-python",
   "name": "python",
   "nbconvert_exporter": "python",
   "pygments_lexer": "ipython3",
   "version": "3.7.3"
  }
 },
 "nbformat": 4,
 "nbformat_minor": 2
}
