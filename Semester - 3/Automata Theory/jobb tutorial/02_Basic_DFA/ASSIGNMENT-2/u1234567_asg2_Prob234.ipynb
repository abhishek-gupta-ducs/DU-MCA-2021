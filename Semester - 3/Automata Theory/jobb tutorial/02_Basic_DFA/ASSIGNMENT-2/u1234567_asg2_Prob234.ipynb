{
 "cells": [
  {
   "cell_type": "markdown",
   "metadata": {},
   "source": [
    "# First let's import, then look for the assignment below"
   ]
  },
  {
   "cell_type": "code",
   "execution_count": null,
   "metadata": {},
   "outputs": [],
   "source": [
    "#~~~~~~~~~~~~~~~~~~~~~~~~~~~~~~~~~~~~~~~~~~~~~~~~~~~~~~~\n",
    "import sys\n",
    "\n",
    "# -- Detect if in Own Install or in Colab\n",
    "try:\n",
    "    import google.colab\n",
    "    OWN_INSTALL = False\n",
    "except:\n",
    "    OWN_INSTALL = True\n",
    "    \n",
    "if OWN_INSTALL:\n",
    "    \n",
    "  #---- Leave these definitions ON if running on laptop\n",
    "  #---- Else turn OFF by putting them between ''' ... '''\n",
    "\n",
    "  sys.path[0:0] = ['../../../../..',  '../../../../../3rdparty',  \n",
    "                   '../../../..',  '../../../../3rdparty',  \n",
    "                   '../../..',     '../../../3rdparty', \n",
    "                   '../..',        '../../3rdparty',\n",
    "                   '..',           '../3rdparty' ]\n",
    "\n",
    "else: # In colab\n",
    "  ! if [ ! -d Jove ]; then git clone https://github.com/ganeshutah/Jove Jove; fi\n",
    "  sys.path.append('./Jove')\n",
    "  sys.path.append('./Jove/jove')\n",
    "\n",
    "# -- common imports --\n",
    "from jove.LangDef   import *  #-- mainly for nthnumeric\n",
    "from jove.Def_md2mc import *  #-- for md2mc\n",
    "from jove.Def_DFA   import *  #-- for all DFA functions\n",
    "from jove.DotBashers import * #-- for dotObj_dfa\n",
    "#~~~~~~~~~~~~~~~~~~~~~~~~~~~~~~~~~~~~~~~~~~~~~~~~~~~~~~~"
   ]
  },
  {
   "cell_type": "markdown",
   "metadata": {},
   "source": [
    "# Assignment-2 Problem-2,3,4: Construct as requested\n",
    "\n",
    "## 2 graded by SV; 3 by AR; 4 by LT\n",
    "\n",
    "### BEFORE YOU SUBMIT THIS FILE, PLEASE RENAME THIS FILE BY REPLACING THE 0000000 IN THE FILE NAME WITH YOUR CORRECT UNID. KEEP THE \"u\" AT THE BEGINNING."
   ]
  },
  {
   "cell_type": "markdown",
   "metadata": {},
   "source": [
    "# Problem-2 graded by SV\n",
    "\n",
    "<font size=\"4\">    \n",
    "1. Using Jove's markdown, define a DFA for the language of strings over alphabet $\\{0,1\\}$ that accepts an even number of *non-overlapping occurrences* of  $010$s. Thoroughly document your construction!\n",
    "    \n",
    "HERE ARE EXAMPLES :\n",
    "\n",
    "* 01010 - does NOT have an even number of 0's because we wanted NON-OVERLAPPING\n",
    "\n",
    "* 0101010 - has two NON-OVERLAPPING occurrences of 010 -- that is what we want!\n",
    "\n",
    "* 0101111010 - has two NON-OVERLAPPING occurrences of 010\n",
    "\n",
    "* 111111 - has ZERO occurrences of 010\n",
    "    \n",
    "</font>"
   ]
  },
  {
   "cell_type": "markdown",
   "metadata": {},
   "source": [
    "### Approach: We will name states to remember the essence of the history of inputs so far. If you do so, and also keep the sense of where the machine is (in an I state, an IF state or an F state), then you'll have the solution fall out automatically!\n",
    "\n",
    "Please read the Jove_User_Manual and the advice given there regarding how to write your automaton markdowns, how to place comments, how to group the lines of a DFA per state, and how to order which transition you may first consider.\n"
   ]
  },
  {
   "cell_type": "code",
   "execution_count": null,
   "metadata": {},
   "outputs": [],
   "source": [
    "Even010 = md2mc('''\n",
    "DFA \n",
    "\n",
    "!! Put comments describing overall plan here\n",
    "\n",
    " ... each line of the DFA ... !! Put short comments specific to the line ...\n",
    " ... each line of the DFA; group lines for each state in nice bunches ...\n",
    " \n",
    " ... each line of the DFA ... !! Put short comments specific to the line ...\n",
    " ... each line of the DFA; group lines for each state in nice bunches ...\n",
    " \n",
    "''')"
   ]
  },
  {
   "cell_type": "code",
   "execution_count": null,
   "metadata": {},
   "outputs": [],
   "source": [
    "dotObj_dfa(Even010)"
   ]
  },
  {
   "cell_type": "markdown",
   "metadata": {},
   "source": [
    "# Problem-3 graded by AR\n",
    "\n",
    "<font size=\"4\">    \n",
    "3. Using Jove's markdown, define a DFA for the language of strings over alphabet $\\{0,1\\}$ that ends in a $010$, calling it Ends010. Then obtain the intersection with the Even010 machine using intersect_dfa. \n",
    "    \n",
    "    Call the intersection Even010_Ends010.\n",
    "    \n",
    "    Next, minimize Even010_Ends010, storing it in min_Even010_Ends010 .\n",
    "    \n",
    "    Again, document the construction thoroughly.\n",
    "    \n",
    "</font>"
   ]
  },
  {
   "cell_type": "markdown",
   "metadata": {},
   "source": [
    "### Approach: We will define a machine for \"ends $010$\" as illustrated in SV's part, and negate."
   ]
  },
  {
   "cell_type": "code",
   "execution_count": null,
   "metadata": {},
   "outputs": [],
   "source": [
    "Ends010 =  md2mc('''\n",
    "DFA\n",
    "\n",
    "!! Again, follow the commenting plans and write the \"DFA code\" in neat bunches\n",
    "\n",
    "''')"
   ]
  },
  {
   "cell_type": "code",
   "execution_count": null,
   "metadata": {},
   "outputs": [],
   "source": [
    "# Let's see the \"Ends010\" machine\n",
    "dotObj_dfa(Ends010, FuseEdges=True)"
   ]
  },
  {
   "cell_type": "markdown",
   "metadata": {},
   "source": [
    "## Obtain the intersection of Even010 and Ends010"
   ]
  },
  {
   "cell_type": "code",
   "execution_count": null,
   "metadata": {
    "scrolled": true
   },
   "outputs": [],
   "source": [
    "Even010_Ends010 = ... Use intersect_dfa here - help(intersect_dfa) for guidance...\n",
    "dotObj_dfa(Even010_Ends010)"
   ]
  },
  {
   "cell_type": "markdown",
   "metadata": {},
   "source": [
    "## Minimize the intersection of Even010 and Ends010"
   ]
  },
  {
   "cell_type": "code",
   "execution_count": null,
   "metadata": {},
   "outputs": [],
   "source": [
    "min_Even010_Ends010 = ... Use min_dfa - help(min_dfa) for guidance ...\n",
    "dotObj_dfa(min_Even010_Ends010)"
   ]
  },
  {
   "cell_type": "markdown",
   "metadata": {},
   "source": [
    "# Problem-4 graded by LT\n",
    "\n",
    "<font size=\"4\">    \n",
    "    \n",
    "4.  Find out which states were eliminated in the Minimization Process. Explain why it was OK to leave these states out. Test the constructed machine using the template given to you. Finally use the Python \"filter\" function that filters out the accepted strings.\n",
    "    \n",
    "</font>"
   ]
  },
  {
   "cell_type": "markdown",
   "metadata": {},
   "source": [
    "## Find out which states were eliminated"
   ]
  },
  {
   "cell_type": "code",
   "execution_count": null,
   "metadata": {},
   "outputs": [],
   "source": [
    "# Hint: You can obtain the components of a DFA D by using the notation D[\"Q\"] where\n",
    "# D is a DFA created using the md2mc command. Basically, \"D\" is a dictionary and \n",
    "# D[\"Q\"] obtains the value of the key at \"Q\". See the lecture slides for Lec-3."
   ]
  },
  {
   "cell_type": "markdown",
   "metadata": {},
   "source": [
    "## Explain why it is OK to leave these states out\n",
    "\n",
    "A template to guide your answer is below."
   ]
  },
  {
   "cell_type": "markdown",
   "metadata": {},
   "source": [
    "<font size=\"4\"> \n",
    "... Your explanations here - a template of your answer is as follows ...\n",
    "    \n",
    "**This template tries to limit the number of cases you have to list**\n",
    " \n",
    " \n",
    " * I find that state SOMESTATE1 is present in DFA1 but SOMESTATE1 is absent in DFA2 \n",
    " \n",
    " \n",
    "   - I can obtain this info by doing DFA1[\"Q\"] - DFA2[\"Q\"]\n",
    "   - I can also eye-ball the diagrams and spot the missing state\n",
    "   - But I recall that in the diagram, a state may show up P_Q while in the DFA1[\"Q\"] - DFA2[\"Q\"] printout, it may show up as ('P','Q')\n",
    " \n",
    " \n",
    " \n",
    " * If there are multiple *SOMESTATE1* that are missing in DFA2, please pick the one that involves state letter 'I'  and call that the *SOMESTATE1* for the remaining questions BELOW\n",
    " \n",
    " \n",
    " **IMPORTANT CHANGE:** __Due to some non-reproducibility lurking in Jove, some people may not get a state containing \"I\". In that case, pick any one state that is missing, and answer the remaining questions.__\n",
    " \n",
    " * But I find that THIS STRING (pick the shortest string in numeric order) that reached SOMESTATE1 in DFA1 is now reaching state SOMESTATE2 in DFA2\n",
    " \n",
    " * Thus I conclude that state SOMESTATE1 and SOMESTATE2 are equivalent\n",
    " \n",
    " * This is further confirmed by the fact that (**here I am limiting your checks to 3 cases**)\n",
    "   - upon 0, SOMESTATE1 goes to THIS STATE while SOMESTATE2 goes to THIS STATE and they are  BOTH ACCEPTING / BOTH NON-ACCEPTING (pick on)\n",
    "   - upon 1, SOMESTATE1 goes to THIS STATE while SOMESTATE2 goes to THIS STATE and they are  BOTH ACCEPTING / BOTH NON-ACCEPTING (pick on)\n",
    "   upon 01, SOMESTATE1 goes to THIS STATE while SOMESTATE2 goes to THIS STATE and they are  BOTH ACCEPTING / BOTH NON-ACCEPTING (pick on)\n",
    " \n",
    " \n",
    "\n",
    " \n",
    " \n",
    "    \n",
    "</font>"
   ]
  },
  {
   "cell_type": "markdown",
   "metadata": {},
   "source": [
    "# Testing the machine"
   ]
  },
  {
   "cell_type": "code",
   "execution_count": null,
   "metadata": {},
   "outputs": [],
   "source": [
    "help(nthnumeric)"
   ]
  },
  {
   "cell_type": "markdown",
   "metadata": {},
   "source": [
    "## Test the constructed machine the \"direct\" way"
   ]
  },
  {
   "cell_type": "code",
   "execution_count": null,
   "metadata": {},
   "outputs": [],
   "source": [
    "TestList = [ nthnumeric(i, ['0','1']) for i in range(256) ]"
   ]
  },
  {
   "cell_type": "code",
   "execution_count": null,
   "metadata": {},
   "outputs": [],
   "source": [
    "TestList"
   ]
  },
  {
   "cell_type": "code",
   "execution_count": null,
   "metadata": {},
   "outputs": [],
   "source": [
    "help(accepts_dfa)"
   ]
  },
  {
   "cell_type": "code",
   "execution_count": null,
   "metadata": {},
   "outputs": [],
   "source": [
    "for test in TestList:\n",
    "    if accepts_dfa(min_Even010_Ends010, test):\n",
    "        print(\" min_Even010_Ends010 : accepts \", test)\n",
    "    else:\n",
    "        print(\" min_Even010_Ends010 : does not accept \", test)"
   ]
  },
  {
   "cell_type": "markdown",
   "metadata": {},
   "source": [
    "## Use Python's \"filter\" function to filter out the accepted strings directly"
   ]
  },
  {
   "cell_type": "code",
   "execution_count": null,
   "metadata": {
    "scrolled": true
   },
   "outputs": [],
   "source": [
    "list(filter(lambda x: accepts_dfa(min_Even010_Ends010, x), TestList))"
   ]
  },
  {
   "cell_type": "markdown",
   "metadata": {},
   "source": [
    "## Doubled the testing range; now finding at least ten strings !!"
   ]
  },
  {
   "cell_type": "code",
   "execution_count": null,
   "metadata": {},
   "outputs": [],
   "source": [
    "...Your doubled list of filtered items here..."
   ]
  },
  {
   "cell_type": "markdown",
   "metadata": {},
   "source": [
    "# END"
   ]
  }
 ],
 "metadata": {
  "kernelspec": {
   "display_name": "Python 3",
   "language": "python",
   "name": "python3"
  },
  "language_info": {
   "codemirror_mode": {
    "name": "ipython",
    "version": 3
   },
   "file_extension": ".py",
   "mimetype": "text/x-python",
   "name": "python",
   "nbconvert_exporter": "python",
   "pygments_lexer": "ipython3",
   "version": "3.7.3"
  }
 },
 "nbformat": 4,
 "nbformat_minor": 2
}
