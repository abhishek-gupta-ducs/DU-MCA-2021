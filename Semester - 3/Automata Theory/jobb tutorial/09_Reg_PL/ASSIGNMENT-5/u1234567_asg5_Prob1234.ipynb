{
 "cells": [
  {
   "cell_type": "markdown",
   "metadata": {},
   "source": [
    "# Asg-5 focuses on questions graded by the mentioned TAs:\n",
    "\n",
    "## LT: One PL question\n",
    "\n",
    "## SV: One PL question\n",
    "\n",
    "## AR: One PDA question\n",
    "\n",
    "## XL: One PDA question\n",
    "\n",
    "\n",
    "## You must present your proofs using the outline described on Slide 19 of Lec11.pptx (look around this slide number if the slide has shifted; it comes near the flow-charts)"
   ]
  },
  {
   "cell_type": "markdown",
   "metadata": {},
   "source": [
    "# 1 (LT): Prove that this language is not regular (LT)\n",
    "\n",
    "## $L_{if} = \\{ a^i b^j c^k \\;:\\; i,j,k\\ge 0,\\; {\\rm and}\\; {\\rm if}\\; (i=2)\\; {\\rm then}\\; (j=k)  \\}$\n",
    "\n",
    "#### Hint: Consider the reverse of $L_{if}$ calling it the language $LR_{if}$, and prove that $LR_{if}$ is non-regular, using the PL\n",
    "\n",
    "#### Then write a line justifying why this means that $L_{if}$ is non-regular.\n",
    "\n",
    " "
   ]
  },
  {
   "cell_type": "markdown",
   "metadata": {},
   "source": [
    "# Proof Outline\n",
    "\n",
    "* Here, record, in bullets, how you are thinking of the proof (good to jot down a few steps here).\n",
    "\n",
    "## So the official proof presentation is this:\n",
    "\n",
    "* Present your proof as required."
   ]
  },
  {
   "cell_type": "markdown",
   "metadata": {},
   "source": [
    "# 2 (SV): Prove that this language called $Add$ is not regular \n",
    "\n",
    "## $Add = \\{ r = p + q \\; :\\;  r, p, q \\in \\{0,1\\}^* \\; {\\rm and}\\; condition(r,p,q)\\; {\\rm holds} \\}$\n",
    "          \n",
    " \n",
    "\n",
    "### Here, $condition(r,p,q)$ means $r$, $p$, and $q$ are strings of the form $101 = 10 + 11$, where result $r$ (a standard positional binary number represented as a bit string), is obtained by adding $p$ and $q$ viewed as standard positional binary numbers\n",
    "\n",
    "### Notice these facts:\n",
    "\n",
    "* The entire string $r=p+q$ comes from the Alphabet $\\Sigma=\\{0,1,+,=\\}$\n",
    "\n",
    "* $r,p$ and $q$ come from the Alphabet $\\Sigma=\\{0,1\\}$\n",
    "\n",
    "## In general, $condition(r,p,q)$ says that the bit patterns represent a correct binary addition.\n",
    "\n",
    " \n",
    "\n",
    "## More examples of strings in the language $Add$ are below where\n",
    "### the LHS is $r$ and the right-hand side is a character $p+q$\n",
    "\n",
    "* $101=10+11$ \n",
    "\n",
    "* $1000 = 100 + 100$\n",
    "\n",
    "* $1011 = 110 + 101$"
   ]
  },
  {
   "cell_type": "markdown",
   "metadata": {},
   "source": [
    "# Proof outline\n",
    "\n",
    "* Jot down high level points\n",
    "\n",
    "## So the official proof presentation is this:\n",
    "\n",
    "\n",
    "* Select a parametric string ...\n",
    "\n",
    "* ...\n",
    "\n",
    "* ...\n",
    "\n",
    "* Hence $Add$ is not regular."
   ]
  },
  {
   "cell_type": "markdown",
   "metadata": {
    "run_control": {
     "frozen": false,
     "read_only": false
    }
   },
   "source": [
    "# Asg-5 imports \n"
   ]
  },
  {
   "cell_type": "code",
   "execution_count": null,
   "metadata": {
    "run_control": {
     "frozen": false,
     "read_only": false
    },
    "scrolled": true
   },
   "outputs": [],
   "source": [
    "#~~~~~~~~~~~~~~~~~~~~~~~~~~~~~~~~~~~~~~~~~~~~~~~~~~~~~~~\n",
    "import sys\n",
    "\n",
    "# -- Detect if in Own Install or in Colab\n",
    "try:\n",
    "    import google.colab\n",
    "    OWN_INSTALL = False\n",
    "except:\n",
    "    OWN_INSTALL = True\n",
    "    \n",
    "if OWN_INSTALL:\n",
    "    \n",
    "  #---- Leave these definitions ON if running on laptop\n",
    "  #---- Else turn OFF by putting them between ''' ... '''\n",
    "\n",
    "  sys.path[0:0] = ['../../../../..',  '../../../../../3rdparty',  \n",
    "                   '../../../..',  '../../../../3rdparty',  \n",
    "                   '../../..',     '../../../3rdparty', \n",
    "                   '../..',        '../../3rdparty',\n",
    "                   '..',           '../3rdparty' ]\n",
    "\n",
    "else: # In colab\n",
    "  ! if [ ! -d Jove ]; then git clone https://github.com/ganeshutah/Jove Jove; fi\n",
    "  sys.path.append('./Jove')\n",
    "  sys.path.append('./Jove/jove')\n",
    "\n",
    "# -- common imports --\n",
    "from jove.DotBashers import *\n",
    "from jove.Def_md2mc  import *\n",
    "from jove.AnimatePDA import *\n",
    "from jove.Def_PDA    import *\n",
    "#~~~~~~~~~~~~~~~~~~~~~~~~~~~~~~~~~~~~~~~~~~~~~~~~~~~~~~~"
   ]
  },
  {
   "cell_type": "markdown",
   "metadata": {},
   "source": [
    "# 3 (AR): Design a PDA a2b for the language $\\{a^i b^j : i,j\\ge 0, {\\rm and}\\; (j = 2i) \\}$\n",
    "## That is, strings of the form $abb$, $aabbbb$, $aaabbbbbb$, etc.\n",
    "\n",
    "## Put a \"header block\" of comments (before you list the PDA transitions) that describes the overall stacking strategy - e.g.\n",
    "\n",
    "* !! The PDA uses the stack in THIS WAY while a's arrive\n",
    "\n",
    "* !! Then when b's arrive, the PDA does THIS\n",
    "\n",
    "* !! After b's, if $a$'s arrive, the PDA does THIS\n",
    "\n",
    "\n",
    "## After that, fully document your design (line by line)\n",
    "\n",
    "## Then, test your PDA on these strings\n",
    "\n",
    "1. $\\varepsilon$ (accept)\n",
    "\n",
    "2. $abb$ (accept)\n",
    "\n",
    "3. $aabbbb$ (accept)\n",
    "\n",
    "4. $aaabbbbbb$ (accept)\n",
    "\n",
    "\n",
    "\n",
    "5. $ab$ (reject)\n",
    "\n",
    "6. $b$ (reject)\n",
    "\n",
    "7. $aba$ (reject)\n",
    "\n",
    "8. $abba$ (reject)\n",
    "\n",
    "##  PLUS add two more accepting and two more rejecting tests of your own"
   ]
  },
  {
   "cell_type": "code",
   "execution_count": null,
   "metadata": {},
   "outputs": [],
   "source": [
    "a2b = md2mc('''\n",
    "PDA\n",
    "\n",
    "!! Overall Algorithm:\n",
    "!! ...a few more points\n",
    "\n",
    "\n",
    "!! Now a line-by-line description\n",
    "\n",
    "''')"
   ]
  },
  {
   "cell_type": "code",
   "execution_count": null,
   "metadata": {},
   "outputs": [],
   "source": [
    "dotObj_pda(a2b)"
   ]
  },
  {
   "cell_type": "code",
   "execution_count": null,
   "metadata": {},
   "outputs": [],
   "source": [
    "explore_pda('', a2b)"
   ]
  },
  {
   "cell_type": "code",
   "execution_count": null,
   "metadata": {},
   "outputs": [],
   "source": [
    "explore_pda('abb', a2b)"
   ]
  },
  {
   "cell_type": "code",
   "execution_count": null,
   "metadata": {},
   "outputs": [],
   "source": [
    "explore_pda('aabbbb', a2b)"
   ]
  },
  {
   "cell_type": "code",
   "execution_count": null,
   "metadata": {},
   "outputs": [],
   "source": [
    "explore_pda('aaabbbbbb', a2b)"
   ]
  },
  {
   "cell_type": "code",
   "execution_count": null,
   "metadata": {},
   "outputs": [],
   "source": [
    "explore_pda('ab', a2b)"
   ]
  },
  {
   "cell_type": "code",
   "execution_count": null,
   "metadata": {},
   "outputs": [],
   "source": [
    "explore_pda('b', a2b)"
   ]
  },
  {
   "cell_type": "code",
   "execution_count": null,
   "metadata": {},
   "outputs": [],
   "source": [
    "explore_pda('aba', a2b)"
   ]
  },
  {
   "cell_type": "code",
   "execution_count": null,
   "metadata": {},
   "outputs": [],
   "source": [
    "explore_pda('abba', a2b)"
   ]
  },
  {
   "cell_type": "markdown",
   "metadata": {},
   "source": [
    "# Now some more tests of yours below (add more cells as needed)"
   ]
  },
  {
   "cell_type": "code",
   "execution_count": null,
   "metadata": {},
   "outputs": [],
   "source": []
  },
  {
   "cell_type": "markdown",
   "metadata": {},
   "source": [
    "# 4 (XL):  Design a PDA for Lif \n",
    "\n",
    "## Hint: when a=2, the PDA matches b's and c's (using the stack for this match)\n",
    "## Else it only checks their order of arrival (and simply ignores the stack)\n",
    "\n",
    "## Test your PDA on these strings\n",
    "\n",
    "* aa bbb ccc   (accept)\n",
    "\n",
    "* aa bbbb cccc (accept)\n",
    " \n",
    "* aa         (accept)\n",
    "\n",
    "* a bbb cccc (accept)\n",
    "\n",
    "* aaa bb c   (accept)\n",
    "\n",
    "* Epsilon    (accept, as there are zero a's)\n",
    "\n",
    "* a bb cc    (accept, as there is no constraint to not match b's and c's if two a's)\n",
    "\n",
    "\n",
    "* c b        (reject)\n",
    "\n",
    "* aa bb cc a (reject)\n",
    "\n",
    "* a bb a     (reject)\n",
    "\n",
    "* ccac       (reject)\n",
    "\n",
    "* abba       (reject)\n",
    "\n",
    "* baac       (reject)\n",
    "\n",
    "* ac         (accept)\n",
    "\n",
    "\n",
    "# Then add three more accepting cases and three more rejecting cases below\n",
    "\n",
    "## Document the tests saying why they must pass/fail"
   ]
  },
  {
   "cell_type": "code",
   "execution_count": null,
   "metadata": {},
   "outputs": [],
   "source": [
    "Lif = md2mc('''\n",
    "PDA\n",
    "\n",
    "!! Overall Algorithm\n",
    "!! ...\n",
    "\n",
    "\n",
    " \n",
    "... Now a line-by-line description\n",
    "\n",
    "''')"
   ]
  },
  {
   "cell_type": "code",
   "execution_count": null,
   "metadata": {},
   "outputs": [],
   "source": [
    "dotObj_pda(Lif)"
   ]
  },
  {
   "cell_type": "markdown",
   "metadata": {},
   "source": [
    "# Now for all our tests"
   ]
  },
  {
   "cell_type": "markdown",
   "metadata": {},
   "source": [
    "* aa bbb ccc   (accept)"
   ]
  },
  {
   "cell_type": "code",
   "execution_count": null,
   "metadata": {},
   "outputs": [],
   "source": [
    "explore_pda('aabbbccc', Lif)"
   ]
  },
  {
   "cell_type": "markdown",
   "metadata": {},
   "source": [
    "* aa bbbb cccc (accept)\n",
    " "
   ]
  },
  {
   "cell_type": "code",
   "execution_count": null,
   "metadata": {},
   "outputs": [],
   "source": [
    "explore_pda('aabbbbcccc', Lif)"
   ]
  },
  {
   "cell_type": "markdown",
   "metadata": {},
   "source": [
    "* aa         (accept)"
   ]
  },
  {
   "cell_type": "code",
   "execution_count": null,
   "metadata": {},
   "outputs": [],
   "source": [
    "explore_pda('aa', Lif)"
   ]
  },
  {
   "cell_type": "markdown",
   "metadata": {},
   "source": [
    "* a bbb cccc (accept)"
   ]
  },
  {
   "cell_type": "code",
   "execution_count": null,
   "metadata": {},
   "outputs": [],
   "source": [
    "explore_pda('abbbcccc', Lif)"
   ]
  },
  {
   "cell_type": "markdown",
   "metadata": {},
   "source": [
    "* aaa bb c   (accept)"
   ]
  },
  {
   "cell_type": "code",
   "execution_count": null,
   "metadata": {},
   "outputs": [],
   "source": [
    "explore_pda('aaabbc', Lif)"
   ]
  },
  {
   "cell_type": "markdown",
   "metadata": {},
   "source": [
    "* Epsilon    (accept, as there are zero a's)"
   ]
  },
  {
   "cell_type": "code",
   "execution_count": null,
   "metadata": {},
   "outputs": [],
   "source": [
    "explore_pda('', Lif)"
   ]
  },
  {
   "cell_type": "markdown",
   "metadata": {},
   "source": [
    "* a bb cc    (accept, as there is no constraint to not match b's and c's if two a's)"
   ]
  },
  {
   "cell_type": "code",
   "execution_count": null,
   "metadata": {},
   "outputs": [],
   "source": [
    "explore_pda('abbcc', Lif)"
   ]
  },
  {
   "cell_type": "markdown",
   "metadata": {},
   "source": [
    "* b c must accept too"
   ]
  },
  {
   "cell_type": "code",
   "execution_count": null,
   "metadata": {},
   "outputs": [],
   "source": [
    "explore_pda('bc', Lif)"
   ]
  },
  {
   "cell_type": "markdown",
   "metadata": {},
   "source": [
    "* c b        (reject)"
   ]
  },
  {
   "cell_type": "code",
   "execution_count": null,
   "metadata": {},
   "outputs": [],
   "source": [
    "explore_pda('cb', Lif)"
   ]
  },
  {
   "cell_type": "markdown",
   "metadata": {},
   "source": [
    "* aa bb cc a (reject)"
   ]
  },
  {
   "cell_type": "code",
   "execution_count": null,
   "metadata": {},
   "outputs": [],
   "source": [
    "explore_pda('aabbcca', Lif)"
   ]
  },
  {
   "cell_type": "markdown",
   "metadata": {},
   "source": [
    "* a bb a     (reject)"
   ]
  },
  {
   "cell_type": "code",
   "execution_count": null,
   "metadata": {},
   "outputs": [],
   "source": [
    "explore_pda('abba', Lif)"
   ]
  },
  {
   "cell_type": "markdown",
   "metadata": {},
   "source": [
    "* ccac       (reject)"
   ]
  },
  {
   "cell_type": "code",
   "execution_count": null,
   "metadata": {},
   "outputs": [],
   "source": [
    "explore_pda('ccac', Lif)"
   ]
  },
  {
   "cell_type": "markdown",
   "metadata": {},
   "source": [
    "* abba       (reject)"
   ]
  },
  {
   "cell_type": "code",
   "execution_count": null,
   "metadata": {},
   "outputs": [],
   "source": [
    "explore_pda('abba', Lif)"
   ]
  },
  {
   "cell_type": "markdown",
   "metadata": {},
   "source": [
    "* baac       (reject)"
   ]
  },
  {
   "cell_type": "code",
   "execution_count": null,
   "metadata": {},
   "outputs": [],
   "source": [
    "explore_pda('baac', Lif)"
   ]
  },
  {
   "cell_type": "markdown",
   "metadata": {},
   "source": [
    "* ac         (accept), as there are no b's  "
   ]
  },
  {
   "cell_type": "code",
   "execution_count": null,
   "metadata": {},
   "outputs": [],
   "source": [
    "explore_pda('ac', Lif)"
   ]
  },
  {
   "cell_type": "markdown",
   "metadata": {},
   "source": [
    "* acb (reject)"
   ]
  },
  {
   "cell_type": "code",
   "execution_count": null,
   "metadata": {},
   "outputs": [],
   "source": [
    "explore_pda('acb', Lif)"
   ]
  },
  {
   "cell_type": "markdown",
   "metadata": {},
   "source": [
    "# Now, some more of your tests"
   ]
  },
  {
   "cell_type": "markdown",
   "metadata": {},
   "source": [
    "# END\n"
   ]
  }
 ],
 "metadata": {
  "kernelspec": {
   "display_name": "Python 3",
   "language": "python",
   "name": "python3"
  },
  "language_info": {
   "codemirror_mode": {
    "name": "ipython",
    "version": 3
   },
   "file_extension": ".py",
   "mimetype": "text/x-python",
   "name": "python",
   "nbconvert_exporter": "python",
   "pygments_lexer": "ipython3",
   "version": "3.7.3"
  },
  "toc": {
   "colors": {
    "hover_highlight": "#DAA520",
    "running_highlight": "#FF0000",
    "selected_highlight": "#FFD700"
   },
   "moveMenuLeft": true,
   "nav_menu": {
    "height": "121px",
    "width": "252px"
   },
   "navigate_menu": true,
   "number_sections": true,
   "sideBar": true,
   "threshold": 4,
   "toc_cell": false,
   "toc_section_display": "block",
   "toc_window_display": false,
   "widenNotebook": false
  },
  "widgets": {
   "state": {
    "430c92ee02b34ec1912bf03c8de1e6dc": {
     "views": [
      {
       "cell_index": 20
      }
     ]
    }
   },
   "version": "1.2.0"
  }
 },
 "nbformat": 4,
 "nbformat_minor": 2
}
