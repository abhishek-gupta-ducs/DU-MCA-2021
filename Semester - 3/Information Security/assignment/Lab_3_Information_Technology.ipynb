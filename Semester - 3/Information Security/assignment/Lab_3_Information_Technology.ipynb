{
  "cells": [
    {
      "cell_type": "markdown",
      "source": [
        "\n",
        "#Importing Header Files and Defining errors\n"
      ],
      "metadata": {
        "id": "nQ_L9wsp20q8"
      }
    },
    {
      "cell_type": "code",
      "execution_count": null,
      "metadata": {
        "id": "M_aXkSfl6pDl"
      },
      "outputs": [],
      "source": [
        "from IPython.display import clear_output "
      ]
    },
    {
      "cell_type": "code",
      "execution_count": null,
      "metadata": {
        "id": "gKJzo9yRs-YW"
      },
      "outputs": [],
      "source": [
        "class Error(Exception):\n",
        "  '''Base class for user defined errors'''\n",
        "  pass"
      ]
    },
    {
      "cell_type": "code",
      "execution_count": null,
      "metadata": {
        "id": "FbZ9xZ6csEpB"
      },
      "outputs": [],
      "source": [
        "class keyInverseError(Error):\n",
        "  '''Raised when inverse of key does not exist'''\n",
        "  pass"
      ]
    },
    {
      "cell_type": "code",
      "execution_count": null,
      "metadata": {
        "id": "-tpAm0SA8nYn"
      },
      "outputs": [],
      "source": [
        "class NoTextEntered(Error):\n",
        "  '''Raised when user enter a empty text'''\n",
        "  pass"
      ]
    },
    {
      "cell_type": "code",
      "execution_count": null,
      "metadata": {
        "id": "TejDfN9AE8at"
      },
      "outputs": [],
      "source": [
        "class KeyOutOfRange(Error):\n",
        "  '''Raised an error when key is out of domain'''"
      ]
    },
    {
      "cell_type": "markdown",
      "source": [
        "#GCD and multiplicative Inverse Function"
      ],
      "metadata": {
        "id": "Jtzbv50t28Yj"
      }
    },
    {
      "cell_type": "code",
      "execution_count": null,
      "metadata": {
        "id": "Eu6zwgERZ5kp"
      },
      "outputs": [],
      "source": [
        "def gcd(a:int,b:int):\n",
        "  '''greatest common divisor function will return the gcd of two numbers a and b using basic eucleadean theorem.'''\n",
        "  if a==0:\n",
        "    return b\n",
        "  else:\n",
        "    return gcd(b%a,a)"
      ]
    },
    {
      "cell_type": "code",
      "execution_count": null,
      "metadata": {
        "id": "FCeDhvQ6mBpm"
      },
      "outputs": [],
      "source": [
        "def mult_inverse(A:int,B:int):\n",
        "  '''\n",
        "    multiplicative inverse function will take two arguments A and B and will find the multiplicative inverse of them using extended eucleadean theorem.\n",
        "  '''\n",
        "  if(gcd(abs(A),B)!=1):\n",
        "    return -1\n",
        "  else:\n",
        "    a,b=max(A,B),min(A,B)\n",
        "    t1=0\n",
        "    t2=1\n",
        "    q=int(a/b)\n",
        "    r=a%b\n",
        "    t=t1-(t2*q)\n",
        "    #print('q a b r t1 t2 t\\n')\n",
        "    #print(q,a,b,r,t1,t2,t,\"\\n\")\n",
        "    while(r!=0):\n",
        "      a=b\n",
        "      b=r\n",
        "      t1=t2\n",
        "      t2=t\n",
        "      q=int(a/b)\n",
        "      r=a%b\n",
        "      t=t1-(t2*q)\n",
        "      #print(q,a,b,r,t1,t2,t,\"\\n\")\n",
        "    if(t2<0):\n",
        "      return t2+max(A,B)\n",
        "    else:\n",
        "      return t2"
      ]
    },
    {
      "cell_type": "code",
      "execution_count": null,
      "metadata": {
        "id": "udFaOhdQmEVN"
      },
      "outputs": [],
      "source": [
        "s_alpha = dict()\n",
        "l_alpha = dict()\n",
        "digit = list()\n",
        "A=range(0,26)\n",
        "B=range(97,123)\n",
        "C=range(65,91)\n",
        "s_alpha={x:chr(y) for (x,y) in zip(A,B)}\n",
        "l_alpha={x:chr(y) for (x,y) in zip(A,C)}\n",
        "digit=[str(x) for x in range(0,10)]"
      ]
    },
    {
      "cell_type": "code",
      "execution_count": null,
      "metadata": {
        "id": "QniisHmJmJfl"
      },
      "outputs": [],
      "source": [
        "def get_alpha(val:int,my_dict:dict()):\n",
        "  '''get_key function take value and dictionary as argument and return the key of the value in that dictionary'''\n",
        "  for key, value in my_dict.items():\n",
        "    if val == value:\n",
        "      return key\n",
        "  return \"key doesn't exist\""
      ]
    },
    {
      "cell_type": "markdown",
      "source": [
        "#Multiplicative Cipher"
      ],
      "metadata": {
        "id": "4oJV7xSW3BKA"
      }
    },
    {
      "cell_type": "code",
      "execution_count": null,
      "metadata": {
        "id": "-iNetVHPmMfd"
      },
      "outputs": [],
      "source": [
        "def multiplicative_cipher(key:int,text:str):\n",
        "  '''\n",
        "     multiplicative_cipher function takes \n",
        "     key->Key of the multiplicative cipher, \n",
        "     text->Cipher text in case of decryption and Plain text in case of encryption \n",
        "  '''\n",
        "  converted_text = \"\"\n",
        "  for x in text:\n",
        "    if(x in digit):\n",
        "      index = (int(x)*key)%10\n",
        "      converted_text+=digit[index]\n",
        "    elif(x.islower()):\n",
        "      p = get_alpha(x,s_alpha)\n",
        "      index = (p*key)%26\n",
        "      converted_text+=s_alpha[index]\n",
        "    elif(x.isupper()):\n",
        "      p = get_alpha(x,l_alpha)\n",
        "      index = (p*key)%26\n",
        "      converted_text+=l_alpha[index]\n",
        "  return converted_text"
      ]
    },
    {
      "cell_type": "code",
      "execution_count": null,
      "metadata": {
        "id": "5QKRxJ4brfzX"
      },
      "outputs": [],
      "source": [
        "def key_inp(type:int=1):\n",
        "  '''key_inp will take type as parameter\n",
        "      if type=1, then it will return a valid key for encryption.\n",
        "      if type=2, then it will return inverse of a valid key for decryption\n",
        "  '''\n",
        "  try:\n",
        "    key=int(input(\"Enter Key: \"))\n",
        "    if key not in range(0,26):\n",
        "      #if key is not between 0 to 25\n",
        "      raise KeyOutOfRange\n",
        "    keyI = mult_inverse(key,26)\n",
        "    if keyI==-1:\n",
        "      #if inverse of key does not exist\n",
        "      raise keyInverseError\n",
        "    else:\n",
        "      if type==1:\n",
        "        return key\n",
        "      else:\n",
        "        return keyI\n",
        "  except keyInverseError:\n",
        "    print('Invalid key because inverse of key does not exist')\n",
        "    return key_inp()\n",
        "  except KeyOutOfRange:\n",
        "    print('Key should be in range of 0 to 25.')\n",
        "    return key_inp()\n",
        "  except ValueError:\n",
        "    #if user enter anything except integer\n",
        "    print('Invalid input')\n",
        "    return key_inp()"
      ]
    },
    {
      "cell_type": "code",
      "execution_count": null,
      "metadata": {
        "id": "EdAuMy1V8S3I"
      },
      "outputs": [],
      "source": [
        "def message_inp(message:str):\n",
        "  '''message_inp function will take message for input taking screen as parameter and returns the valid message'''\n",
        "  try:\n",
        "    text = input(message)\n",
        "    if(text==\"\"): #if user entered a empty message\n",
        "      raise NoTextEntered\n",
        "    else:\n",
        "      return text\n",
        "  except NoTextEntered:\n",
        "    print(\"You did not entered any text. Please try Again !!!\")\n",
        "    return message_inp(message)"
      ]
    },
    {
      "cell_type": "markdown",
      "source": [
        "#Cryptanalysis of multiplicative cipher"
      ],
      "metadata": {
        "id": "j_Y2wdxj3Fau"
      }
    },
    {
      "cell_type": "code",
      "execution_count": null,
      "metadata": {
        "id": "xzxkch4s_yBg"
      },
      "outputs": [],
      "source": [
        "def crypt_analysis_mult_cipher(text: str):\n",
        "  '''crypt_analysis_mult_cipher function will take ciphered text as parameter and return all possible plain text with valid keys'''\n",
        "  for i in range(0,26):\n",
        "    keyI = mult_inverse(i,26) #finding multiplicative inverse of key\n",
        "    if(keyI==-1):\n",
        "      #if inverse does not exist for a key\n",
        "      continue\n",
        "    else:\n",
        "      #if inverse exist for a key\n",
        "      print(f\"for key = {i} , plain text is : {multiplicative_cipher(keyI,text)}\")"
      ]
    },
    {
      "cell_type": "markdown",
      "source": [
        "#Main function"
      ],
      "metadata": {
        "id": "Xn9wA1ZP3KzB"
      }
    },
    {
      "cell_type": "code",
      "execution_count": null,
      "metadata": {
        "id": "NTPtAiAK5h5j"
      },
      "outputs": [],
      "source": [
        "def menu():\n",
        "  '''menu function to print menu of our program.'''\n",
        "  print(\"~~~~~~~~~~~~Menu~~~~~~~~~~~~\")\n",
        "  print(\"1. Encrypt your message using multiplicative cipher.\")\n",
        "  print(\"2. Decrypt your message using multiplicative cipher.\")\n",
        "  print(\"3. Cryptoanalysis of multiplicative cipher.\")\n",
        "  print(\"4. Exit\")"
      ]
    },
    {
      "cell_type": "code",
      "execution_count": null,
      "metadata": {
        "id": "R8A5YUJ16LG4"
      },
      "outputs": [],
      "source": [
        "def main():\n",
        "  #driver function\n",
        "  while(True):\n",
        "    menu() #printing menu\n",
        "    ch=input(\"Enter your choice: \")\n",
        "    \n",
        "    #checking if user entered a valid choice\n",
        "    while ch not in ['1','2','3','4']:\n",
        "      ch=input(\"Wrong choice, Enter again: \")\n",
        "\n",
        "    #clearing screen for upcoming operation\n",
        "    clear_output()\n",
        "\n",
        "    #if user wants to exit\n",
        "    if ch=='4':      \n",
        "      print(\"GoodBye!!!\")\n",
        "      break\n",
        "    else:\n",
        "\n",
        "      #encryption using multiplicative cipher\n",
        "      if ch=='1':\n",
        "        #taking key from user for encryption\n",
        "        key = key_inp(1) \n",
        "        #taking message from user for encryption\n",
        "        text = message_inp(\"Enter your plain text: \")\n",
        "        print(\"Your ciphered text is :\",multiplicative_cipher(key,text))\n",
        "      \n",
        "      #decryption using multiplicative cipher\n",
        "      elif ch=='2':\n",
        "        #taking key from user for decryption\n",
        "        key = key_inp(-1)\n",
        "        #taking message from user for decryption\n",
        "        text = message_inp(\"Enter your ciphered text: \")\n",
        "        print(\"Your plain text is :\",multiplicative_cipher(key,text))\n",
        "      \n",
        "      #cryptoanalysis of ciphered text using multiplicative cipher\n",
        "      else:\n",
        "        #taking cipher text from user for cryptoanalysis\n",
        "        text = message_inp(\"Enter your cipher text for cryptoanalysis: \")\n",
        "        crypt_analysis_mult_cipher(text)"
      ]
    },
    {
      "cell_type": "code",
      "execution_count": null,
      "metadata": {
        "colab": {
          "base_uri": "https://localhost:8080/"
        },
        "id": "DMzNMqfV-LeT",
        "outputId": "92848693-3cd4-4ad9-d7b8-0c2177e376c1"
      },
      "outputs": [
        {
          "output_type": "stream",
          "name": "stdout",
          "text": [
            "GoodBye!!!\n"
          ]
        }
      ],
      "source": [
        "main() #calling of driver function"
      ]
    }
  ],
  "metadata": {
    "colab": {
      "provenance": [],
      "collapsed_sections": [
        "nQ_L9wsp20q8",
        "Jtzbv50t28Yj",
        "4oJV7xSW3BKA",
        "j_Y2wdxj3Fau",
        "Xn9wA1ZP3KzB"
      ]
    },
    "kernelspec": {
      "display_name": "Python 3",
      "name": "python3"
    },
    "language_info": {
      "name": "python"
    }
  },
  "nbformat": 4,
  "nbformat_minor": 0
}