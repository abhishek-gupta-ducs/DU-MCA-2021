{
  "nbformat": 4,
  "nbformat_minor": 0,
  "metadata": {
    "colab": {
      "provenance": [],
      "collapsed_sections": [
        "8jSD--J2qrHB",
        "WLvhogXm1-sV",
        "dZFjOUsJ8nxk",
        "4oZUmNXGKYjS"
      ]
    },
    "kernelspec": {
      "name": "python3",
      "display_name": "Python 3"
    },
    "language_info": {
      "name": "python"
    }
  },
  "cells": [
    {
      "cell_type": "markdown",
      "source": [
        "# Basic eucleadean theorem:-\n",
        "Keep dividing small number from large number until we get remainder 0"
      ],
      "metadata": {
        "id": "8jSD--J2qrHB"
      }
    },
    {
      "cell_type": "code",
      "source": [
        "from IPython.display import clear_output "
      ],
      "metadata": {
        "id": "eMGrKQiFnfT5"
      },
      "execution_count": null,
      "outputs": []
    },
    {
      "cell_type": "code",
      "source": [
        "def gcd(a:int,b:int):\n",
        "  '''greatest common divisor function will return the gcd of two numbers a and b using basic eucleadean theorem.'''\n",
        "  if a==0:\n",
        "    return b\n",
        "  else:\n",
        "    return gcd(b%a,a)"
      ],
      "metadata": {
        "id": "7bZWOmw9q5Nf"
      },
      "execution_count": null,
      "outputs": []
    },
    {
      "cell_type": "markdown",
      "source": [
        "# Extended eucleadean theorem"
      ],
      "metadata": {
        "id": "WLvhogXm1-sV"
      }
    },
    {
      "cell_type": "code",
      "source": [
        "def mult_inverse(A:int,B:int):\n",
        "  '''\n",
        "    multiplicative inverse function will take two arguments A and B and will find the multiplicative inverse of them using extended eucleadean theorem.\n",
        "  '''\n",
        "  if(gcd(A,B)!=1):\n",
        "    return -1\n",
        "  else:\n",
        "    a,b=max(A,B),min(A,B)\n",
        "    t1=0\n",
        "    t2=1\n",
        "    q=int(a/b)\n",
        "    r=a%b\n",
        "    t=t1-(t2*q)\n",
        "    print('q a b r t1 t2 t\\n')\n",
        "    print(q,a,b,r,t1,t2,t,\"\\n\")\n",
        "    while(r!=0):\n",
        "      a=b\n",
        "      b=r\n",
        "      t1=t2\n",
        "      t2=t\n",
        "      q=int(a/b)\n",
        "      r=a%b\n",
        "      t=t1-(t2*q)\n",
        "      print(q,a,b,r,t1,t2,t,\"\\n\")\n",
        "    if(t2<0):\n",
        "      return t2+max(A,B)\n",
        "    else:\n",
        "      return t2"
      ],
      "metadata": {
        "id": "44CMCguH2X9W"
      },
      "execution_count": null,
      "outputs": []
    },
    {
      "cell_type": "markdown",
      "source": [
        "\n",
        "# Additive cipher"
      ],
      "metadata": {
        "id": "dZFjOUsJ8nxk"
      }
    },
    {
      "cell_type": "code",
      "source": [
        "s_alpha = dict()\n",
        "l_alpha = dict()\n",
        "digit = list()\n",
        "A=range(0,26)\n",
        "B=range(97,123)\n",
        "C=range(65,91)\n",
        "s_alpha={x:chr(y) for (x,y) in zip(A,B)}\n",
        "l_alpha={x:chr(y) for (x,y) in zip(A,C)}\n",
        "digit=[str(x) for x in range(0,10)]"
      ],
      "metadata": {
        "id": "qtJwvAg5_DiS"
      },
      "execution_count": null,
      "outputs": []
    },
    {
      "cell_type": "code",
      "source": [
        "def get_key(val:int,my_dict:dict()):\n",
        "  '''get_key function take value and dictionary as argument and return the key of the value in that dictionary'''\n",
        "  for key, value in my_dict.items():\n",
        "    if val == value:\n",
        "      return key\n",
        "  return \"key doesn't exist\""
      ],
      "metadata": {
        "id": "0vseQ-bLBZuB"
      },
      "execution_count": null,
      "outputs": []
    },
    {
      "cell_type": "code",
      "source": [
        "def frequency(text:str)->dict():\n",
        "  '''\n",
        "    frequency function take text as parameter\n",
        "    and return table of dictionary datatype with\n",
        "    letter of string as key and frequency of letter\n",
        "    as it's value.\n",
        "  '''\n",
        "  table = dict()\n",
        "  text = text.upper()\n",
        "  for x in text:\n",
        "    if x in table.keys():\n",
        "      table[x]+=1\n",
        "    else:\n",
        "      table.update({x:1})\n",
        "  val = list(table.values())\n",
        "  val = [round((i/len(text)*100),2) for i in val]\n",
        "  key = list(table.keys())\n",
        "  table = {key[i]:val[i] for i in range(len(table))}\n",
        "  return table"
      ],
      "metadata": {
        "id": "MP9hMHKaoBfy"
      },
      "execution_count": null,
      "outputs": []
    },
    {
      "cell_type": "code",
      "source": [
        "def additive_cipher(key:int,text:str,type:int=1):\n",
        "  '''\n",
        "     additive_encrypt function takes \n",
        "     key->Key of the additive cipher, \n",
        "     text->Cipher text in case of decryption and Plain text in case of encryption \n",
        "     type->1 for encryption and -1 for decryption.\n",
        "  '''\n",
        "  if type not in [-1,1]:\n",
        "    return \"Error wrong function type. use 1 for encryption and -1 for decryption\"\n",
        "  converted_text = \"\"\n",
        "  for x in text:\n",
        "    if(x in digit):\n",
        "      index = (int(x)+type*key)%10\n",
        "      converted_text+=digit[index]\n",
        "    elif(x.islower()):\n",
        "      p = get_key(x,s_alpha)\n",
        "      index = (p+type*key)%26\n",
        "      converted_text+=s_alpha[index]\n",
        "    elif(x.isupper()):\n",
        "      p = get_key(x,l_alpha)\n",
        "      index = (p+type*key)%26\n",
        "      converted_text+=l_alpha[index]\n",
        "    #else:\n",
        "      #converted_text+=x\n",
        "  return converted_text"
      ],
      "metadata": {
        "id": "BPZbA_7l8rvE"
      },
      "execution_count": null,
      "outputs": []
    },
    {
      "cell_type": "markdown",
      "source": [
        "#Cryptanalysis of Additive Cipher"
      ],
      "metadata": {
        "id": "dDDoIGGZ5Ke6"
      }
    },
    {
      "cell_type": "code",
      "source": [
        "def crypt_analysis_additive_cipher(cipher_text:str):\n",
        "  '''cryptoanalysis(Brute Force Method) function of additive cipher. It takes cipher text as argument and \n",
        "     returns all possible plain text , can be decrypted from the cipher text with keys range 0 to 25.'''\n",
        "  for i in range(0,26):\n",
        "    print(\"For Key =\",i,\":\",additive_cipher(i,cipher_text,-1))"
      ],
      "metadata": {
        "id": "Ot8pPmG_LdiQ"
      },
      "execution_count": null,
      "outputs": []
    },
    {
      "cell_type": "code",
      "source": [
        "def freq_cryptoanalysis(txt:str):\n",
        "  '''cryptoanalysis(single-letter frequency attack Method) function of additive cipher. It takes cipher text as argument and \n",
        "     returns all possible plain text , can be decrypted from the cipher text after statistical analysis'''\n",
        "  elf = 'ETAOINSRHDLUCMFYWGPBVKXQJZ'\n",
        "  feq = frequency(txt)\n",
        "  sorted_freq_list = sorted(feq.items(),key = lambda kv:(kv[1],kv[0]),reverse=True)\n",
        "  for x in range(10):\n",
        "    key = (ord(sorted_freq_list[0][0])-ord(elf[x]))%26\n",
        "    print(f\"For key = {key} : {additive_cipher(key,txt,-1)}\")"
      ],
      "metadata": {
        "id": "5s6kGi0foJNZ"
      },
      "execution_count": null,
      "outputs": []
    },
    {
      "cell_type": "markdown",
      "source": [
        "#Main Function"
      ],
      "metadata": {
        "id": "ZcIpSlwc5QMR"
      }
    },
    {
      "cell_type": "code",
      "source": [
        "def num_input(message:str):\n",
        "  '''num_input function will take input screen message as argument and return an integer only.'''\n",
        "  try:\n",
        "    num = int(input(message))\n",
        "  except ValueError:\n",
        "    print(\"You are supposed to enter a integer\")\n",
        "    return num_input(message)\n",
        "  else:\n",
        "    return num"
      ],
      "metadata": {
        "id": "mXG8lpzArFD7"
      },
      "execution_count": null,
      "outputs": []
    },
    {
      "cell_type": "code",
      "source": [
        "def menu():\n",
        "  \"\"\"menu function of lab 2 program.\"\"\"\n",
        "  print(\"Menu of Lab-2, Information technology.\")\n",
        "  print(\"1. to Calculate GCD of two numbers.\")\n",
        "  print(\"2. to Calculate multiplicative inverse of two numbers , using extended eucleadean theorem.\")\n",
        "  print(\"3. to Encrypt a plain text into cipher text using additive cipher.\")\n",
        "  print(\"4. to Decrypt a cipher text into plain text using additive cipher.\")\n",
        "  print(\"5. to Cryptoanalysis of a cipher text, encrypted by Additive cipher(Using Brute Force Attack).\")\n",
        "  print(\"6. to Cryptoanalysis of a cipher text, encrypted by Additive cipher(Using single-letter frequency Attack).\")\n",
        "  print(\"7. to Exit \")\n",
        "  return"
      ],
      "metadata": {
        "id": "l6ci_WYUKC4N"
      },
      "execution_count": null,
      "outputs": []
    },
    {
      "cell_type": "markdown",
      "source": [
        "# main function"
      ],
      "metadata": {
        "id": "4oZUmNXGKYjS"
      }
    },
    {
      "cell_type": "code",
      "source": [
        "def main():\n",
        "  '''Driver code of program.'''\n",
        "  while(True):\n",
        "    menu() #to print menu of our program\n",
        "    ch = input(\"Enter your choice: \") #taking user choice\n",
        "    while ch not in ['1','2','3','4','5','6','7']: #checking if user entered a valid choice\n",
        "      ch = input(\"Wrong choice enter again: \")\n",
        "    if ch=='7': #if user wants to exit\n",
        "      clear_output() #it will clear the output screen\n",
        "      print(\"Goodbye !!!\")\n",
        "      break\n",
        "    else:\n",
        "      clear_output()\n",
        "      if ch=='1':\n",
        "        #if user want to calculate gcd of two numbers\n",
        "        a = num_input(\"Enter first number: \")\n",
        "        b = num_input(\"Enter second number: \")\n",
        "        print(f\"GCD({a},{b}) = {gcd(abs(a),abs(b))}\")\n",
        "      elif ch=='2':\n",
        "        #if user want to calculate multiplicative inverse of A mod B\n",
        "        a = num_input(\"Enter first number: \")\n",
        "        b = num_input(\"Enter second number: \")\n",
        "        if(mult_inverse(a,b)==-1):\n",
        "          #if multiplicative inverse is -1, that it does not exist.\n",
        "          print(f\"Multiplicative inverse not exit because gcd({a},{b}) is not 1.\")\n",
        "          continue\n",
        "        print(f\"Multiplicative inverse of {a} mod {b} = {mult_inverse(a,b)}\")\n",
        "      elif ch=='3':\n",
        "        #encryption using additive cipher\n",
        "        pt = input(\"Enter your message: \")\n",
        "        k = num_input(\"Enter key: \")\n",
        "        ct = additive_cipher(k,pt)\n",
        "        print(f\"Your cipher text is : \\n{ct}\")\n",
        "      elif ch=='4':\n",
        "        #decryption using additive cipher\n",
        "        ct = input(\"Enter your encrypted message: \")\n",
        "        k = num_input(\"Enter key: \")\n",
        "        pt = additive_cipher(k,ct,-1)\n",
        "        print(f\"Your plain text is : \\n{pt}\")\n",
        "      elif ch=='5' or ch=='6':\n",
        "        #cryptoanalysis of encrypted message using additive cipher\n",
        "        ct = input(\"Enter your encrypted message: \")\n",
        "        print(\"following are the all possible decrypted messages with their respective key : \\n\")\n",
        "        if ch=='5':\n",
        "          crypt_analysis_additive_cipher(ct)\n",
        "        else:\n",
        "          freq_cryptoanalysis(ct)"
      ],
      "metadata": {
        "id": "iv7sOcBJckKd"
      },
      "execution_count": null,
      "outputs": []
    },
    {
      "cell_type": "code",
      "source": [
        "main() #calling of driver code"
      ],
      "metadata": {
        "colab": {
          "base_uri": "https://localhost:8080/"
        },
        "id": "VnNXjtIhdK_D",
        "outputId": "09194f00-da0a-409b-a6c7-eba762a9a92b"
      },
      "execution_count": null,
      "outputs": [
        {
          "output_type": "stream",
          "name": "stdout",
          "text": [
            "Goodbye !!!\n"
          ]
        }
      ]
    }
  ]
}