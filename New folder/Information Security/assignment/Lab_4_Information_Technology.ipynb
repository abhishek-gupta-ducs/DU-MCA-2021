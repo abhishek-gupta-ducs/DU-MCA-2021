{
  "cells": [
    {
      "cell_type": "markdown",
      "source": [
        "\n",
        "\n",
        "# Importing libraries and defining errors\n",
        "\n"
      ],
      "metadata": {
        "id": "GrI7uqg12O4h"
      }
    },
    {
      "cell_type": "code",
      "execution_count": null,
      "metadata": {
        "id": "M_aXkSfl6pDl"
      },
      "outputs": [],
      "source": [
        "from IPython.display import clear_output \n",
        "import numpy as np"
      ]
    },
    {
      "cell_type": "code",
      "execution_count": null,
      "metadata": {
        "id": "gKJzo9yRs-YW"
      },
      "outputs": [],
      "source": [
        "class Error(Exception):\n",
        "  '''Base class for user defined errors'''\n",
        "  pass"
      ]
    },
    {
      "cell_type": "code",
      "execution_count": null,
      "metadata": {
        "id": "FbZ9xZ6csEpB"
      },
      "outputs": [],
      "source": [
        "class keyInverseError(Error):\n",
        "  '''Raised when inverse of key does not exist'''\n",
        "  pass"
      ]
    },
    {
      "cell_type": "code",
      "execution_count": null,
      "metadata": {
        "id": "-tpAm0SA8nYn"
      },
      "outputs": [],
      "source": [
        "class NoTextEntered(Error):\n",
        "  '''Raised when user enter a empty text'''\n",
        "  pass"
      ]
    },
    {
      "cell_type": "code",
      "execution_count": null,
      "metadata": {
        "id": "TejDfN9AE8at"
      },
      "outputs": [],
      "source": [
        "class KeyOutOfRange(Error):\n",
        "  '''Raised an error when key is out of domain'''"
      ]
    },
    {
      "cell_type": "markdown",
      "source": [
        "# GCD and Multiplicative Inverse function"
      ],
      "metadata": {
        "id": "62TTSrd22Z1r"
      }
    },
    {
      "cell_type": "code",
      "execution_count": null,
      "metadata": {
        "id": "Eu6zwgERZ5kp"
      },
      "outputs": [],
      "source": [
        "def gcd(a:int,b:int):\n",
        "  '''greatest common divisor function will return the gcd of two numbers a and b using basic eucleadean theorem.'''\n",
        "  if a==0:\n",
        "    return b\n",
        "  else:\n",
        "    return gcd(b%a,a)"
      ]
    },
    {
      "cell_type": "code",
      "execution_count": null,
      "metadata": {
        "id": "FCeDhvQ6mBpm"
      },
      "outputs": [],
      "source": [
        "def mult_inverse(A:int,B:int):\n",
        "  '''\n",
        "    multiplicative inverse function will take two arguments A and B and will find the multiplicative inverse of them using extended eucleadean theorem.\n",
        "  '''\n",
        "  if(gcd(abs(A),B)!=1):\n",
        "    return -1\n",
        "  else:\n",
        "    a,b=max(A,B),min(A,B)\n",
        "    t1=0\n",
        "    t2=1\n",
        "    q=int(a/b)\n",
        "    r=a%b\n",
        "    t=t1-(t2*q)\n",
        "    #print('q a b r t1 t2 t\\n')\n",
        "    #print(q,a,b,r,t1,t2,t,\"\\n\")\n",
        "    while(r!=0):\n",
        "      a=b\n",
        "      b=r\n",
        "      t1=t2\n",
        "      t2=t\n",
        "      q=int(a/b)\n",
        "      r=a%b\n",
        "      t=t1-(t2*q)\n",
        "      #print(q,a,b,r,t1,t2,t,\"\\n\")\n",
        "    if(t2<0):\n",
        "      return t2+max(A,B)\n",
        "    else:\n",
        "      return t2"
      ]
    },
    {
      "cell_type": "code",
      "execution_count": null,
      "metadata": {
        "id": "udFaOhdQmEVN"
      },
      "outputs": [],
      "source": [
        "s_alpha = dict()\n",
        "A=range(0,26)\n",
        "B=range(97,123)\n",
        "s_alpha={x:chr(y) for (x,y) in zip(A,B)}"
      ]
    },
    {
      "cell_type": "code",
      "execution_count": null,
      "metadata": {
        "id": "QniisHmJmJfl"
      },
      "outputs": [],
      "source": [
        "def get_alpha(val:int,my_dict:dict()):\n",
        "  '''get_key function take value and dictionary as argument and return the key of the value in that dictionary'''\n",
        "  for key, value in my_dict.items():\n",
        "    if val == value:\n",
        "      return key\n",
        "  return \"key doesn't exist\""
      ]
    },
    {
      "cell_type": "markdown",
      "source": [
        "#Affine cipher"
      ],
      "metadata": {
        "id": "57cH6Q8j2i29"
      }
    },
    {
      "cell_type": "code",
      "execution_count": null,
      "metadata": {
        "id": "-iNetVHPmMfd"
      },
      "outputs": [],
      "source": [
        "def affine_cipher(key_1:int,key_2:int,text:str,type:int=1):\n",
        "  '''\n",
        "     affine_cipher function \n",
        "     converted text = (key_1*text + type*key_2)%26\n",
        "     it takes \n",
        "     key_1->Key for multiplication,\n",
        "     key_2->Key for addition. \n",
        "     text->Cipher text in case of decryption and Plain text in case of encryption \n",
        "     type-> 1 for encryption , -1 for decryption.\n",
        "  '''\n",
        "  text = text.lower()\n",
        "  converted_text = \"\"\n",
        "  if type ==-1:\n",
        "    key_2 = key_2*key_1\n",
        "  for x in text:\n",
        "    if(x in ['0','1','2','3','4','5','6','7','8','9']):\n",
        "      converted_text+=x\n",
        "    elif(x.islower()):\n",
        "      p = get_alpha(x,s_alpha)\n",
        "      index = ((key_1*p)+(type*key_2))%26\n",
        "      converted_text+=s_alpha[index]\n",
        "  return converted_text"
      ]
    },
    {
      "cell_type": "code",
      "execution_count": null,
      "metadata": {
        "id": "5QKRxJ4brfzX"
      },
      "outputs": [],
      "source": [
        "def key_inp(message:str,type:int=1):\n",
        "  '''key_inp will take type as parameter\n",
        "      if type=0, then it will return a valid key_2 \n",
        "      if type=1, then it will return a valid key_1 for encryption.\n",
        "      if type=2, then it will return inverse of a valid key_1 for decryption\n",
        "  '''\n",
        "  try:\n",
        "    key=int(input(message))\n",
        "    if key not in range(0,26):\n",
        "      #if key is not between 0 to 25\n",
        "      raise KeyOutOfRange\n",
        "    if type!=0:\n",
        "      keyI = mult_inverse(key,26)\n",
        "      if keyI==-1:\n",
        "        #if inverse of key does not exist\n",
        "        raise keyInverseError\n",
        "      else:\n",
        "        if type==1:\n",
        "          return key\n",
        "        else:\n",
        "          return keyI\n",
        "    else:\n",
        "      return key\n",
        "  except keyInverseError:\n",
        "    print('Invalid key because inverse of key does not exist')\n",
        "    return key_inp(message,type)\n",
        "  except KeyOutOfRange:\n",
        "    print('Key should be in range of 0 to 25.')\n",
        "    return key_inp(message,type)\n",
        "  except ValueError:\n",
        "    #if user enter anything except integer\n",
        "    print('Invalid input')\n",
        "    return key_inp(message,type)"
      ]
    },
    {
      "cell_type": "code",
      "execution_count": null,
      "metadata": {
        "id": "EdAuMy1V8S3I"
      },
      "outputs": [],
      "source": [
        "def message_inp(message:str):\n",
        "  '''message_inp function will take message for input taking screen as parameter and returns the valid message'''\n",
        "  try:\n",
        "    text = input(message)\n",
        "    if(text==\"\"): #if user entered a empty message\n",
        "      raise NoTextEntered\n",
        "    else:\n",
        "      return text.lower()\n",
        "  except NoTextEntered:\n",
        "    print(\"You did not entered anything. Please try Again !!!\")\n",
        "    return message_inp(message)"
      ]
    },
    {
      "cell_type": "markdown",
      "source": [
        "#Cryptanalysis of affine cipher"
      ],
      "metadata": {
        "id": "SqchBhb02opz"
      }
    },
    {
      "cell_type": "code",
      "execution_count": null,
      "metadata": {
        "id": "xzxkch4s_yBg"
      },
      "outputs": [],
      "source": [
        "def crypt_analysis_affine_cipher(text: str,pt:str='',ct:str=''):\n",
        "  '''crypt_analysis_mult_cipher function will take ciphered text as parameter and return all possible plain text with valid keys'''\n",
        "  for i in range(0,26):\n",
        "    keyI = mult_inverse(i,26) #finding multiplicative inverse of key\n",
        "    if(keyI==-1):\n",
        "      #if inverse does not exist for a key\n",
        "      continue\n",
        "    else:\n",
        "      #if inverse exist for a key\n",
        "      if (pt=='' or ct==''):\n",
        "        #if no pt-ct pair are given\n",
        "        for j in range(0,26):\n",
        "          print(f\"for key_1 = {i} & key_2 = {j}, plain text is : {affine_cipher(keyI,j,text,-1)}\")\n",
        "      elif(len(pt)==1):\n",
        "        #if only single letter ct-pt pair given\n",
        "        for j in range(0,26):\n",
        "          if(affine_cipher(keyI,j,ct,-1)==pt):\n",
        "            print(f\"for key_1 = {i} & key_2 = {j}, plain text is : {affine_cipher(keyI,j,text,-1)}\")\n",
        "      else:\n",
        "        decoding_CT_PT_pair(text,pt,ct)\n",
        "        break"
      ]
    },
    {
      "cell_type": "code",
      "execution_count": null,
      "metadata": {
        "id": "xwsCJAw3pqqk"
      },
      "outputs": [],
      "source": [
        "def decoding_CT_PT_pair(text:str,pt:str,ct:str):\n",
        "  '''Function to decode the given ct-pt pair.\n",
        "      it will take:\n",
        "      text->cipher text\n",
        "      pt,ct->given pt-ct pair\n",
        "      it will calculate key_1 and key_2 with the help of ct-pt pair and return the deciphered text or plain text.\n",
        "  '''\n",
        "  pt,ct=pt.lower(),ct.lower()\n",
        "  sol = eq_solver(get_alpha(pt[0],s_alpha),get_alpha(pt[1],s_alpha),get_alpha(ct[0],s_alpha),get_alpha(ct[1],s_alpha))\n",
        "  print(f\"Plain text after cryptoanalysis: {affine_cipher(mult_inverse(sol[0],26),sol[1],text,-1)}\")"
      ]
    },
    {
      "cell_type": "code",
      "execution_count": null,
      "metadata": {
        "id": "oFwYdgx8tCCU"
      },
      "outputs": [],
      "source": [
        "def eq_solver(x1:int,x2:int,y1:int,y2:int):\n",
        "  '''eq_solver function to solve equation:\n",
        "        y1 = (key_1 * x1) + key_2\n",
        "        y2 = (key_1 * x2) + key_2 \n",
        "        it will return the solution as numpy array [key_1,key_2]\n",
        "  '''\n",
        "  A = np.array([[x1,1],[x2,1]])\n",
        "  b = np.array([y1,y2])\n",
        "  return np.linalg.solve(A, b)"
      ]
    },
    {
      "cell_type": "markdown",
      "source": [
        "#Main program"
      ],
      "metadata": {
        "id": "HV12Ep1K2t65"
      }
    },
    {
      "cell_type": "code",
      "execution_count": null,
      "metadata": {
        "id": "NTPtAiAK5h5j"
      },
      "outputs": [],
      "source": [
        "def menu():\n",
        "  '''menu function to print menu of our program.'''\n",
        "  print(\"~~~~~~~~~~~~Menu~~~~~~~~~~~~\")\n",
        "  print(\"1. Encrypt your message using affine cipher.\")\n",
        "  print(\"2. Decrypt your message using affine cipher.\")\n",
        "  print(\"3. Cryptoanalysis of affine cipher.\")\n",
        "  print(\"4. Exit\")"
      ]
    },
    {
      "cell_type": "code",
      "execution_count": null,
      "metadata": {
        "id": "R8A5YUJ16LG4"
      },
      "outputs": [],
      "source": [
        "def main():\n",
        "  #driver function\n",
        "  while(True):\n",
        "    menu() #printing menu\n",
        "    ch=input(\"Enter your choice: \")\n",
        "    \n",
        "    #checking if user entered a valid choice\n",
        "    while ch not in ['1','2','3','4']:\n",
        "      ch=input(\"Wrong choice, Enter again: \")\n",
        "\n",
        "    #clearing screen for upcoming operation\n",
        "    clear_output()\n",
        "\n",
        "    #if user wants to exit\n",
        "    if ch=='4':      \n",
        "      print(\"GoodBye!!!\")\n",
        "      break\n",
        "    else:\n",
        "\n",
        "      #encryption using affine cipher\n",
        "      if ch=='1':\n",
        "        #taking key_1 from user for encryption\n",
        "        key_1 = key_inp(\"Enter key_1 : \",1)\n",
        "        #taking key_2 from user for encryption\n",
        "        key_2 = key_inp(\"Enter key_2 : \",0) \n",
        "        #taking message from user for encryption\n",
        "        text = message_inp(\"Enter your plain text: \")\n",
        "        print(\"Your ciphered text is :\",affine_cipher(key_1,key_2,text))\n",
        "      \n",
        "      #decryption using affine cipher\n",
        "      elif ch=='2':\n",
        "        #taking key from user for decryption\n",
        "        key_1 = key_inp(\"Enter key_1 : \",2)\n",
        "        key_2 = key_inp(\"Enter key_2 : \",0)\n",
        "        #taking message from user for decryption\n",
        "        text = message_inp(\"Enter your ciphered text: \")\n",
        "        print(\"Your plain text is :\",affine_cipher(key_1,key_2,text,-1))\n",
        "      \n",
        "      #cryptoanalysis of ciphered text using affine cipher\n",
        "      else:\n",
        "        #taking cipher text from user for cryptoanalysis\n",
        "        text = message_inp(\"Enter your cipher text for cryptoanalysis: \")\n",
        "        user_ch = message_inp(\"Do you have any ct-pt pair ? (Y/N): \").lower()\n",
        "        if user_ch =='y' or user_ch == '0' or user_ch =='yes':\n",
        "          pt = message_inp(\"Enter plain text of known pt-ct pair: \").lower()\n",
        "          ct = message_inp(\"Enter cipher text of known pt-ct pair: \").lower()\n",
        "          if(len(pt)==len(ct)):\n",
        "            crypt_analysis_affine_cipher(text,pt,ct)\n",
        "          else:\n",
        "            n=min(len(pt),len(ct))\n",
        "            crypt_analysis_affine_cipher(text,pt[0:n],ct[0:n])\n",
        "        else:\n",
        "          crypt_analysis_affine_cipher(text)"
      ]
    },
    {
      "cell_type": "code",
      "execution_count": null,
      "metadata": {
        "colab": {
          "base_uri": "https://localhost:8080/"
        },
        "id": "DMzNMqfV-LeT",
        "outputId": "c2c143c3-7aac-410c-bba2-27fa3485a54b"
      },
      "outputs": [
        {
          "output_type": "stream",
          "name": "stdout",
          "text": [
            "GoodBye!!!\n"
          ]
        }
      ],
      "source": [
        "main() #calling of driver function"
      ]
    }
  ],
  "metadata": {
    "colab": {
      "collapsed_sections": [
        "GrI7uqg12O4h",
        "62TTSrd22Z1r",
        "SqchBhb02opz"
      ],
      "provenance": []
    },
    "kernelspec": {
      "display_name": "Python 3",
      "name": "python3"
    },
    "language_info": {
      "name": "python"
    }
  },
  "nbformat": 4,
  "nbformat_minor": 0
}